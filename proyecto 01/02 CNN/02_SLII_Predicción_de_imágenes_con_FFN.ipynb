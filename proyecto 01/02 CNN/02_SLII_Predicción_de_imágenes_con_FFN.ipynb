{
  "nbformat": 4,
  "nbformat_minor": 0,
  "metadata": {
    "colab": {
      "name": "02 - SLII - Predicción de imágenes con FFN",
      "provenance": []
    },
    "kernelspec": {
      "name": "python3",
      "display_name": "Python 3"
    },
    "language_info": {
      "name": "python"
    }
  },
  "cells": [
    {
      "cell_type": "code",
      "metadata": {
        "id": "EI153htdVGuJ"
      },
      "source": [
        "import cv2\n",
        "import numpy as np\n",
        "import matplotlib.pyplot as plt\n",
        "import pandas as pd\n",
        "import keras\n",
        "import tensorflow as tf\n",
        "from keras import layers\n",
        "from sklearn.model_selection import train_test_split\n",
        "from keras_preprocessing.image import ImageDataGenerator\n",
        "from keras.preprocessing.image import load_img\n",
        "from keras.preprocessing.image import img_to_array\n",
        "from keras.preprocessing.image import array_to_img\n",
        "from keras.models import Sequential\n",
        "from keras.layers import Dense\n",
        "from keras.layers import Conv2D\n",
        "from keras.layers import MaxPool2D\n",
        "from keras.layers import Flatten\n",
        "from keras.callbacks import EarlyStopping, ModelCheckpoint"
      ],
      "execution_count": 1,
      "outputs": []
    },
    {
      "cell_type": "code",
      "metadata": {
        "colab": {
          "base_uri": "https://localhost:8080/",
          "height": 286
        },
        "id": "9ThF8BmEFwjy",
        "outputId": "8ecf7636-27bd-45d5-c3b8-5f820440a978"
      },
      "source": [
        "img_str = \"img001-001.png\"\n",
        "img = cv2.imread(img_str)\n",
        "plt.imshow(img)\n",
        "gray = cv2.cvtColor(img, cv2.COLOR_BGR2GRAY)\n",
        "plt.imshow(gray, cmap=\"gray\")"
      ],
      "execution_count": null,
      "outputs": [
        {
          "output_type": "execute_result",
          "data": {
            "text/plain": [
              "<matplotlib.image.AxesImage at 0x7fcc890bfc10>"
            ]
          },
          "metadata": {},
          "execution_count": 14
        },
        {
          "output_type": "display_data",
          "data": {
            "image/png": "[encoded data removed]",
            "text/plain": [
              "<Figure size 432x288 with 1 Axes>"
            ]
          },
          "metadata": {
            "needs_background": "light"
          }
        }
      ]
    },
    {
      "cell_type": "code",
      "metadata": {
        "colab": {
          "base_uri": "https://localhost:8080/",
          "height": 285
        },
        "id": "10Rd5nDBGGj2",
        "outputId": "d5a4bc56-2a9b-4ef0-fb02-7877697f3d18"
      },
      "source": [
        "dim = (64, 64)\n",
        "img = cv2.imread(\"img001-001.png\")\n",
        "img = cv2.cvtColor(img, cv2.COLOR_BGR2GRAY)\n",
        "img = cv2.resize(img, dim)\n",
        "plt.imshow(img, cmap=\"gray\")\n",
        "img = img.reshape(4096,)\n",
        "print(img)"
      ],
      "execution_count": null,
      "outputs": [
        {
          "output_type": "stream",
          "name": "stdout",
          "text": [
            "[255 255 255 ... 255 255 255]\n"
          ]
        },
        {
          "output_type": "display_data",
          "data": {
            "image/png": "[encoded data removed]",
            "text/plain": [
              "<Figure size 432x288 with 1 Axes>"
            ]
          },
          "metadata": {
            "needs_background": "light"
          }
        }
      ]
    },
    {
      "cell_type": "code",
      "metadata": {
        "colab": {
          "base_uri": "https://localhost:8080/",
          "height": 285
        },
        "id": "GS9AfXfJGtzZ",
        "outputId": "072d27a0-3cba-434f-e863-f2f650295207"
      },
      "source": [
        "sampleX = np.reshape(img, (64,64))\n",
        "plt.imshow(sampleX, cmap=\"gray\")"
      ],
      "execution_count": null,
      "outputs": [
        {
          "output_type": "execute_result",
          "data": {
            "text/plain": [
              "<matplotlib.image.AxesImage at 0x7fcc88c2ded0>"
            ]
          },
          "metadata": {},
          "execution_count": 24
        },
        {
          "output_type": "display_data",
          "data": {
            "image/png": "[encoded data removed]",
            "text/plain": [
              "<Figure size 432x288 with 1 Axes>"
            ]
          },
          "metadata": {
            "needs_background": "light"
          }
        }
      ]
    },
    {
      "cell_type": "code",
      "metadata": {
        "id": "LSH-LcJ0Tm04"
      },
      "source": [
        "strDataset = 'image.csv'"
      ],
      "execution_count": 2,
      "outputs": []
    },
    {
      "cell_type": "code",
      "metadata": {
        "colab": {
          "base_uri": "https://localhost:8080/"
        },
        "id": "HiG7q1a0NP1n",
        "outputId": "ba6dfa25-1d5c-4e64-b8cc-87fccd048cd9"
      },
      "source": [
        "index = pd.read_csv('english.csv')\n",
        "index.head()\n",
        "index['label']"
      ],
      "execution_count": 3,
      "outputs": [
        {
          "output_type": "execute_result",
          "data": {
            "text/plain": [
              "0       0\n",
              "1       0\n",
              "2       0\n",
              "3       0\n",
              "4       0\n",
              "       ..\n",
              "3405    z\n",
              "3406    z\n",
              "3407    z\n",
              "3408    z\n",
              "3409    z\n",
              "Name: label, Length: 3410, dtype: object"
            ]
          },
          "metadata": {},
          "execution_count": 3
        }
      ]
    },
    {
      "cell_type": "code",
      "metadata": {
        "id": "Nic7hTVbTyi5"
      },
      "source": [
        "dataset = pd.read_csv(strDataset)"
      ],
      "execution_count": 5,
      "outputs": []
    },
    {
      "cell_type": "code",
      "metadata": {
        "id": "_zrRBxSHNhS1"
      },
      "source": [
        "dataset = dataset.iloc[1: , :]"
      ],
      "execution_count": 6,
      "outputs": []
    },
    {
      "cell_type": "code",
      "metadata": {
        "colab": {
          "base_uri": "https://localhost:8080/"
        },
        "id": "nd_uih3zFWhh",
        "outputId": "3ba3f1a8-258d-47ff-bf5e-2e461f67c5fe"
      },
      "source": [
        "dataset.shape"
      ],
      "execution_count": 7,
      "outputs": [
        {
          "output_type": "execute_result",
          "data": {
            "text/plain": [
              "(3410, 4096)"
            ]
          },
          "metadata": {},
          "execution_count": 7
        }
      ]
    },
    {
      "cell_type": "code",
      "metadata": {
        "id": "GWuljZl4UABV"
      },
      "source": [
        "sampleX = dataset.iloc[4, 0:].values\n",
        "sampleX = np.reshape(sampleX, (64,64))"
      ],
      "execution_count": 8,
      "outputs": []
    },
    {
      "cell_type": "code",
      "metadata": {
        "colab": {
          "base_uri": "https://localhost:8080/",
          "height": 285
        },
        "id": "0Mky7iVZVPL1",
        "outputId": "da4ffbde-08c6-4167-c625-33b65b442d3c"
      },
      "source": [
        "plt.imshow(sampleX, cmap=\"gray\")"
      ],
      "execution_count": 9,
      "outputs": [
        {
          "output_type": "execute_result",
          "data": {
            "text/plain": [
              "<matplotlib.image.AxesImage at 0x7f971f1a8610>"
            ]
          },
          "metadata": {},
          "execution_count": 9
        },
        {
          "output_type": "display_data",
          "data": {
            "image/png": "[encoded data removed]",
            "text/plain": [
              "<Figure size 432x288 with 1 Axes>"
            ]
          },
          "metadata": {
            "needs_background": "light"
          }
        }
      ]
    },
    {
      "cell_type": "code",
      "metadata": {
        "id": "khXurKJseQia"
      },
      "source": [
        "from sklearn import preprocessing\n",
        "le = preprocessing.LabelEncoder()\n",
        "y = le.fit_transform(index['label'])"
      ],
      "execution_count": 10,
      "outputs": []
    },
    {
      "cell_type": "code",
      "metadata": {
        "colab": {
          "base_uri": "https://localhost:8080/"
        },
        "id": "wuUmOofIO-5Y",
        "outputId": "63a9402d-80cd-4bac-aa6c-e68ad9104c3d"
      },
      "source": [
        "y"
      ],
      "execution_count": 11,
      "outputs": [
        {
          "output_type": "execute_result",
          "data": {
            "text/plain": [
              "array([ 0,  0,  0, ..., 61, 61, 61])"
            ]
          },
          "metadata": {},
          "execution_count": 11
        }
      ]
    },
    {
      "cell_type": "code",
      "metadata": {
        "id": "t8TH2a9cYvkl"
      },
      "source": [
        "from sklearn.model_selection import train_test_split\n",
        "\n",
        "X = dataset\n",
        "\n",
        "X_train, X_test, y_train, y_test = train_test_split(X, y, test_size=0.3, random_state=42)"
      ],
      "execution_count": 12,
      "outputs": []
    },
    {
      "cell_type": "code",
      "metadata": {
        "id": "9W6_vP-Caf_3"
      },
      "source": [
        "from sklearn.preprocessing import StandardScaler\n",
        "\n",
        "sc = StandardScaler()\n",
        "X_train = sc.fit_transform(X_train)"
      ],
      "execution_count": 13,
      "outputs": []
    },
    {
      "cell_type": "code",
      "metadata": {
        "id": "y_WBAeRMZO0O"
      },
      "source": [
        "from keras.models import Sequential\n",
        "from keras.layers import Dense\n",
        "from keras.layers import Conv2D\n",
        "from keras.layers import MaxPool2D\n",
        "from keras.layers import Flatten"
      ],
      "execution_count": 14,
      "outputs": []
    },
    {
      "cell_type": "code",
      "metadata": {
        "colab": {
          "base_uri": "https://localhost:8080/"
        },
        "id": "JefmpPuSZ0Jr",
        "outputId": "41affc17-e1a5-41ad-fb42-94e7fccd13ac"
      },
      "source": [
        "X_train.shape"
      ],
      "execution_count": 15,
      "outputs": [
        {
          "output_type": "execute_result",
          "data": {
            "text/plain": [
              "(2387, 4096)"
            ]
          },
          "metadata": {},
          "execution_count": 15
        }
      ]
    },
    {
      "cell_type": "markdown",
      "metadata": {
        "id": "YOMqYgi_Zcg9"
      },
      "source": [
        "**ANN**"
      ]
    },
    {
      "cell_type": "code",
      "metadata": {
        "id": "BUZJOx4NZbg1"
      },
      "source": [
        "#ANN\n",
        "ann = Sequential()\n",
        "\n",
        "#capa de entrada\n",
        "ann.add(Dense(input_dim=4096, units=2387, activation='relu', kernel_initializer='uniform'))\n",
        "\n",
        "#primera capa oculta\n",
        "ann.add(Dense(units=5000, activation='relu', kernel_initializer='uniform'))\n",
        "ann.add(layers.BatchNormalization())\n",
        "# Add a Flatten Layer\n",
        "ann.add(layers.Flatten())\n",
        "# Add a Dense layer Layer\n",
        "ann.add(layers.Dense(512, activation = 'relu'))\n",
        "# Add a Dropout Layer\n",
        "ann.add(layers.Dropout(0.5))\n",
        "#capa de salida\n",
        "ann.add(Dense(units=62, activation='softmax'))"
      ],
      "execution_count": 16,
      "outputs": []
    },
    {
      "cell_type": "code",
      "metadata": {
        "id": "XBW4HPvxYbc-"
      },
      "source": [
        "callback_a = ModelCheckpoint(filepath='best_model_ann.h5', monitor='accuracy', save_best_only=True)\n",
        "earlystop = EarlyStopping(monitor='accuracy', min_delta=0, patience=5, verbose=0, mode='auto')"
      ],
      "execution_count": 17,
      "outputs": []
    },
    {
      "cell_type": "code",
      "metadata": {
        "id": "bAKaqp6gZ5_n"
      },
      "source": [
        "ann.compile(optimizer='adam', loss='sparse_categorical_crossentropy', metrics=['accuracy'])"
      ],
      "execution_count": 20,
      "outputs": []
    },
    {
      "cell_type": "code",
      "metadata": {
        "colab": {
          "base_uri": "https://localhost:8080/"
        },
        "id": "ks4PA3sIaAJY",
        "outputId": "ce36ffee-8a97-42e8-f3b1-56d4e945fdf8"
      },
      "source": [
        "history = ann.fit(X, y, epochs=100, callbacks=[callback_a, earlystop])"
      ],
      "execution_count": 22,
      "outputs": [
        {
          "output_type": "stream",
          "name": "stdout",
          "text": [
            "Epoch 1/100\n",
            "107/107 [==============================] - 21s 200ms/step - loss: 3.1159 - accuracy: 0.2249\n",
            "Epoch 2/100\n",
            "107/107 [==============================] - 21s 198ms/step - loss: 2.7047 - accuracy: 0.3062\n",
            "Epoch 3/100\n",
            "107/107 [==============================] - 21s 198ms/step - loss: 2.4259 - accuracy: 0.3595\n",
            "Epoch 4/100\n",
            "107/107 [==============================] - 21s 198ms/step - loss: 2.2599 - accuracy: 0.3965\n",
            "Epoch 5/100\n",
            "107/107 [==============================] - 21s 199ms/step - loss: 2.0417 - accuracy: 0.4393\n",
            "Epoch 6/100\n",
            "107/107 [==============================] - 21s 199ms/step - loss: 1.9129 - accuracy: 0.4730\n",
            "Epoch 7/100\n",
            "107/107 [==============================] - 21s 199ms/step - loss: 1.7951 - accuracy: 0.4927\n",
            "Epoch 8/100\n",
            "107/107 [==============================] - 21s 199ms/step - loss: 1.6714 - accuracy: 0.5320\n",
            "Epoch 9/100\n",
            "107/107 [==============================] - 21s 201ms/step - loss: 1.5737 - accuracy: 0.5607\n",
            "Epoch 10/100\n",
            "107/107 [==============================] - 21s 200ms/step - loss: 1.4439 - accuracy: 0.5865\n",
            "Epoch 11/100\n",
            "107/107 [==============================] - 21s 200ms/step - loss: 1.3551 - accuracy: 0.6026\n",
            "Epoch 12/100\n",
            "107/107 [==============================] - 21s 200ms/step - loss: 1.3025 - accuracy: 0.6199\n",
            "Epoch 13/100\n",
            "107/107 [==============================] - 21s 198ms/step - loss: 1.2326 - accuracy: 0.6361\n",
            "Epoch 14/100\n",
            "107/107 [==============================] - 21s 196ms/step - loss: 1.1602 - accuracy: 0.6548\n",
            "Epoch 15/100\n",
            "107/107 [==============================] - 21s 196ms/step - loss: 1.1135 - accuracy: 0.6657\n",
            "Epoch 16/100\n",
            "107/107 [==============================] - 21s 194ms/step - loss: 1.0364 - accuracy: 0.6933\n",
            "Epoch 17/100\n",
            "107/107 [==============================] - 21s 193ms/step - loss: 0.9921 - accuracy: 0.7044\n",
            "Epoch 18/100\n",
            "107/107 [==============================] - 21s 193ms/step - loss: 0.9752 - accuracy: 0.6965\n",
            "Epoch 19/100\n",
            "107/107 [==============================] - 21s 192ms/step - loss: 0.9024 - accuracy: 0.7191\n",
            "Epoch 20/100\n",
            "107/107 [==============================] - 21s 192ms/step - loss: 0.8785 - accuracy: 0.7290\n",
            "Epoch 21/100\n",
            "107/107 [==============================] - 21s 192ms/step - loss: 0.8272 - accuracy: 0.7481\n",
            "Epoch 22/100\n",
            "107/107 [==============================] - 20s 191ms/step - loss: 0.7632 - accuracy: 0.7651\n",
            "Epoch 23/100\n",
            "107/107 [==============================] - 21s 192ms/step - loss: 0.7452 - accuracy: 0.7625\n",
            "Epoch 24/100\n",
            "107/107 [==============================] - 20s 191ms/step - loss: 0.7231 - accuracy: 0.7736\n",
            "Epoch 25/100\n",
            "107/107 [==============================] - 21s 192ms/step - loss: 0.7363 - accuracy: 0.7736\n",
            "Epoch 26/100\n",
            "107/107 [==============================] - 21s 192ms/step - loss: 0.7093 - accuracy: 0.7795\n",
            "Epoch 27/100\n",
            "107/107 [==============================] - 20s 191ms/step - loss: 0.8005 - accuracy: 0.7516\n",
            "Epoch 28/100\n",
            "107/107 [==============================] - 24s 223ms/step - loss: 1.1849 - accuracy: 0.6584\n",
            "Epoch 29/100\n",
            "107/107 [==============================] - 21s 192ms/step - loss: 1.0072 - accuracy: 0.6965\n",
            "Epoch 30/100\n",
            "107/107 [==============================] - 21s 195ms/step - loss: 0.8268 - accuracy: 0.7419\n",
            "Epoch 31/100\n",
            "107/107 [==============================] - 21s 195ms/step - loss: 0.6957 - accuracy: 0.7830\n",
            "Epoch 32/100\n",
            "107/107 [==============================] - 21s 194ms/step - loss: 0.6350 - accuracy: 0.7988\n",
            "Epoch 33/100\n",
            "107/107 [==============================] - 21s 193ms/step - loss: 0.6212 - accuracy: 0.7965\n",
            "Epoch 34/100\n",
            "107/107 [==============================] - 21s 193ms/step - loss: 0.5525 - accuracy: 0.8214\n",
            "Epoch 35/100\n",
            "107/107 [==============================] - 21s 193ms/step - loss: 0.5346 - accuracy: 0.8302\n",
            "Epoch 36/100\n",
            "107/107 [==============================] - 21s 193ms/step - loss: 0.5441 - accuracy: 0.8246\n",
            "Epoch 37/100\n",
            "107/107 [==============================] - 21s 194ms/step - loss: 0.4853 - accuracy: 0.8431\n",
            "Epoch 38/100\n",
            "107/107 [==============================] - 21s 193ms/step - loss: 0.4733 - accuracy: 0.8499\n",
            "Epoch 39/100\n",
            "107/107 [==============================] - 21s 200ms/step - loss: 0.4568 - accuracy: 0.8516\n",
            "Epoch 40/100\n",
            "107/107 [==============================] - 22s 202ms/step - loss: 0.4546 - accuracy: 0.8499\n",
            "Epoch 41/100\n",
            "107/107 [==============================] - 21s 196ms/step - loss: 0.4574 - accuracy: 0.8543\n",
            "Epoch 42/100\n",
            "107/107 [==============================] - 21s 194ms/step - loss: 0.4465 - accuracy: 0.8481\n",
            "Epoch 43/100\n",
            "107/107 [==============================] - 21s 194ms/step - loss: 0.4681 - accuracy: 0.8490\n",
            "Epoch 44/100\n",
            "107/107 [==============================] - 21s 193ms/step - loss: 0.4251 - accuracy: 0.8666\n",
            "Epoch 45/100\n",
            "107/107 [==============================] - 21s 193ms/step - loss: 0.4509 - accuracy: 0.8557\n",
            "Epoch 46/100\n",
            "107/107 [==============================] - 21s 193ms/step - loss: 0.4127 - accuracy: 0.8654\n",
            "Epoch 47/100\n",
            "107/107 [==============================] - 21s 192ms/step - loss: 0.3881 - accuracy: 0.8701\n",
            "Epoch 48/100\n",
            "107/107 [==============================] - 21s 192ms/step - loss: 0.3677 - accuracy: 0.8827\n",
            "Epoch 49/100\n",
            "107/107 [==============================] - 20s 189ms/step - loss: 0.3377 - accuracy: 0.8909\n",
            "Epoch 50/100\n",
            "107/107 [==============================] - 20s 191ms/step - loss: 0.3483 - accuracy: 0.8886\n",
            "Epoch 51/100\n",
            "107/107 [==============================] - 20s 191ms/step - loss: 0.4028 - accuracy: 0.8727\n",
            "Epoch 52/100\n",
            "107/107 [==============================] - 20s 189ms/step - loss: 0.3738 - accuracy: 0.8777\n",
            "Epoch 53/100\n",
            "107/107 [==============================] - 20s 188ms/step - loss: 0.4115 - accuracy: 0.8680\n",
            "Epoch 54/100\n",
            "107/107 [==============================] - 20s 190ms/step - loss: 0.3614 - accuracy: 0.8801\n"
          ]
        }
      ]
    },
    {
      "cell_type": "code",
      "metadata": {
        "id": "OrGv6vd8fKyK"
      },
      "source": [
        "ann.save('ann2.h5')"
      ],
      "execution_count": null,
      "outputs": []
    },
    {
      "cell_type": "code",
      "metadata": {
        "id": "LA8g7qbQWZJB"
      },
      "source": [
        "plt.plot(history.history['accuracy'])\n",
        "plt.ylabel('accuracy')\n",
        "plt.xlabel('epoch')\n",
        "plt.show()"
      ],
      "execution_count": null,
      "outputs": []
    },
    {
      "cell_type": "code",
      "metadata": {
        "id": "QLCf8nKhwmI-"
      },
      "source": [
        "ann_predicts = ann.predict(X_test)"
      ],
      "execution_count": null,
      "outputs": []
    },
    {
      "cell_type": "code",
      "metadata": {
        "colab": {
          "base_uri": "https://localhost:8080/"
        },
        "id": "p82NgicdyO11",
        "outputId": "86a5d839-bd95-4ca5-bac5-14e66d903cf7"
      },
      "source": [
        "ann_predicts.shape"
      ],
      "execution_count": null,
      "outputs": [
        {
          "output_type": "execute_result",
          "data": {
            "text/plain": [
              "(1023, 62)"
            ]
          },
          "metadata": {},
          "execution_count": 126
        }
      ]
    },
    {
      "cell_type": "code",
      "metadata": {
        "colab": {
          "base_uri": "https://localhost:8080/"
        },
        "id": "QryO9PYkySEP",
        "outputId": "ce04e7aa-6449-4bf8-a2f9-eafef98398eb"
      },
      "source": [
        "ann_predict_vals = np.argmax(ann_predicts, axis=1)\n",
        "ann_predict_vals"
      ],
      "execution_count": null,
      "outputs": [
        {
          "output_type": "execute_result",
          "data": {
            "text/plain": [
              "array([18, 13, 18, ..., 18, 18, 18])"
            ]
          },
          "metadata": {},
          "execution_count": 133
        }
      ]
    },
    {
      "cell_type": "code",
      "metadata": {
        "colab": {
          "base_uri": "https://localhost:8080/"
        },
        "id": "qzVmy1cIbtgG",
        "outputId": "06e1ad81-df66-4177-e87f-13a032d87bfc"
      },
      "source": [
        "y_test"
      ],
      "execution_count": null,
      "outputs": [
        {
          "output_type": "execute_result",
          "data": {
            "text/plain": [
              "array([57, 32,  3, ..., 19, 25, 21])"
            ]
          },
          "metadata": {},
          "execution_count": 134
        }
      ]
    },
    {
      "cell_type": "code",
      "metadata": {
        "colab": {
          "base_uri": "https://localhost:8080/"
        },
        "id": "rwX8V1BQyeuS",
        "outputId": "8d235d9d-58f4-4de0-eea6-a738d3fa3038"
      },
      "source": [
        "from sklearn.metrics import accuracy_score\n",
        "\n",
        "accuracy_score(y_test, ann_predict_vals)"
      ],
      "execution_count": null,
      "outputs": [
        {
          "output_type": "execute_result",
          "data": {
            "text/plain": [
              "0.02932551319648094"
            ]
          },
          "metadata": {},
          "execution_count": 135
        }
      ]
    }
  ]
}