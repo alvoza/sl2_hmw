{
 "cells": [
  {
   "cell_type": "code",
   "execution_count": 1,
   "id": "fee1a5f6-3f84-4442-9550-a9b3765893e8",
   "metadata": {},
   "outputs": [],
   "source": [
    "import cv2\n",
    "import numpy as np\n",
    "import matplotlib.pyplot as plt\n",
    "import pandas as pd"
   ]
  },
  {
   "cell_type": "code",
   "execution_count": 10,
   "id": "6d286bef-0748-4ad1-9e89-4cfe36dd18ff",
   "metadata": {},
   "outputs": [],
   "source": [
    "image_path = 'dataset/'"
   ]
  },
  {
   "cell_type": "code",
   "execution_count": 9,
   "id": "606a999a-51d0-473f-b4c0-f37a6609864a",
   "metadata": {},
   "outputs": [
    {
     "data": {
      "text/plain": [
       "<matplotlib.image.AxesImage at 0x7fdba10b50d0>"
      ]
     },
     "execution_count": 9,
     "metadata": {},
     "output_type": "execute_result"
    }
   ],
   "source": [
    "img_str = image_path + \"img002-006.png\"\n",
    "img = cv2.imread(img_str)\n",
    "plt.imshow(img)\n",
    "gray = cv2.cvtColor(img, cv2.COLOR_BGR2GRAY)\n",
    "plt.imshow(gray, cmap=\"gray\")"
   ]
  },
  {
   "cell_type": "code",
   "execution_count": 7,
   "id": "767b93cc-14c3-406a-8047-ba8ddab7cf62",
   "metadata": {},
   "outputs": [
    {
     "data": {
      "text/plain": [
       "(900, 1200)"
      ]
     },
     "execution_count": 7,
     "metadata": {},
     "output_type": "execute_result"
    }
   ],
   "source": [
    "gray.shape"
   ]
  },
  {
   "cell_type": "code",
   "execution_count": 11,
   "id": "f4c75649-5f80-4661-a7ec-bc94386a072b",
   "metadata": {},
   "outputs": [],
   "source": [
    "df = pd.read_csv('dataset/english.csv')\n",
    "x_dir = df['image']"
   ]
  },
  {
   "cell_type": "code",
   "execution_count": 58,
   "id": "43d8f083-824d-43d2-a240-eced81fc2f1b",
   "metadata": {},
   "outputs": [],
   "source": [
    "x = []\n",
    "dim = (64, 64)\n",
    "for image_ in x_dir:\n",
    "    img = cv2.imread(image_path + image_)\n",
    "    img = cv2.cvtColor(img, cv2.COLOR_BGR2GRAY)\n",
    "    img = cv2.resize(img, dim)\n",
    "    img = img.reshape(1,4096)\n",
    "    x.append(img)"
   ]
  },
  {
   "cell_type": "code",
   "execution_count": 60,
   "id": "84117702-c1e5-4253-8db7-d882866972d1",
   "metadata": {},
   "outputs": [],
   "source": [
    "df = pd.DataFrame(x[0])"
   ]
  },
  {
   "cell_type": "code",
   "execution_count": 61,
   "id": "f8894e34-7b1c-4a50-ab68-f9e565605978",
   "metadata": {},
   "outputs": [
    {
     "data": {
      "text/plain": [
       "(1, 4096)"
      ]
     },
     "execution_count": 61,
     "metadata": {},
     "output_type": "execute_result"
    }
   ],
   "source": [
    "df.shape"
   ]
  },
  {
   "cell_type": "code",
   "execution_count": 67,
   "id": "a2e79596-d0c8-4d7b-9b41-6be0d444e1eb",
   "metadata": {},
   "outputs": [
    {
     "data": {
      "text/plain": [
       "3410"
      ]
     },
     "execution_count": 67,
     "metadata": {},
     "output_type": "execute_result"
    }
   ],
   "source": [
    "len(x)"
   ]
  },
  {
   "cell_type": "code",
   "execution_count": 68,
   "id": "3f1f7e1a-beb5-49a0-9864-100e68eaad71",
   "metadata": {},
   "outputs": [],
   "source": [
    "for i in range(len(x)):\n",
    "    df2 = pd.DataFrame(x[i])\n",
    "    df = df.append(df2, ignore_index = True)"
   ]
  },
  {
   "cell_type": "code",
   "execution_count": 71,
   "id": "d4488414-778d-450e-9d3e-68876bc0262a",
   "metadata": {},
   "outputs": [
    {
     "data": {
      "text/plain": [
       "(3411, 4096)"
      ]
     },
     "execution_count": 71,
     "metadata": {},
     "output_type": "execute_result"
    }
   ],
   "source": [
    "df.shape"
   ]
  },
  {
   "cell_type": "code",
   "execution_count": 70,
   "id": "47e64abd-26c9-4778-bc19-ad6371d2f1d4",
   "metadata": {},
   "outputs": [],
   "source": [
    "df.to_csv('image.csv', index=False)"
   ]
  },
  {
   "cell_type": "code",
   "execution_count": 72,
   "id": "02ffec41-e5cd-4967-bffa-95183d9dedf2",
   "metadata": {},
   "outputs": [],
   "source": [
    "img = cv2.imread('d.jpg')\n",
    "img = cv2.cvtColor(img, cv2.COLOR_BGR2GRAY)\n",
    "img = cv2.resize(img, dim)\n",
    "img = img.reshape(1,4096)"
   ]
  },
  {
   "cell_type": "code",
   "execution_count": 74,
   "id": "9d8802f3-5b1b-4de1-aee9-0782169b0d22",
   "metadata": {},
   "outputs": [],
   "source": [
    "df2 = pd.DataFrame(img)\n",
    "df2.to_csv('image_test.csv', index=False)"
   ]
  },
  {
   "cell_type": "code",
   "execution_count": null,
   "id": "26790602-cacb-4dd6-847a-a8594b36e9ed",
   "metadata": {},
   "outputs": [],
   "source": []
  }
 ],
 "metadata": {
  "kernelspec": {
   "display_name": "Python 3",
   "language": "python",
   "name": "python3"
  },
  "language_info": {
   "codemirror_mode": {
    "name": "ipython",
    "version": 3
   },
   "file_extension": ".py",
   "mimetype": "text/x-python",
   "name": "python",
   "nbconvert_exporter": "python",
   "pygments_lexer": "ipython3",
   "version": "3.8.5"
  }
 },
 "nbformat": 4,
 "nbformat_minor": 5
}
