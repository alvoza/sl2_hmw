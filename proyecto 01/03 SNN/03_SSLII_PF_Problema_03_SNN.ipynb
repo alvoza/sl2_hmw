{
  "nbformat": 4,
  "nbformat_minor": 0,
  "metadata": {
    "accelerator": "GPU",
    "colab": {
      "name": "03 SSLII - PF - Problema 03 - SNN.ipynb",
      "provenance": []
    },
    "kernelspec": {
      "display_name": "Python 3",
      "name": "python3"
    }
  },
  "cells": [
    {
      "cell_type": "markdown",
      "metadata": {
        "id": "9hej1rp3UbYJ"
      },
      "source": [
        "# SSLII - Proyecto Final Secuential Neural Networks"
      ]
    },
    {
      "cell_type": "markdown",
      "metadata": {
        "id": "view-in-github"
      },
      "source": [
        "<a href=\"https://colab.research.google.com/github/lmoroney/dlaicourse/blob/master/TensorFlow%20In%20Practice/Course%203%20-%20NLP/Course%203%20-%20Week%204%20-%20Lesson%202%20-%20Notebook.ipynb\" target=\"_parent\"><img src=\"https://colab.research.google.com/assets/colab-badge.svg\" alt=\"Open In Colab\"/></a>"
      ]
    },
    {
      "cell_type": "code",
      "metadata": {
        "id": "BOwsuGQQY9OL"
      },
      "source": [
        "import tensorflow as tf\n",
        "\n",
        "from tensorflow.keras.preprocessing.sequence import pad_sequences\n",
        "from tensorflow.keras.layers import Embedding, LSTM, Dense, Bidirectional\n",
        "from tensorflow.keras.preprocessing.text import Tokenizer\n",
        "from tensorflow.keras.models import Sequential\n",
        "from tensorflow.keras.optimizers import Adam\n",
        "from keras.callbacks import EarlyStopping, ModelCheckpoint\n",
        "import numpy as np \n",
        "import keras\n",
        "from keras.models import load_model"
      ],
      "execution_count": 2,
      "outputs": []
    },
    {
      "cell_type": "code",
      "metadata": {
        "id": "PRnDnCW-Z7qv",
        "colab": {
          "base_uri": "https://localhost:8080/"
        },
        "outputId": "4a113f24-2f35-4d5c-f7cb-5ae88fe9a23f"
      },
      "source": [
        "tokenizer = Tokenizer()\n",
        "data = open('2. eresarte_20_poemas_de_amor.txt').read()\n",
        "corpus = data.lower().split(\"\\n\")\n",
        "\n",
        "tokenizer.fit_on_texts(corpus)\n",
        "total_words = len(tokenizer.word_index) + 1\n",
        "\n",
        "print(tokenizer.word_index)\n",
        "print(total_words)"
      ],
      "execution_count": 4,
      "outputs": [
        {
          "output_type": "stream",
          "name": "stdout",
          "text": [
            "{'de': 1, 'que': 2, 'la': 3, 'el': 4, 'en': 5, 'y': 6, 'a': 7, 'un': 8, 'mi': 9, 'los': 10, 'me': 11, 'por': 12, 'se': 13, 'con': 14, 'no': 15, 'las': 16, 'como': 17, 'es': 18, 'lo': 19, 'para': 20, 'del': 21, 'te': 22, 'tu': 23, 'al': 24, 'una': 25, 'vida': 26, 'más': 27, 'si': 28, 'ser': 29, 'mis': 30, 'nos': 31, 'todo': 32, 'alma': 33, 'su': 34, 'sin': 35, 'este': 36, 'tiempo': 37, 'ojos': 38, 'amor': 39, 'cuando': 40, 'donde': 41, 'ganas': 42, 'ti': 43, 'arte': 44, 'día': 45, 'yo': 46, 'mas': 47, 'qué': 48, 'tus': 49, 'besos': 50, 'pero': 51, 'noche': 52, 'hace': 53, 'le': 54, 'usted': 55, 'menos': 56, 'cielo': 57, 'recuerdo': 58, 'ni': 59, 'solo': 60, 'luz': 61, 'eres': 62, 'tierra': 63, 'tú': 64, 'ese': 65, 'sueño': 66, 'entre': 67, 'tan': 68, 'deseo': 69, 'café': 70, 'aquel': 71, 'desde': 72, 'hasta': 73, 'o': 74, 'esta': 75, 'corazón': 76, 'son': 77, 'veces': 78, 'mirada': 79, 'mundo': 80, 'ella': 81, 'viento': 82, 'momento': 83, 'sueños': 84, 'ver': 85, 'mejor': 86, 'voz': 87, 'cuerpo': 88, 'sus': 89, 'aquí': 90, 'siempre': 91, 'días': 92, 'versos': 93, 'todos': 94, 'hora': 95, 'nunca': 96, 'fue': 97, 'porque': 98, 'beso': 99, 'poesía': 100, 'mente': 101, 'escribir': 102, 'palabras': 103, 'cafe': 104, 'cada': 105, 'fin': 106, 'hoy': 107, 'ya': 108, 'vivir': 109, 'quiero': 110, 'ah': 111, 'sobre': 112, 'amante': 113, 'silencio': 114, 'otro': 115, 'algo': 116, 'soledad': 117, 'pues': 118, 'soy': 119, 'cosas': 120, 'poemas': 121, 'ha': 122, 'estos': 123, 'he': 124, 'mar': 125, 'color': 126, 'muerte': 127, 'muchos': 128, 'parece': 129, 'vacío': 130, 'mañana': 131, 'realidad': 132, 'quien': 133, 'lejos': 134, 'aún': 135, 'era': 136, 'oh': 137, 'sentir': 138, 'otros': 139, 'instante': 140, 'brazos': 141, 'está': 142, 'poesia': 143, 'quisiera': 144, 'vez': 145, 'boca': 146, 'todas': 147, 'cómo': 148, 'eso': 149, 'somos': 150, 'mía': 151, 'esa': 152, 'nosotros': 153, 'creatividad': 154, 'sea': 155, 'lado': 156, 'amanecer': 157, 'lugar': 158, 'hacia': 159, 'dos': 160, 'otra': 161, 'morir': 162, 'amo': 163, 'despertar': 164, 'manos': 165, 'aun': 166, 'mí': 167, 'sol': 168, 'tanto': 169, 'nadie': 170, 'amigo': 171, 'quién': 172, 'despierta': 173, 'triste': 174, 'volver': 175, 'acuerdo': 176, 'mundos': 177, 'perdido': 178, 'estrellas': 179, 'libro': 180, 'da': 181, 'frente': 182, 'uno': 183, 'mueren': 184, 'tardes': 185, 'extraño': 186, 'nada': 187, 'atardecer': 188, 'mientras': 189, 'sentado': 190, 'deja': 191, 've': 192, 'ayer': 193, 'horas': 194, 'también': 195, 'camino': 196, 'caos': 197, 'sonrisa': 198, 'energía': 199, 'siento': 200, 'puedo': 201, 'agua': 202, 'canta': 203, 'ahi': 204, 'vos': 205, 'verte': 206, 'labios': 207, 'esos': 208, 'corren': 209, 'presencia': 210, 'princesa': 211, 'alvoza': 212, 'noches': 213, 'desperté': 214, 'hambre': 215, 'cama': 216, 'llena': 217, 'espera': 218, 'mío': 219, 'ellos': 220, 'oscura': 221, 'encontrar': 222, 'así': 223, 'él': 224, 'pájaros': 225, 'estás': 226, 'risas': 227, 'darme': 228, 'jugar': 229, 'universo': 230, 'embargo': 231, 'momentos': 232, 'nuestras': 233, 'bueno': 234, 'ahora': 235, 'verdad': 236, 'amiga': 237, 'fuerza': 238, 'perro': 239, 'miedo': 240, 'verso': 241, 'amarnos': 242, 'espacio': 243, 'recordando': 244, 'viendo': 245, 'madrugada': 246, 'dejar': 247, 'sentidos': 248, 'bien': 249, 'parte': 250, 'locura': 251, 'llanto': 252, 'creer': 253, 'tristeza': 254, 'amigos': 255, 'loco': 256, 'libertad': 257, 'tengo': 258, 'mujer': 259, 'crepúsculo': 260, 'vidas': 261, 'estrella': 262, 'instantes': 263, 'han': 264, 'dado': 265, 'dormido': 266, 'estar': 267, 'ausencia': 268, 'colores': 269, 'duras': 270, 'penas': 271, 'cabeza': 272, 'recordar': 273, 'mentiras': 274, 'puede': 275, 'destino': 276, 'vivo': 277, 'perfecto': 278, 'recuerdos': 279, 'vacía': 280, 'rostro': 281, 'junto': 282, 'mentira': 283, 'hermoso': 284, 'obra': 285, 'tiempos': 286, 'están': 287, 'medida': 288, 'quizás': 289, 'futuro': 290, 'hojas': 291, 'alegre': 292, 'mil': 293, 'llegas': 294, 'tener': 295, 'papel': 296, 'ruido': 297, 'aquello': 298, 'luna': 299, 'contra': 300, 'mano': 301, 'punto': 302, 'horizonte': 303, 'acá': 304, 'pesa': 305, 'hacen': 306, 'medio': 307, 'aroma': 308, 'frio': 309, 'paso': 310, 'terminamos': 311, 'sabe': 312, 'distancia': 313, 'grande': 314, 'encontré': 315, 'abrazo': 316, 'rosas': 317, 'pensar': 318, 'quiere': 319, 'infinito': 320, 'alarma': 321, 'ves': 322, 'vuelto': 323, 'queda': 324, 'mal': 325, 'perder': 326, 'nombre': 327, 'lee': 328, 'mismos': 329, 'encuentro': 330, 'mejores': 331, 'unos': 332, 'tarde': 333, 'voy': 334, 'emociones': 335, 'fueron': 336, 'mucho': 337, 'país': 338, 'amar': 339, 'antes': 340, 'difícil': 341, 'entonces': 342, 'mariposa': 343, 'alas': 344, 'dolor': 345, 'ausente': 346, 'pasa': 347, 'voluntad': 348, 'calor': 349, 'allá': 350, 'gente': 351, 'estoy': 352, 'traje': 353, 'cansado': 354, 'busca': 355, 'gusta': 356, 'reloj': 357, 'dulce': 358, 'eras': 359, 'tristes': 360, 'naufragio': 361, 'tantas': 362, 'capítulo': 363, 'algunos': 364, 'siguiente': 365, 'tienes': 366, 'pocos': 367, 'pregunta': 368, 'nacer': 369, 'huir': 370, 'tantos': 371, 'nuestra': 372, 'pesar': 373, 'melodía': 374, 'danzar': 375, 'aquella': 376, 'apaga': 377, 'dentro': 378, 'oscuridad': 379, 'lleva': 380, 'escapar': 381, 'buscaba': 382, 'historias': 383, 'toda': 384, 'pronto': 385, 'gracias': 386, 'amarte': 387, 'tenerte': 388, 'querer': 389, 'aunque': 390, 'eterno': 391, 'minuto': 392, 'quedan': 393, 'inunda': 394, 'llenan': 395, 'podia': 396, 'llenar': 397, 'esconderse': 398, 'toma': 399, 'último': 400, 'pequeño': 401, 'mismo': 402, 'falta': 403, 'pasan': 404, 'regresar': 405, 'hubiera': 406, 'vive': 407, 'imaginación': 408, 'olvido': 409, 'seguir': 410, 'frío': 411, 'pecho': 412, 'dormir': 413, 'casa': 414, 'quería': 415, 'quedo': 416, 'imposible': 417, 'aliento': 418, 'esperanza': 419, 'nubes': 420, 'altas': 421, 'juego': 422, 'diferente': 423, 'recuerda': 424, 'olor': 425, 'personas': 426, 'indiferencia': 427, 'veo': 428, 'olvida': 429, 'visto': 430, 'poema': 431, 'enséñale': 432, 'palabra': 433, 'poder': 434, 'tal': 435, 'angustia': 436, 'club': 437, 'sí': 438, 'azul': 439, 'hay': 440, 'antigua': 441, 'grandes': 442, 'tiene': 443, 'juntos': 444, 'perdí': 445, 'calma': 446, 'música': 447, 'llama': 448, 'poco': 449, 'quede': 450, 'canción': 451, 'estas': 452, 'contigo': 453, 'odio': 454, 'sabias': 455, 'fuiste': 456, 'sed': 457, 'ola': 458, 'distante': 459, 'inventar': 460, 'encuentre': 461, 'suerte': 462, 'habrá': 463, 'parecen': 464, 'viven': 465, 'hormigo': 466, 'planeta': 467, 'nuevos': 468, 'luego': 469, 'intento': 470, 'salva': 471, 'vuelve': 472, 'final': 473, 'das': 474, 'recordarte': 475, 'siente': 476, 'detiene': 477, 'muere': 478, 'acostado': 479, 'añorando': 480, 'llegada': 481, 'quiera': 482, 'iba': 483, 'tuve': 484, 'ir': 485, 'libre': 486, 'suyo': 487, 'presente': 488, 'terapia': 489, 'empece': 490, 'lleno': 491, 'sonido': 492, 'letras': 493, 'verdes': 494, 'dia': 495, 'dependencia': 496, 'calles': 497, 'piedra': 498, 'rostros': 499, 'soñando': 500, 'baile': 501, 'ángel': 502, 'hago': 503, 'alta': 504, 'entrega': 505, 'amantes': 506, 'dan': 507, 'pintar': 508, 'guerra': 509, 'alcance': 510, 'perdiendo': 511, 'e': 512, 'calienta': 513, 'muriendo': 514, 'unas': 515, 'buscando': 516, 'placer': 517, 'distancias': 518, 'di': 519, 'soñado': 520, 'única': 521, 'solas': 522, 'bailando': 523, 'cuello': 524, 'dorada': 525, 'llora': 526, 'atrasa': 527, 'anhelos': 528, 'olvidar': 529, 'arma': 530, 'pida': 531, 'caer': 532, 'hacemos': 533, 'accedemos': 534, 'olvidarla': 535, 'invento': 536, 'atención': 537, 'fallo': 538, 'idea': 539, 'partir': 540, 'puedes': 541, 'inspira': 542, 'llorar': 543, 'suaviza': 544, 'duros': 545, 'acuarelas': 546, 'agradecimiento': 547, 'profunda': 548, 'hecho': 549, 'espejos': 550, 'fuera': 551, 'nuestro': 552, 'pequeños': 553, 'hacer': 554, 'peligro': 555, 'roba': 556, 'seria': 557, 'duda': 558, 'respirar': 559, 'pase': 560, 'acepta': 561, 'bajo': 562, 'blanco': 563, 'buen': 564, 'artistas': 565, 'pequeña': 566, 'salir': 567, 'desierto': 568, 'suficiente': 569, 'blanca': 570, 'dicen': 571, 'quetzal': 572, 'pies': 573, 'piel': 574, 'extraña': 575, 'espejo': 576, 'algún': 577, 'peso': 578, 'desesperado': 579, 'pienso': 580, 'pasado': 581, 'paz': 582, 'tomo': 583, 'bailo': 584, 'uvas': 585, 'dulces': 586, 'ahorrando': 587, 'comprar': 588, 'anhelo': 589, 'viaje': 590, 'van': 591, 'escapa': 592, 'escribo': 593, 'flor': 594, 'llenos': 595, 'cierto': 596, 'escombros': 597, 'blancas': 598, 'pareces': 599, 'viejas': 600, 'fuego': 601, 'pinos': 602, 'olas': 603, 'húmeda': 604, 'árboles': 605, 'humo': 606, 'redes': 607, 'allí': 608, 'arde': 609, 'azules': 610, 'silenciosa': 611, 'sombra': 612, 'niña': 613, 'incendio': 614, 'déjame': 615, 'negra': 616, 'abandonado': 617, 'serlo': 618, 'autor': 619, 'batalla': 620, 'jamás': 621, 'imaginé': 622, 'quieres': 623, 'ironía': 624, 'vio': 625, 'malo': 626, 'transporta': 627, 'vemos': 628, 'dorados': 629, 'barriletes': 630, 'dejan': 631, 'podemos': 632, 'baila': 633, '4': 634, 'descubrir': 635, 'promesa': 636, 'arrastra': 637, 'mia': 638, 'mirarte': 639, 'manera': 640, 'daba': 641, 'dejaba': 642, 'habría': 643, 'busques': 644, 'esquina': 645, 'veía': 646, 'deje': 647, 'vamos': 648, 'juega': 649, 'trae': 650, 'grises': 651, 'estremecer': 652, 'abrazar': 653, 'atento': 654, 'negros': 655, 'sur': 656, 'llueve': 657, 'buscar': 658, 'viejos': 659, 'encontrarla': 660, 'mayor': 661, 'buscan': 662, 'resto': 663, 'lago': 664, 'milagro': 665, 'tenemos': 666, 'pide': 667, 'eternos': 668, 'ansioso': 669, 'avión': 670, 'despistado': 671, 'mariposas': 672, 'arrugas': 673, 'solitario': 674, 'abrazando': 675, 'prefiero': 676, 'astros': 677, 'elijo': 678, 'saben': 679, 'encontrarnos': 680, 'gotas': 681, 'rocio': 682, 'desvelo': 683, 'minutos': 684, 'mortal': 685, 'vibrar': 686, 'esas': 687, 'llegan': 688, 'decide': 689, 'respuesta': 690, 'llega': 691, 'alguien': 692, 'mala': 693, 'sonrisas': 694, '」': 695, 'regreso': 696, 'vividos': 697, 'nuevo': 698, 'soñarte': 699, 'abunda': 700, 'recordarle': 701, 'únicos': 702, 'hechos': 703, 'brillar': 704, 'contribuir': 705, 'ademas': 706, 'recordarnos': 707, 'seres': 708, 'individuales': 709, 'reír': 710, 'retratar': 711, 'habla': 712, 'aceptación': 713, 'desamor': 714, 'básicamente': 715, 'lugares': 716, 'valga': 717, 'pena': 718, 'abrir': 719, 'almas': 720, 'modo': 721, 'comparto': 722, 'decir': 723, 'escrito': 724, 'encontrarte': 725, 'dé': 726, 'fría': 727, 'llegar': 728, 'canto': 729, 'ciego': 730, 'va': 731, 'esto': 732, 'puerta': 733, 'huye': 734, 'barco': 735, 'pudiendo': 736, 'aire': 737, 'suelta': 738, 'sorpresa': 739, 'viejo': 740, 'inicio': 741, 'ladrón': 742, 'roban': 743, 'hombros': 744, 'artista': 745, 'les': 746, 'guatemala': 747, 'dios': 748, 'ciudad': 749, 'niños': 750, 'herida': 751, 'siguen': 752, 'cree': 753, 'saber': 754, 'ellas': 755, 'encierro': 756, 'dudas': 757, 'empecé': 758, 'sociedad': 759, 'esperando': 760, 'gritando': 761, 'enamorado': 762, 'apodera': 763, 'dejo': 764, 'crear': 765, 'soñador': 766, 'cerrar': 767, 'real': 768, 'muy': 769, 'irme': 770, 'fe': 771, 'sigue': 772, 'entendemos': 773, 'quita': 774, 'después': 775, 'vivido': 776, 'basta': 777, 'estaba': 778, 'escape': 779, 'sabor': 780, 'sentimientos': 781, 'muerto': 782, 'carne': 783, 'reflejo': 784, 'amargo': 785, 'oscuras': 786, 'sola': 787, 'fondo': 788, 'haciendo': 789, 'pensarla': 790, 'alba': 791, 'desnudas': 792, 'última': 793, 'fui': 794, 'barato': 795, 'amé': 796, 'encontrarme': 797, 'recuérdame': 798, 'quise': 799, 'distraído': 800, 'paraíso': 801, 'ponga': 802, 'estuche': 803, 'conmigo': 804, 'excusas': 805, 'soñé': 806, 'blancos': 807, 'cae': 808, 'oscuros': 809, 'vueltas': 810, 'vestido': 811, 'pálido': 812, 'muñeca': 813, 'niebla': 814, 'tempestad': 815, 'oigas': 816, 'ebrio': 817, 'llenas': 818, 'ocupas': 819, 'otoño': 820, 'gris': 821, 'profundos': 822, 'crepúsculos': 823, 'orilla': 824, 'sólo': 825, 'abeja': 826, 'ecos': 827, 'ansiedad': 828, 'montañas': 829, 'cruz': 830, 'luto': 831, 'furia': 832, 'rocío': 833, 'lejano': 834, 'alegría': 835, 'ternura': 836, 'grito': 837, 'gustas': 838, 'callas': 839, 'pensando': 840, 'frías': 841, 'muelles': 842, 'morena': 843, 'sentina': 844, 'batallas': 845, 'escudo': 846, 'espada': 847, '1': 848, 'pedirlo': 849, 'pensarlo': 850, 'aprender': 851, 'emprender': 852, 'intentar': 853, 'escondite': 854, 'llorando': 855, 'vas': 856, 'sonriendo': 857, 'estornudo': 858, 'acabado': 859, 'detenerse': 860, 'eternidad': 861, 'hagas': 862, 'nacen': 863, '2': 864, 'elige': 865, 'germine': 866, 'semilla': 867, 'desgracia': 868, 'casan': 869, 'intenten': 870, 'llevaran': 871, 'madre': 872, 'elegimos': 873, 'sigan': 874, 'origen': 875, 'perdura': 876, 'oímos': 877, 'divina': 878, '3': 879, 'explorar': 880, 'conocer': 881, 'descubrimos': 882, 'realmente': 883, 'grita': 884, 'zapatea': 885, 'abraza': 886, 'asfixia': 887, 'montaña': 888, 'rusa': 889, 'cohete': 890, 'saca': 891, 'pasea': 892, 'planetas': 893, 'meteorito': 894, 'dejándote': 895, 'mero': 896, 'gravedad': 897, 'quedaste': 898, 'varado': 899, 'inspiración': 900, 'añoraba': 901, '5': 902, 'liberándonos': 903, 'finita': 904, 'esquivan': 905, 'contados': 906, 'dedos': 907, 'oración': 908, 'preciso': 909, 'ultimo': 910, 'futura': 911, 'quitas': 912, 'amada': 913, 'dicha': 914, 'fiel': 915, 'comerte': 916, 'despertarte': 917, 'aca': 918, 'parecia': 919, 'preocuparse': 920, 'hubiese': 921, 'tocado': 922, 'venir': 923, '¡fuerza': 924, 'seguia': 925, 'volteando': 926, 'buscandola': 927, 'recordaban': 928, 'sostuve': 929, 'platicar': 930, 'latente': 931, 'presiente': 932, 'mienten': 933, 'ganó': 934, 'alcanzaba': 935, 'ahorraba': 936, 'tenia': 937, 'invertirlo': 938, 'pesado': 939, 'tanque': 940, 'mayoría': 941, 'amanecen': 942, 'ensordecedor': 943, 'aturde': 944, 'carente': 945, 'hambriento': 946, 'adentro': 947, 'fotos': 948, 'notas': 949, 'paseando': 950, 'parque': 951, 'rojos': 952, 'rotos': 953, 'tras': 954, 'golpean': 955, 'latidos': 956, 'festejando': 957, 'desfila': 958, 'norte': 959, 'sudor': 960, 'cuento': 961, 'segundos': 962, 'ciegos': 963, '『pensar': 964, 'posibilidad': 965, 'latiera': 966, 'cual': 967, 'redoblante': 968, 'plaza': 969, '15': 970, 'septiembre': 971, '』': 972, 'añora': 973, 'pieza': 974, 'apodere': 975, 'primer': 976, 'xocomil': 977, 'atrapado': 978, 'danza': 979, 'principe': 980, 'encuentran': 981, 'sacudido': 982, 'prohibido': 983, '¿cuándo': 984, 'sonríe': 985, 'agotados': 986, 'encontrarse': 987, 'aguanta': 988, 'bajemos': 989, 'regresemos': 990, 'terminaremos': 991, 'aniquilas': 992, 'humedezcan': 993, 'apague': 994, 'gaveta': 995, 'mientas': 996, 'constantes': 997, 'mañanas': 998, 'recompensados': 999, 'pacientes': 1000, 'peligrosa': 1001, 'llamar': 1002, 'esperándome': 1003, 'sentada': 1004, 'inventábamos': 1005, 'vernos': 1006, 'suelo': 1007, 'iniciar': 1008, 'revolución': 1009, 'estallido': 1010, 'atacando': 1011, 'mociones': 1012, 'humano': 1013, 'crecerá': 1014, 'permita': 1015, '»innumerables': 1016, 'inventando': 1017, 'posiblemente': 1018, '«': 1019, 'vanushca': 1020, 'durmiendo': 1021, 'ensueño': 1022, 'muerta': 1023, 'tumba': 1024, 'nieve': 1025, 'abajo': 1026, 'agotando': 1027, 'aplazando': 1028, 'coquetos': 1029, 'encontrando': 1030, 'ratos': 1031, 'calculante': 1032, 'duerme': 1033, 'nubla': 1034, 'letargo': 1035, 'reclama': 1036, 'oasis': 1037, 'vacíos': 1038, 'tocan': 1039, 'vejez': 1040, 'reconoces': 1041, 'desperte': 1042, 'quedado': 1043, 'hacerme': 1044, 'compañía': 1045, 'tormenta': 1046, 'tube': 1047, 'favorita': 1048, 'alinean': 1049, 'empiezo': 1050, 'despeja': 1051, 'aparece': 1052, 'maneras': 1053, 'preso': 1054, 'piernas': 1055, 'compas': 1056, 'sintiendo': 1057, 'infierno': 1058, 'provocan': 1059, 'derriten': 1060, 'contando': 1061, 'falle': 1062, 'inicia': 1063, 'soñada': 1064, 'celosa': 1065, 'amadada': 1066, 'quitarme': 1067, 'boquiabierto': 1068, 'despierto': 1069, 'separan': 1070, 'deshace': 1071, 'sangra': 1072, 'armonía': 1073, 'total': 1074, 'mirar': 1075, 'jugando': 1076, 'sostén': 1077, 'preciosas': 1078, 'ladronas': 1079, 'dadoras': 1080, '11': 1081, 'deseos': 1082, 'partes': 1083, 'rebozando': 1084, 'alcanzar': 1085, 'angel': 1086, 'baja': 1087, 'limpiarse': 1088, 'lagrimas': 1089, 'amanece': 1090, 'depende': 1091, 'amanezcamos': 1092, 'extrañando': 1093, 'somo': 1094, 'nostros': 1095, 'paramos': 1096, 'sorprendería': 1097, 'trato': 1098, 'espero': 1099, 'encontraré': 1100, '「para': 1101, 'pone': 1102, 'necesariamente': 1103, 'esperan': 1104, 'muchas': 1105, 'buenas': 1106, 'bellas': 1107, 'perdida': 1108, 'lluvioso': 1109, 'mojada': 1110, 'preciosos': 1111, 'enamorada': 1112, 'pausa': 1113, 'historia': 1114, 'inconclusa': 1115, 'acusa': 1116, 'vencido': 1117, 'vinos': 1118, 'termina': 1119, 'germina': 1120, 'bello': 1121, 'duermo': 1122, 'muero': 1123, 'evadir': 1124, 'roto': 1125, 'vueltos': 1126, 'polvo': 1127, 'audio': 1128, 'ordenar': 1129, 'copia': 1130, 'firmada': 1131, 'eresarte': 1132, 'info': 1133, 'inspirados': 1134, 'personalmente': 1135, 'verdaderos': 1136, 'autores': 1137, 'copie': 1138, 'desnudar': 1139, 'parecer': 1140, 'será': 1141, 'verlo': 1142, 'pasión': 1143, 'locos': 1144, 'has': 1145, 'contemplar': 1146, 'escritor': 1147, 'fruto': 1148, 'importante': 1149, 'persona': 1150, 'alguno': 1151, 'además': 1152, 'profundo': 1153, 'oscuro': 1154, 'demás': 1155, 'interior': 1156, 'empezar': 1157, 'verme': 1158, 'cambiar': 1159, 'rumbo': 1160, 'acostumbras': 1161, 'rompe': 1162, 'gota': 1163, 'cura': 1164, 'mata': 1165, 'ideas': 1166, 'ajeno': 1167, 'ciega': 1168, 'seamos': 1169, 'batir': 1170, 'tasa': 1171, 'eterna': 1172, 'humanidad': 1173, 'enfermedad': 1174, 'acabo': 1175, 'dio': 1176, 'elegir': 1177, 'todavía': 1178, 'maya': 1179, 'fuerte': 1180, 'campanadas': 1181, 'lejanas': 1182, 'cuidado': 1183, 'irse': 1184, 'cementerio': 1185, 'grandeza': 1186, 'danzando': 1187, 'abre': 1188, 'hipnotiza': 1189, 'hagámosles': 1190, 'favor': 1191, 'cualquiera': 1192, 'político': 1193, 'dejamos': 1194, 'pueda': 1195, 'largo': 1196, 'tienen': 1197, 'politicos': 1198, 'buenos': 1199, 'sean': 1200, 'cajita': 1201, 'caja': 1202, 'había': 1203, 'incierto': 1204, 'creo': 1205, 'cambio': 1206, 'verde': 1207, 'playas': 1208, 'sabes': 1209, 'ahí': 1210, 'conocí': 1211, 'recibir': 1212, 'protege': 1213, 'garras': 1214, 'desgarran': 1215, 'compasión': 1216, 'encerradas': 1217, 'poca': 1218, 'prisión': 1219, 'tipo': 1220, 'convencer': 1221, 'ancla': 1222, 'ausentes': 1223, 'garganta': 1224, 'control': 1225, 'llevar': 1226, 'levanta': 1227, 'plasmar': 1228, 'ordene': 1229, 'viva': 1230, 'creación': 1231, 'falsa': 1232, 'raro': 1233, 'muestra': 1234, 'cordura': 1235, 'esperar': 1236, 'dice': 1237, 'encanta': 1238, 'cuesta': 1239, 'peor': 1240, 'demonio': 1241, 'incluso': 1242, 'porqué': 1243, 'cumplidas': 1244, 'promesas': 1245, 'tacuche': 1246, 'padre': 1247, 'libres': 1248, 'llevan': 1249, 'debe': 1250, '7': 1251, 'depresión': 1252, 'ilusiones': 1253, 'quemaba': 1254, 'detalles': 1255, 'enamora': 1256, 'libreta': 1257, 'senté': 1258, 'tanta': 1259, 'casi': 1260, 'vientre': 1261, 'eternas': 1262, 'inconclusos': 1263, 'dar': 1264, 'esconden': 1265, 'seguridad': 1266, 'gramos': 1267, 'decencia': 1268, 'últimos': 1269, 'bosque': 1270, 'crece': 1271, 'miedos': 1272, 'hicimos': 1273, 'comer': 1274, 'bostezo': 1275, 'cobardes': 1276, 'dónde': 1277, 'hogar': 1278, 'culpa': 1279, 'descontrola': 1280, 'fiesta': 1281, 'volcán': 1282, 'uñas': 1283, 'lápiz': 1284, 'leo': 1285, 'importa': 1286, 'verla': 1287, 'darle': 1288, 'vientos': 1289, 'invierno': 1290, 'lean': 1291, 'brillaban': 1292, 'valor': 1293, 'vuelva': 1294, 'plata': 1295, 'quieras': 1296, 'faltaba': 1297, 'beber': 1298, 'atardeceres': 1299, 'entender': 1300, 'regale': 1301, 'murió': 1302, 'mataron': 1303, 'ironia': 1304, 'hola': 1305, 'hiciera': 1306, 'feliz': 1307, 'ilusión': 1308, 'sutil': 1309, 'hombro': 1310, 'enamoré': 1311, 'tuyo': 1312, 'sistema': 1313, 'esperarte': 1314, 'charlie': 1315, 'guerrera': 1316, 'desayuno': 1317, 'hice': 1318, 'misma': 1319, 'esté': 1320, 'cualquier': 1321, 'perros': 1322, 'cola': 1323, 'hizo': 1324, 'supiera': 1325, 'cuanto': 1326, 'entenderia': 1327, 'escribiendo': 1328, 'xela': 1329, 'olvidarme': 1330, 'perdi': 1331, 'memorias': 1332, 'hable': 1333, 'perecer': 1334, 'desierta': 1335, 'cuántas': 1336, 'cuánto': 1337, 'tocar': 1338, 'paginas': 1339, 'otras': 1340, 'salvaje': 1341, 'arco': 1342, 'ávida': 1343, 'lenta': 1344, 'ansia': 1345, 'fatiga': 1346, 'torno': 1347, 'racimo': 1348, 'raíces': 1349, 'negro': 1350, 'flores': 1351, 'lento': 1352, 'flechas': 1353, 'espigas': 1354, 'verano': 1355, 'sacude': 1356, 'guerras': 1357, 'cantos': 1358, 'rápido': 1359, 'robo': 1360, 'espuma': 1361, 'gaviotas': 1362, 'collar': 1363, 'suaves': 1364, 'huyendo': 1365, 'voces': 1366, 'compañera': 1367, 'sígueme': 1368, 'boina': 1369, 'caían': 1370, 'hoguera': 1371, 'estupor': 1372, 'ardía': 1373, 'torcido': 1374, 'pájaro': 1375, 'alegres': 1376, 'campo': 1377, 'cerros': 1378, 'inclinado': 1379, 'oceánicos': 1380, 'faro': 1381, 'emerge': 1382, 'costa': 1383, 'galopa': 1384, 'zumbas': 1385, 'rosa': 1386, 'cierra': 1387, 'temerosa': 1388, 'senos': 1389, 'errantes': 1390, 'árbol': 1391, 'delgada': 1392, 'marino': 1393, 'agrio': 1394, 'islas': 1395, 'aguas': 1396, 'arriba': 1397, 'sujeta': 1398, 'hemos': 1399, 'caía': 1400, 'ventana': 1401, 'estabas': 1402, 'cayó': 1403, 'espiga': 1404, 'detrás': 1405, 'aleja': 1406, 'bastan': 1407, 'corolas': 1408, 'emigran': 1409, 'cruces': 1410, 'puerto': 1411, 'delirante': 1412, 'apenas': 1413, 'cantar': 1414, 'arder': 1415, 'campanario': 1416, 'nocturna': 1417, 'juegas': 1418, 'red': 1419, 'oyes': 1420, 'claro': 1421, 'lámpara': 1422, 'infinitos': 1423, 'comienza': 1424, 'enterrando': 1425, 'lámparas': 1426, 'asalto': 1427, 'ágil': 1428, 'embriaguez': 1429, 'estrellada': 1430, 'quiso': 1431, 'ésta': 1432, 'inmensa': 1433, 'contenta': 1434, 'haberla': 1435, 'corto': 1436, 'buzo': 1437, 'descubridor': 1438, 'vaso': 1439, 'tumbo': 1440, 'agradecimientos': 1441, 'padres': 1442, 'dejarme': 1443, 'hermano': 1444, 'compañero': 1445, 'llevaré': 1446, 'absurdo': 1447, 'afortunadamente': 1448, 'tocó': 1449, 'nació': 1450, 'doquier': 1451, 'admirar': 1452, 'haga': 1453, 'estará': 1454, 'disponible': 1455, 'tres': 1456, 'versiones': 1457, 'ebook': 1458, 'kindle': 1459, 'version': 1460, 'impresa': 1461, 'podrás': 1462, 'principales': 1463, 'librerías': 1464, '31': 1465, 'julio': 1466, 'pre': 1467, 'www': 1468, 'introducción': 1469, 'mostrando': 1470, 'presento': 1471, 'pinturas': 1472, 'sencilla': 1473, 'interpretada': 1474, 'forzada': 1475, 'bonito': 1476, 'sepa': 1477, 'enfoca': 1478, 'descubren': 1479, 'cuadros': 1480, 'galería': 1481, 'edwin': 1482, 'san': 1483, 'juan': 1484, 'laguna': 1485, 'portada': 1486, 'atrevidos': 1487, 'magníficos': 1488, 'pareciera': 1489, 'imagen': 1490, 'tunnel': 1491, 'platiquen': 1492, 'lector': 1493, 'pinto': 1494, 'cuadro': 1495, 'despierte': 1496, 'ven': 1497, 'percibe': 1498, 'nutre': 1499, 'alborotando': 1500, 'hormiguero': 1501, 'valentía': 1502, 'reflejado': 1503, 'época': 1504, 'problemas': 1505, 'ayuda': 1506, 'emoción': 1507, 'toque': 1508, 'llevas': 1509, 'poemario': 1510, 'varios': 1511, 'intro': 1512, 'podcast': 1513, 'hablo': 1514, 'encontrarás': 1515, 'contiene': 1516, 'pensamientos': 1517, 'escritos': 1518, 'autoría': 1519, 'información': 1520, 'visitar': 1521, 'completo': 1522, 'física': 1523, 'lograr': 1524, 'ojalá': 1525, 'enamoramos': 1526, 'nuestros': 1527, 'esfuerzos': 1528, 'quietud': 1529, 'rodea': 1530, 'recordatorio': 1531, 'libramos': 1532, 'internas': 1533, 'diario': 1534, 'entretiene': 1535, 'pedirle': 1536, 'avance': 1537, 'demore': 1538, 'estadilla': 1539, 'mentir': 1540, 'ala': 1541, 'sorprende': 1542, 'retenerte': 1543, 'despintar': 1544, 'corazones': 1545, 'despejar': 1546, 'extrañe': 1547, 'otorga': 1548, 'calla': 1549, 'frágil': 1550, 'delicado': 1551, 'quema': 1552, 'martillo': 1553, 'baratas': 1554, 'soñar': 1555, 'usemos': 1556, 'llamada': 1557, 'amables': 1558, 'diferencia': 1559, 'dejado': 1560, 'imagina': 1561, 'transformara': 1562, 'magnifico': 1563, 'sería': 1564, 'aterrizar': 1565, 'nariz': 1566, 'latir': 1567, 'desvanecer': 1568, 'transformar': 1569, 'posar': 1570, 'vuelvas': 1571, 'atrevida': 1572, 'sentirse': 1573, 'secos': 1574, 'batería': 1575, 'estando': 1576, 'enfría': 1577, 'imagino': 1578, 'entrando': 1579, 'resplandeciente': 1580, 'acabó': 1581, 'pandemia': 1582, 'asechadas': 1583, 'cobra': 1584, 'respetar': 1585, 'fronteras': 1586, 'pagar': 1587, 'impuestos': 1588, 'atestado': 1589, 'hundirse': 1590, 'mares': 1591, 'salvavidas': 1592, 'imparable': 1593, 'impasible': 1594, 'atemoriza': 1595, 'artificial': 1596, 'contado': 1597, 'viaja': 1598, 'océanos': 1599, 'adversidad': 1600, 'pulmones': 1601, 'acepto': 1602, 'abandona': 1603, 'superioridad': 1604, 'renuncia': 1605, 'cuerda': 1606, 'lastima': 1607, 'sostiene': 1608, 'entiende': 1609, 'pasajero': 1610, 'nave': 1611, 'pilotea': 1612, 'llenando': 1613, 'cajones': 1614, 'dieron': 1615, '12': 1616, 'mensajero': 1617, 'llegó': 1618, 'reclamar': 1619, 'expresar': 1620, 'reprimir': 1621, 'desear': 1622, 'vienes': 1623, 'unes': 1624, 'celos': 1625, 'trafico': 1626, 'reuniones': 1627, 'rato': 1628, 'acompañan': 1629, 'iglesias': 1630, 'acercan': 1631, 'peligroso': 1632, 'paisajes': 1633, 'cielos': 1634, 'enero': 1635, 'guárdalas': 1636, 'crecer': 1637, 'roben': 1638, 'venga': 1639, 'robado': 1640, 'tierras': 1641, 'sobrevuelan': 1642, 'aires': 1643, 'gran': 1644, 'destreza': 1645, 'manco': 1646, 'gigantes': 1647, 'coloridos': 1648, 'rozando': 1649, 'ceda': 1650, 'china': 1651, 'bailar': 1652, 'cien': 1653, 'gigante': 1654, 'unirse': 1655, 'danzante': 1656, 'chicos': 1657, 'escuches': 1658, 'adueña': 1659, 'dudes': 1660, 'buscarme': 1661, 'celebrar': 1662, 'exigimos': 1663, 'apoyamos': 1664, 'campañas': 1665, 'pagan': 1666, 'pelo': 1667, 'empecemos': 1668, 'comparar': 1669, 'altura': 1670, 'talla': 1671, 'mundial': 1672, 'estudia': 1673, 'politico': 1674, 'exijamos': 1675, 'estudiados': 1676, 'honestos': 1677, 'existen': 1678, 'dejemos': 1679, 'guate': 1680, 'talento': 1681, 'apoyan': 1682, 'pague': 1683, 'amores': 1684, 'invitan': 1685, 'adoptar': 1686, 'ética': 1687, 'empatía': 1688, 'mentalidad': 1689, 'ponerle': 1690, 'nuevas': 1691, 'reglas': 1692, 'pueden': 1693, 'pidiendo': 1694, 'resta': 1695, 'multiplicar': 1696, 'actuemos': 1697, 'juzguemos': 1698, 'sana': 1699, 'mintiendo': 1700, 'robando': 1701, 'comiendo': 1702, 'riqueza': 1703, 'exista': 1704, 'muertos': 1705, 'celeste': 1706, 'rojo': 1707, 'negras': 1708, 'celajes': 1709, 'naranjas': 1710, 'quitan': 1711, 'nacieron': 1712, 'serenata': 1713, 'escriben': 1714, 'regalan': 1715, 'bohemios': 1716, 'inundamos': 1717, 'cafés': 1718, 'ama': 1719, '\\u2028como': 1720, 'creativo': 1721, 'cinco': 1722, 'diez': 1723, 'precio': 1724, 'voltear': 1725, 'sorprender': 1726, 'mejilla': 1727, 'llevarte': 1728, 'playa': 1729, 'escondida': 1730, 'acaricie': 1731, 'suspiro': 1732, 'arena': 1733, 'bañarme': 1734, 'docena': 1735, 'duela': 1736, 'estamos': 1737, 'incredulo': 1738, 'acaricia': 1739, 'barba': 1740, 'inexistente': 1741, 'preguntándose': 1742, 'lograré': 1743, 'clavas': 1744, 'éxitos': 1745, 'maquille': 1746, 'ancle': 1747, 'fé': 1748, 'prueba': 1749, 'logre': 1750, 'desbordaba': 1751, 'bailaba': 1752, 'falto': 1753, 'atorado': 1754, 'existir': 1755, 'retorcía': 1756, 'gastritis': 1757, 'quebrada': 1758, 'decía': 1759, 'escuchado': 1760, 'estaremos': 1761, 'disfrazada': 1762, 'pintura': 1763, 'variar': 1764, 'sedo': 1765, 'guiado': 1766, 'ii': 1767, 'sido': 1768, 'ordenes': 1769, 'recibirlas': 1770, 'obligue': 1771, 'sentarme': 1772, 'lienzo': 1773, 'saque': 1774, 'encender': 1775, 'encendido': 1776, 'desordene': 1777, 'valiente': 1778, 'compartir': 1779, 'iii': 1780, 'alientos': 1781, 'plasmarlos': 1782, 'vivirá': 1783, 'podrá': 1784, 'iv': 1785, 'perpetua': 1786, 'explota': 1787, 'poeta': 1788, 'antigüeño': 1789, 'argumentar': 1790, 'temores': 1791, 'asechan': 1792, 'gluten': 1793, 'sentarse': 1794, 'conviene': 1795, 'mascaras': 1796, 'títulos': 1797, 'rara': 1798, 'cuerdo': 1799, 'arrebatado': 1800, 'soltarlo': 1801, 'parlanchina': 1802, 'casos': 1803, 'gritar': 1804, '¡déjame': 1805, 'creciente': 1806, 'dejas': 1807, 'cambiado': 1808, 'digas': 1809, 'sabemos': 1810, 'encontraba': 1811, 'hallaba': 1812, 'conocemos': 1813, 'perdernos': 1814, 'parezca': 1815, 'listos': 1816, 'sabra': 1817, 'pan': 1818, 'metas': 1819, 'vivencias': 1820, 'acción': 1821, 'perdidas': 1822, 'cocinadas': 1823, 'preparadas': 1824, 'vapor': 1825, 'cuál': 1826, 'tubérculo': 1827, 'cruda': 1828, 'temido': 1829, 'dinero': 1830, 'responsabilidad': 1831, 'papa': 1832, 'irónico': 1833, 'tememos': 1834, 'nacemos': 1835, 'olvidamos': 1836, 'cambiando': 1837, 'encuentra': 1838, 'vayamos': 1839, 'presenciar': 1840, 'fuimos': 1841, 'prestados': 1842, 'juguetes': 1843, 'destruir': 1844, 'ajustar': 1845, 'zapatos': 1846, 'dados': 1847, 'volverme': 1848, 'sastre': 1849, 'coser': 1850, 'huecos': 1851, 'portarlo': 1852, 'requiere': 1853, 'agallas': 1854, 'pasion': 1855, 'lucir': 1856, 'justo': 1857, 'luzco': 1858, 'sorbo': 1859, 'galaxia': 1860, 'transforman': 1861, 'coneccion': 1862, 'conectarse': 1863, 'conectamos': 1864, '6': 1865, 'rebelde': 1866, 'llevarle': 1867, 'contraria': 1868, 'sentirme': 1869, 'invisible': 1870, 'monstruo': 1871, 'disfraza': 1872, 'consejos': 1873, 'crea': 1874, 'reales': 1875, 'veia': 1876, 'apostado': 1877, 'casaban': 1878, 'modos': 1879, 'quemo': 1880, 'entorpece': 1881, 'cancela': 1882, 'lógica': 1883, 'agudiza': 1884, 'vista': 1885, 'fogata': 1886, 'superficie': 1887, 'millonario': 1888, 'aqui': 1889, 'necesito': 1890, 'válvula': 1891, 'presión': 1892, 'ingenuo': 1893, 'pasar': 1894, 'suspendido': 1895, 'embriagante': 1896, 'existe': 1897, 'gobierna': 1898, 'ley': 1899, 'reina': 1900, 'caducado': 1901, 'fallarle': 1902, 'permitir': 1903, 'volviera': 1904, 'quedarse': 1905, 'terminó': 1906, 'dejándome': 1907, 'desearte': 1908, 'saborear': 1909, 'agridulce': 1910, 'empalagarme': 1911, 'tocarte': 1912, 'conciliar': 1913, 'estruendoso': 1914, 'añorar': 1915, 'llamarte': 1916, 'escucharte': 1917, 'esquivos': 1918, 'escuchar': 1919, 'coqueta': 1920, 'buscarte': 1921, 'abrazarte': 1922, 'cansados': 1923, 'inventarte': 1924, 'terminar': 1925, 'convenciéndote': 1926, 'quedarte': 1927, 'gasté': 1928, 'sabido': 1929, 'mentirte': 1930, 'darte': 1931, 'robarte': 1932, 'embriagarte': 1933, 'incendia': 1934, 'derrite': 1935, 'enciende': 1936, 'piensas': 1937, 'endulza': 1938, 'espanta': 1939, 'refugia': 1940, 'viviste': 1941, 'sientes': 1942, 'añoras': 1943, 'disipan': 1944, 'añorado': 1945, 'creerlo': 1946, 'reflejos': 1947, 'energías': 1948, 'vacías': 1949, 'levantan': 1950, 'acompañadas': 1951, 'gozo': 1952, 'melodia': 1953, 'aspira': 1954, 'devora': 1955, 'bocado': 1956, 'regalado': 1957, 'morí': 1958, 'haremos': 1959, 'volvamos': 1960, 'mira': 1961, 'produce': 1962, 'busco': 1963, 'brillantes': 1964, 'aquellas': 1965, 'astuta': 1966, 'cautela': 1967, 'logren': 1968, 'iluminar': 1969, 'señal': 1970, 'aterrices': 1971, 'huracán': 1972, 'pregunto': 1973, 'hagan': 1974, 'titiritero': 1975, 'somete': 1976, 'controla': 1977, 'bota': 1978, 'regresa': 1979, 'piedad': 1980, 'llaman': 1981, 'sorprenda': 1982, 'diluye': 1983, 'crecientes': 1984, 'matarla': 1985, 'termine': 1986, 'ilumine': 1987, 'parecido': 1988, 'rose': 1989, 'recuerdes': 1990, 'respires': 1991, 'ambulante': 1992, 'fingido': 1993, 'besas': 1994, 'míos': 1995, 'involuntario': 1996, 'desesperada': 1997, 'calentando': 1998, 'esperándote': 1999, 'inventándote': 2000, 'locuras': 2001, 'devuelvan': 2002, 'asaltan': 2003, 'preguntas': 2004, 'olvidan': 2005, 'respuestas': 2006, 'precisas': 2007, 'acechan': 2008, 'ansiosa': 2009, 'acariciar': 2010, 'afortunado': 2011, 'morimos': 2012, 'transforme': 2013, 'espalda': 2014, 'escribamos': 2015, 'transformamos': 2016, 'creamos': 2017, 'merece': 2018, 'llore': 2019, 'niño': 2020, 'cece': 2021, 'hermosa': 2022, 'amistad': 2023, 'perece': 2024, 'llegara': 2025, 'pasaran': 2026, 'conociera': 2027, 'fria': 2028, 'frios': 2029, 'encontraban': 2030, 'buscándose': 2031, 'encontrándose': 2032, 'permitía': 2033, 'casita': 2034, 'prejuicios': 2035, 'leyera': 2036, 'ojeada': 2037, 'paciente': 2038, 'leerá': 2039, '「las': 2040, 'desnudamos': 2041, 'recordó': 2042, 'vestíamos': 2043, 'disparar': 2044, 'mate': 2045, 'diluya': 2046, 'caricias': 2047, 'bala': 2048, 'promete': 2049, 'preguntarme': 2050, 'tenias': 2051, 'negar': 2052, 'pedía': 2053, 'sobraba': 2054, 'ingenuidad': 2055, 'sometía': 2056, 'par': 2057, 'puestas': 2058, 'veneno': 2059, 'pasó': 2060, 'envidiosos': 2061, 'reclamaban': 2062, 'miradas': 2063, 'robaba': 2064, 'perdía': 2065, 'segundo': 2066, 'acompañaba': 2067, 'cara': 2068, 'tomó': 2069, 'disfrutar': 2070, 'parecían': 2071, 'pintados': 2072, 'carisimo': 2073, 'enamorarme': 2074, 'salió': 2075, 'carísimo': 2076, 'cariño': 2077, 'carisma': 2078, 'eran': 2079, 'suficientes': 2080, 'matar': 2081, 'volverla': 2082, 'mató': 2083, 'llenaba': 2084, 'enseñó': 2085, 'escapes': 2086, 'media': 2087, 'viéndonos': 2088, 'afuera': 2089, 'escapémonos': 2090, 'llegaba': 2091, 'tenerla': 2092, 'pintor': 2093, 'odiar': 2094, 'cerca': 2095, 'odiarla': 2096, 'matarme': 2097, 'dificil': 2098, 'aloha': 2099, 'adios': 2100, 'musica': 2101, 'vivirás': 2102, 'tampoco': 2103, 'estaría': 2104, 'buscaste': 2105, 'preguntaste': 2106, 'mínimo': 2107, 'contaba': 2108, 'increíbles': 2109, 'tomando': 2110, 'suspiros': 2111, 'llores': 2112, 'faltará': 2113, 'ninguno': 2114, 'natural': 2115, 'encontraste': 2116, 'aferrándome': 2117, 'sostenido': 2118, 'falsas': 2119, 'entiendo': 2120, 'futuros': 2121, 'presentes': 2122, 'pasados': 2123, 'compartimos': 2124, 'alarmas': 2125, 'pocas': 2126, 'despertarme': 2127, 'maravillas': 2128, 'enloquece': 2129, 'enfrio': 2130, 'cansaria': 2131, 'olerlo': 2132, 'sentirlo': 2133, 'quitarse': 2134, 'beberse': 2135, 'chale': 2136, 'mexicano': 2137, 'combate': 2138, 'impulsos': 2139, 'caricia': 2140, 'asesina': 2141, 'reinicia': 2142, 'invita': 2143, 'quedarme': 2144, 'dormíamos': 2145, 'peleábamos': 2146, 'saciamos': 2147, 'comimos': 2148, 'interesa': 2149, 'tómelo': 2150, 'abierta': 2151, 'seda': 2152, 'merecer': 2153, 'supongo': 2154, 'lenguaje': 2155, 'repetir': 2156, 'prospero': 2157, 'adverso': 2158, 'sale': 2159, 'dosis': 2160, 'ponen': 2161, 'cuidar': 2162, 'traído': 2163, 'hacerle': 2164, 'irnos': 2165, 'convenga': 2166, 'quitarnos': 2167, 'desconocida': 2168, 'conozco': 2169, 'escribiría': 2170, 'inventaría': 2171, 'daría': 2172, 'estuve': 2173, 'boletos': 2174, 'llego': 2175, 'volvió': 2176, 'pobre': 2177, 'entendí': 2178, 'muevo': 2179, 'ahorita': 2180, 'sentido': 2181, 'invertido': 2182, 'cálida': 2183, 'pedi': 2184, 'perderla': 2185, 'alegria': 2186, 'nocion': 2187, 'humor': 2188, 'cambia': 2189, 'tome': 2190, 'marca': 2191, 'sera': 2192, 'soporto': 2193, 'sofoca': 2194, 'querría': 2195, 'plano': 2196, 'veniste': 2197, 'chela': 2198, 'alla': 2199, 'venia': 2200, 'memoria': 2201, 'cancion': 2202, 'pusieron': 2203, 'contrato': 2204, 'firmado': 2205, 'sellado': 2206, 'saliva': 2207, 'vale': 2208, 'ando': 2209, 'canse': 2210, 'cansancio': 2211, 'lleve': 2212, 'vuelta': 2213, 'preparados': 2214, 'ocurrir': 2215, 'entrar': 2216, 'mato': 2217, 'agotaba': 2218, 'seguía': 2219, 'dandole': 2220, 'inventándose': 2221, 'hacerlo': 2222, 'moría': 2223, 'calentaba': 2224, 'abandonaba': 2225, '\\u2028soñé': 2226, 'ataba': 2227, 'maldito': 2228, 'robándome': 2229, 'bendito': 2230, 'tornaban': 2231, '\\u2028y': 2232, 'broche': 2233, 'ibas': 2234, 'correcto': 2235, 'ocupa': 2236, 'boleto': 2237, 'soñamos': 2238, 'quitó': 2239, 'daríamos': 2240, 'pesadilla': 2241, 'esfera': 2242, 'cristal': 2243, 'rompen': 2244, '¡espera': 2245, 'visita': 2246, 'buena': 2247, 'caliente': 2248, 'haberlo': 2249, 'reduzca': 2250, 'rompa': 2251, 'silla': 2252, 'pido': 2253, 'recobro': 2254, 'vía': 2255, 'acaban': 2256, 'regalo': 2257, 'sufridas': 2258, 'querían': 2259, 'escritas': 2260, 'gritan': 2261, 'felicidad': 2262, 'pluma': 2263, 'acaba': 2264, 'diego': 2265, 'colinas': 2266, 'muslos': 2267, 'actitud': 2268, 'labriego': 2269, 'socava': 2270, 'saltar': 2271, 'hijo': 2272, 'túnel': 2273, 'huían': 2274, 'entraba': 2275, 'invasión': 2276, 'poderosa': 2277, 'sobrevivirme': 2278, 'forjé': 2279, 'flecha': 2280, 'honda': 2281, 'venganza': 2282, 'musgo': 2283, 'leche': 2284, 'firme': 2285, 'vasos': 2286, 'pubis': 2287, 'persistirá': 2288, 'gracia': 2289, 'límite': 2290, 'indeciso': 2291, 'cauces': 2292, 'envuelve': 2293, 'absorta': 2294, 'pálida': 2295, 'doliente': 2296, 'situada': 2297, 'hélices': 2298, 'muda': 2299, 'muertes': 2300, 'pura': 2301, 'heredera': 2302, 'destruido': 2303, 'crecen': 2304, 'súbito': 2305, 'exterior': 2306, 'regresan': 2307, 'ocultas': 2308, 'pueblo': 2309, 'recién': 2310, 'nacido': 2311, 'alimenta': 2312, 'grandiosa': 2313, 'fecunda': 2314, 'magnética': 2315, 'esclava': 2316, 'círculo': 2317, 'dorado': 2318, 'sucede': 2319, 'erguida': 2320, 'trata': 2321, 'logra': 2322, 'sucumben': 2323, 'vastedad': 2324, 'rumor': 2325, 'quebrándose': 2326, 'luces': 2327, 'campana': 2328, 'solitaria': 2329, 'cayendo': 2330, 'caracola': 2331, 'terrestre': 2332, 'ríos': 2333, 'cantan': 2334, 'desees': 2335, 'márcame': 2336, 'soltaré': 2337, 'delirio': 2338, 'bandada': 2339, 'cintura': 2340, 'acosa': 2341, 'perseguidas': 2342, 'transparente': 2343, 'anclan': 2344, 'anida': 2345, 'misteriosa': 2346, 'tiñe': 2347, 'dobla': 2348, 'resonante': 2349, 'profundas': 2350, 'campos': 2351, 'doblarse': 2352, 'pañuelos': 2353, 'adiós': 2354, 'viajan': 2355, 'viajeras': 2356, 'innumerable': 2357, 'latiendo': 2358, 'zumbando': 2359, 'orquestal': 2360, 'divino': 2361, 'lengua': 2362, 'hojarasca': 2363, 'desvía': 2364, 'latientes': 2365, 'derriba': 2366, 'sustancia': 2367, 'fuegos': 2368, 'inclinados': 2369, 'sumerge': 2370, 'volumen': 2371, 'combatido': 2372, 'adelgazan': 2373, 'huellas': 2374, 'cascabel': 2375, 'miro': 2376, 'mías': 2377, 'tuyas': 2378, 'trepando': 2379, 'yedras': 2380, 'trepan': 2381, 'paredes': 2382, 'húmedas': 2383, 'culpable': 2384, 'sangriento': 2385, 'guarida': 2386, 'poblaron': 2387, 'acostumbradas': 2388, 'digan': 2389, 'decirte': 2390, 'suele': 2391, 'arrastrar': 2392, 'huracanes': 2393, 'tumban': 2394, 'escuchas': 2395, 'dolorida': 2396, 'bocas': 2397, 'sangre': 2398, 'súplicas': 2399, 'amame': 2400, 'abandones': 2401, 'tiñendo': 2402, 'peleaban': 2403, 'llamas': 2404, 'apegada': 2405, 'enredadera': 2406, 'recogían': 2407, 'jacinto': 2408, 'viajar': 2409, 'emigraban': 2410, 'brasas': 2411, 'navío': 2412, 'estanque': 2413, 'ardían': 2414, 'secas': 2415, 'giraban': 2416, 'tiro': 2417, 'estira': 2418, 'náufrago': 2419, 'rojas': 2420, 'señales': 2421, 'olean': 2422, 'guardas': 2423, 'tinieblas': 2424, 'hembra': 2425, 'espanto': 2426, 'echo': 2427, 'nocturnos': 2428, 'picotean': 2429, 'primeras': 2430, 'centellean': 2431, 'yegua': 2432, 'sombría': 2433, 'desparramando': 2434, 'ebria': 2435, 'miel': 2436, 'tuerces': 2437, 'lentas': 2438, 'espirales': 2439, 'perdió': 2440, 'tuvo': 2441, 'ultima': 2442, 'amarra': 2443, 'cruje': 2444, 'aletea': 2445, 'desnuda': 2446, 'estatua': 2447, 'alea': 2448, 'frescos': 2449, 'regazo': 2450, 'caracoles': 2451, 'venido': 2452, 'dormirse': 2453, 'caza': 2454, 'anda': 2455, 'descalza': 2456, 'mojadas': 2457, 'quejan': 2458, 'enfermos': 2459, 'revives': 2460, 'trementina': 2461, 'largos': 2462, 'estival': 2463, 'velero': 2464, 'dirijo': 2465, 'delgado': 2466, 'cimentado': 2467, 'sólido': 2468, 'frenesí': 2469, 'amarrado': 2470, 'devorante': 2471, 'cruzo': 2472, 'clima': 2473, 'descubierto': 2474, 'sonidos': 2475, 'amargos': 2476, 'cimera': 2477, 'abandonada': 2478, 'duro': 2479, 'pasiones': 2480, 'montado': 2481, 'lunar': 2482, 'solar': 2483, 'ardiente': 2484, 'repentino': 2485, 'afortunadas': 2486, 'caderas': 2487, 'frescas': 2488, 'tiembla': 2489, 'locamente': 2490, 'cargado': 2491, 'eléctricas': 2492, 'gestiones': 2493, 'heroico': 2494, 'dividido': 2495, 'embriagadoras': 2496, 'practicándose': 2497, 'externas': 2498, 'paralelo': 2499, 'pez': 2500, 'infinitamente': 2501, 'pegado': 2502, 'subceleste': 2503, 'unidas': 2504, 'poniente': 2505, 'lejanos': 2506, 'moneda': 2507, 'encendía': 2508, 'pedazo': 2509, 'recordaba': 2510, 'apretada': 2511, 'conoces': 2512, 'gentes': 2513, 'diciendo': 2514, 'vendrá': 2515, 'golpe': 2516, 'lejana': 2517, 'herido': 2518, 'rodó': 2519, 'capa': 2520, 'alejas': 2521, 'corre': 2522, 'borrando': 2523, 'estatuas': 2524, 'mitad': 2525, 'girante': 2526, 'errante': 2527, 'cavadora': 2528, 'trizadas': 2529, 'charca': 2530, 'cejas': 2531, 'fragua': 2532, 'metales': 2533, 'calladas': 2534, 'luchas': 2535, 'volante': 2536, 'venida': 2537, 'traída': 2538, 'fulgurece': 2539, 'debajo': 2540, 'quejumbre': 2541, 'remolino': 2542, 'cruza': 2543, 'encima': 2544, 'detenerte': 2545, 'sepulcros': 2546, 'acarrea': 2547, 'destroza': 2548, 'dispersa': 2549, 'raíz': 2550, 'soñolienta': 2551, 'desarraiga': 2552, 'clara': 2553, 'formando': 2554, 'iluminadas': 2555, 'nocturnas': 2556, 'lirio': 2557, 'hecha': 2558, 'partiste': 2559, 'cuchillazos': 2560, 'sonría': 2561, 'enterró': 2562, 'campanas': 2563, 'turbio': 2564, 'revuelo': 2565, 'tormentas': 2566, 'tocarla': 2567, 'entristecerla': 2568, 'ay': 2569, 'atajando': 2570, 'abiertos': 2571, 'llegará': 2572, 'socavas': 2573, 'eternamente': 2574, 'fuga': 2575, 'dicho': 2576, 'cantabas': 2577, 'mástiles': 2578, 'taciturna': 2579, 'entristeces': 2580, 'acogedora': 2581, 'pueblan': 2582, 'nostálgicas': 2583, 'huyen': 2584, 'dormían': 2585, 'ido': 2586, 'marcando': 2587, 'atlas': 2588, 'araña': 2589, 'cruzaba': 2590, 'escondiéndose': 2591, 'sedienta': 2592, 'contarte': 2593, 'estuvieras': 2594, 'cisne': 2595, 'maduro': 2596, 'frutal': 2597, 'viví': 2598, 'amaba': 2599, 'cruzada': 2600, 'acorralado': 2601, 'callado': 2602, 'gondoleros': 2603, 'inmóviles': 2604, 'retienen': 2605, 'temblando': 2606, 'fugaces': 2607, 'sube': 2608, 'celebrarte': 2609, 'haces': 2610, 'repente': 2611, 'llegado': 2612, 'vértice': 2613, 'atrevido': 2614, 'visitadora': 2615, 'cabecita': 2616, 'aprieto': 2617, 'tenderte': 2618, 'guirnaldas': 2619, 'amarillas': 2620, 'escribe': 2621, 'existías': 2622, 'aúlla': 2623, 'golpea': 2624, 'cerrada': 2625, 'cuajada': 2626, 'peces': 2627, 'sombríos': 2628, 'vienen': 2629, 'desviste': 2630, 'lluvia': 2631, 'luchar': 2632, 'hombres': 2633, 'temporal': 2634, 'arremolina': 2635, 'barcas': 2636, 'anoche': 2637, 'amarraron': 2638, 'huyes': 2639, 'responderás': 2640, 'ovíllate': 2641, 'tuvieras': 2642, 'alguna': 2643, 'corrió': 2644, 'traes': 2645, 'madreselvas': 2646, 'perfumados': 2647, 'matando': 2648, 'muerde': 2649, 'ciruela': 2650, 'dolido': 2651, 'acostumbrarte': 2652, 'ahuyentan': 2653, 'lucero': 2654, 'besándonos': 2655, 'cabezas': 2656, 'destorcerse': 2657, 'abanicos': 2658, 'girantes': 2659, 'llovieron': 2660, 'acariciándote': 2661, 'nácar': 2662, 'soleado': 2663, 'dueña': 2664, 'traeré': 2665, 'copihues': 2666, 'avellanas': 2667, 'cestas': 2668, 'silvestres': 2669, 'primavera': 2670, 'cerezos': 2671, 'toca': 2672, 'hubieran': 2673, 'volado': 2674, 'cerrara': 2675, 'emerges': 2676, 'melancolía': 2677, 'quejándote': 2678, 'arrullo': 2679, 'alcanza': 2680, 'calle': 2681, 'simple': 2682, 'anillo': 2683, 'callada': 2684, 'constelada': 2685, 'sencillo': 2686, 'dolorosa': 2687, 'hubieras': 2688, 'nube': 2689, 'forma': 2690, 'sonrosa': 2691, 'vino': 2692, 'segadora': 2693, 'sienten': 2694, 'solitarios': 2695, 'brisa': 2696, 'viuda': 2697, 'cazadora': 2698, 'estanca': 2699, 'presa': 2700, 'anchas': 2701, 'nace': 2702, 'enredando': 2703, 'sombras': 2704, 'soltando': 2705, 'desvaneciendo': 2706, 'imágenes': 2707, 'brumas': 2708, 'ahogando': 2709, 'lamentos': 2710, 'moliendo': 2711, 'esperanzas': 2712, 'sombrías': 2713, 'molinero': 2714, 'taciturno': 2715, 'viene': 2716, 'bruces': 2717, 'ajena': 2718, 'cosa': 2719, 'largamente': 2720, 'áspera': 2721, 'piedras': 2722, 'corriendo': 2723, 'vaho': 2724, 'desbocado': 2725, 'violento': 2726, 'estirado': 2727, 'raya': 2728, 'varilla': 2729, 'abanico': 2730, 'inmenso': 2731, 'llamea': 2732, 'chispea': 2733, 'derrumba': 2734, 'crepita': 2735, 'virutas': 2736, 'poblado': 2737, 'nostalgia': 2738, 'bocina': 2739, 'cantando': 2740, 'anudada': 2741, 'sacudida': 2742, 'rodaba': 2743, 'interminable': 2744, 'desenreda': 2745, 'fosforece': 2746, 'andan': 2747, 'iguales': 2748, 'persiguiéndose': 2749, 'desciñe': 2750, 'danzantes': 2751, 'figuras': 2752, 'gaviota': 2753, 'descuelga': 2754, 'ocaso': 2755, 'vela': 2756, 'amanezco': 2757, 'suena': 2758, 'resuena': 2759, 'vano': 2760, 'oculta': 2761, 'amando': 2762, 'barcos': 2763, 'graves': 2764, 'olvidado': 2765, 'anclas': 2766, 'atraca': 2767, 'inútilmente': 2768, 'hambrienta': 2769, 'hastío': 2770, 'forcejea': 2771, 'lentos': 2772, 'cantarme': 2773, 'girar': 2774, 'rodaje': 2775, 'miran': 2776, 'quieren': 2777, 'alambre': 2778, 'frutas': 2779, 'cuaja': 2780, 'trigos': 2781, 'tuerce': 2782, 'algas': 2783, 'luminosos': 2784, 'arrolla': 2785, 'hebras': 2786, 'melena': 2787, 'estiras': 2788, 'estero': 2789, 'remansos': 2790, 'acerca': 2791, 'mediodía': 2792, 'juventud': 2793, 'sombrío': 2794, 'definitiva': 2795, 'trigal': 2796, 'amapola': 2797, 'ejemplo': 2798, 'tiritan': 2799, 'gira': 2800, 'besé': 2801, 'haber': 2802, 'amado': 2803, 'fijos': 2804, 'oír': 2805, 'pasto': 2806, 'pudiera': 2807, 'guardarla': 2808, 'acercarla': 2809, 'blanquear': 2810, 'oído': 2811, 'éste': 2812, 'causa': 2813, 'éstos': 2814, 'río': 2815, 'anuda': 2816, 'lamento': 2817, 'obstinado': 2818, 'llueven': 2819, 'feroz': 2820, 'cueva': 2821, 'náufragos': 2822, 'acumularon': 2823, 'vuelos': 2824, 'alzaron': 2825, 'tragaste': 2826, 'lejanía': 2827, 'piloto': 2828, 'turbia': 2829, 'infancia': 2830, 'alada': 2831, 'ceñiste': 2832, 'agarraste': 2833, 'tumbó': 2834, 'retroceder': 2835, 'muralla': 2836, 'anduve': 2837, 'acto': 2838, 'evoco': 2839, 'albergaste': 2840, 'infinita': 2841, 'trizó': 2842, 'acogieron': 2843, 'fruta': 2844, 'duelo': 2845, 'ruinas': 2846, 'sé': 2847, 'pudiste': 2848, 'contenerme': 2849, 'terrible': 2850, 'revuelto': 2851, 'tirante': 2852, 'ávido': 2853, 'tumbas': 2854, 'racimos': 2855, 'arden': 2856, 'picoteados': 2857, 'mordida': 2858, 'besados': 2859, 'miembros': 2860, 'hambrientos': 2861, 'dientes': 2862, 'cuerpos': 2863, 'trenzados': 2864, 'cópula': 2865, 'loca': 2866, 'esfuerzo': 2867, 'anudamos': 2868, 'desesperamos': 2869, 'leve': 2870, 'harina': 2871, 'comenzada': 2872, 'viajó': 2873, 'exprimiste': 2874, 'ahogaron': 2875, 'llameaste': 2876, 'cantaste': 2877, 'pie': 2878, 'proa': 2879, 'floreciste': 2880, 'rompiste': 2881, 'corrientes': 2882, 'pozo': 2883, 'abierto': 2884, 'desventurado': 2885, 'hondero': 2886, 'dura': 2887, 'horario': 2888, 'cinturón': 2889, 'ruidoso': 2890, 'ciñe': 2891, 'surgen': 2892, 'trémula': 2893, 'retuerce': 2894}\n",
            "2895\n"
          ]
        }
      ]
    },
    {
      "cell_type": "code",
      "metadata": {
        "id": "soPGVheskaQP"
      },
      "source": [
        "input_sequences = []\n",
        "for line in corpus:\n",
        "\ttoken_list = tokenizer.texts_to_sequences([line])[0]\n",
        "\tfor i in range(1, len(token_list)):\n",
        "\t\tn_gram_sequence = token_list[:i+1]\n",
        "\t\tinput_sequences.append(n_gram_sequence)\n",
        "\n",
        "max_sequence_len = max([len(x) for x in input_sequences])\n",
        "input_sequences = np.array(pad_sequences(input_sequences, maxlen=max_sequence_len, padding='pre'))\n",
        "\n",
        "xs, labels = input_sequences[:,:-1],input_sequences[:,-1]\n",
        "ys = tf.keras.utils.to_categorical(labels, num_classes=total_words)"
      ],
      "execution_count": 5,
      "outputs": []
    },
    {
      "cell_type": "code",
      "metadata": {
        "id": "pJtwVB2NbOAP",
        "colab": {
          "base_uri": "https://localhost:8080/"
        },
        "outputId": "8d3c2e44-aaed-4fa6-f94c-55aaefe6fe80"
      },
      "source": [
        "print(tokenizer.word_index['amor'])"
      ],
      "execution_count": 6,
      "outputs": [
        {
          "output_type": "stream",
          "name": "stdout",
          "text": [
            "39\n"
          ]
        }
      ]
    },
    {
      "cell_type": "code",
      "metadata": {
        "id": "H4myRpB1c4Gg",
        "colab": {
          "base_uri": "https://localhost:8080/"
        },
        "outputId": "39b30538-953a-4c48-f412-12d2bad695e7"
      },
      "source": [
        "print(tokenizer.word_index)"
      ],
      "execution_count": 7,
      "outputs": [
        {
          "output_type": "stream",
          "name": "stdout",
          "text": [
            "{'de': 1, 'que': 2, 'la': 3, 'el': 4, 'en': 5, 'y': 6, 'a': 7, 'un': 8, 'mi': 9, 'los': 10, 'me': 11, 'por': 12, 'se': 13, 'con': 14, 'no': 15, 'las': 16, 'como': 17, 'es': 18, 'lo': 19, 'para': 20, 'del': 21, 'te': 22, 'tu': 23, 'al': 24, 'una': 25, 'vida': 26, 'más': 27, 'si': 28, 'ser': 29, 'mis': 30, 'nos': 31, 'todo': 32, 'alma': 33, 'su': 34, 'sin': 35, 'este': 36, 'tiempo': 37, 'ojos': 38, 'amor': 39, 'cuando': 40, 'donde': 41, 'ganas': 42, 'ti': 43, 'arte': 44, 'día': 45, 'yo': 46, 'mas': 47, 'qué': 48, 'tus': 49, 'besos': 50, 'pero': 51, 'noche': 52, 'hace': 53, 'le': 54, 'usted': 55, 'menos': 56, 'cielo': 57, 'recuerdo': 58, 'ni': 59, 'solo': 60, 'luz': 61, 'eres': 62, 'tierra': 63, 'tú': 64, 'ese': 65, 'sueño': 66, 'entre': 67, 'tan': 68, 'deseo': 69, 'café': 70, 'aquel': 71, 'desde': 72, 'hasta': 73, 'o': 74, 'esta': 75, 'corazón': 76, 'son': 77, 'veces': 78, 'mirada': 79, 'mundo': 80, 'ella': 81, 'viento': 82, 'momento': 83, 'sueños': 84, 'ver': 85, 'mejor': 86, 'voz': 87, 'cuerpo': 88, 'sus': 89, 'aquí': 90, 'siempre': 91, 'días': 92, 'versos': 93, 'todos': 94, 'hora': 95, 'nunca': 96, 'fue': 97, 'porque': 98, 'beso': 99, 'poesía': 100, 'mente': 101, 'escribir': 102, 'palabras': 103, 'cafe': 104, 'cada': 105, 'fin': 106, 'hoy': 107, 'ya': 108, 'vivir': 109, 'quiero': 110, 'ah': 111, 'sobre': 112, 'amante': 113, 'silencio': 114, 'otro': 115, 'algo': 116, 'soledad': 117, 'pues': 118, 'soy': 119, 'cosas': 120, 'poemas': 121, 'ha': 122, 'estos': 123, 'he': 124, 'mar': 125, 'color': 126, 'muerte': 127, 'muchos': 128, 'parece': 129, 'vacío': 130, 'mañana': 131, 'realidad': 132, 'quien': 133, 'lejos': 134, 'aún': 135, 'era': 136, 'oh': 137, 'sentir': 138, 'otros': 139, 'instante': 140, 'brazos': 141, 'está': 142, 'poesia': 143, 'quisiera': 144, 'vez': 145, 'boca': 146, 'todas': 147, 'cómo': 148, 'eso': 149, 'somos': 150, 'mía': 151, 'esa': 152, 'nosotros': 153, 'creatividad': 154, 'sea': 155, 'lado': 156, 'amanecer': 157, 'lugar': 158, 'hacia': 159, 'dos': 160, 'otra': 161, 'morir': 162, 'amo': 163, 'despertar': 164, 'manos': 165, 'aun': 166, 'mí': 167, 'sol': 168, 'tanto': 169, 'nadie': 170, 'amigo': 171, 'quién': 172, 'despierta': 173, 'triste': 174, 'volver': 175, 'acuerdo': 176, 'mundos': 177, 'perdido': 178, 'estrellas': 179, 'libro': 180, 'da': 181, 'frente': 182, 'uno': 183, 'mueren': 184, 'tardes': 185, 'extraño': 186, 'nada': 187, 'atardecer': 188, 'mientras': 189, 'sentado': 190, 'deja': 191, 've': 192, 'ayer': 193, 'horas': 194, 'también': 195, 'camino': 196, 'caos': 197, 'sonrisa': 198, 'energía': 199, 'siento': 200, 'puedo': 201, 'agua': 202, 'canta': 203, 'ahi': 204, 'vos': 205, 'verte': 206, 'labios': 207, 'esos': 208, 'corren': 209, 'presencia': 210, 'princesa': 211, 'alvoza': 212, 'noches': 213, 'desperté': 214, 'hambre': 215, 'cama': 216, 'llena': 217, 'espera': 218, 'mío': 219, 'ellos': 220, 'oscura': 221, 'encontrar': 222, 'así': 223, 'él': 224, 'pájaros': 225, 'estás': 226, 'risas': 227, 'darme': 228, 'jugar': 229, 'universo': 230, 'embargo': 231, 'momentos': 232, 'nuestras': 233, 'bueno': 234, 'ahora': 235, 'verdad': 236, 'amiga': 237, 'fuerza': 238, 'perro': 239, 'miedo': 240, 'verso': 241, 'amarnos': 242, 'espacio': 243, 'recordando': 244, 'viendo': 245, 'madrugada': 246, 'dejar': 247, 'sentidos': 248, 'bien': 249, 'parte': 250, 'locura': 251, 'llanto': 252, 'creer': 253, 'tristeza': 254, 'amigos': 255, 'loco': 256, 'libertad': 257, 'tengo': 258, 'mujer': 259, 'crepúsculo': 260, 'vidas': 261, 'estrella': 262, 'instantes': 263, 'han': 264, 'dado': 265, 'dormido': 266, 'estar': 267, 'ausencia': 268, 'colores': 269, 'duras': 270, 'penas': 271, 'cabeza': 272, 'recordar': 273, 'mentiras': 274, 'puede': 275, 'destino': 276, 'vivo': 277, 'perfecto': 278, 'recuerdos': 279, 'vacía': 280, 'rostro': 281, 'junto': 282, 'mentira': 283, 'hermoso': 284, 'obra': 285, 'tiempos': 286, 'están': 287, 'medida': 288, 'quizás': 289, 'futuro': 290, 'hojas': 291, 'alegre': 292, 'mil': 293, 'llegas': 294, 'tener': 295, 'papel': 296, 'ruido': 297, 'aquello': 298, 'luna': 299, 'contra': 300, 'mano': 301, 'punto': 302, 'horizonte': 303, 'acá': 304, 'pesa': 305, 'hacen': 306, 'medio': 307, 'aroma': 308, 'frio': 309, 'paso': 310, 'terminamos': 311, 'sabe': 312, 'distancia': 313, 'grande': 314, 'encontré': 315, 'abrazo': 316, 'rosas': 317, 'pensar': 318, 'quiere': 319, 'infinito': 320, 'alarma': 321, 'ves': 322, 'vuelto': 323, 'queda': 324, 'mal': 325, 'perder': 326, 'nombre': 327, 'lee': 328, 'mismos': 329, 'encuentro': 330, 'mejores': 331, 'unos': 332, 'tarde': 333, 'voy': 334, 'emociones': 335, 'fueron': 336, 'mucho': 337, 'país': 338, 'amar': 339, 'antes': 340, 'difícil': 341, 'entonces': 342, 'mariposa': 343, 'alas': 344, 'dolor': 345, 'ausente': 346, 'pasa': 347, 'voluntad': 348, 'calor': 349, 'allá': 350, 'gente': 351, 'estoy': 352, 'traje': 353, 'cansado': 354, 'busca': 355, 'gusta': 356, 'reloj': 357, 'dulce': 358, 'eras': 359, 'tristes': 360, 'naufragio': 361, 'tantas': 362, 'capítulo': 363, 'algunos': 364, 'siguiente': 365, 'tienes': 366, 'pocos': 367, 'pregunta': 368, 'nacer': 369, 'huir': 370, 'tantos': 371, 'nuestra': 372, 'pesar': 373, 'melodía': 374, 'danzar': 375, 'aquella': 376, 'apaga': 377, 'dentro': 378, 'oscuridad': 379, 'lleva': 380, 'escapar': 381, 'buscaba': 382, 'historias': 383, 'toda': 384, 'pronto': 385, 'gracias': 386, 'amarte': 387, 'tenerte': 388, 'querer': 389, 'aunque': 390, 'eterno': 391, 'minuto': 392, 'quedan': 393, 'inunda': 394, 'llenan': 395, 'podia': 396, 'llenar': 397, 'esconderse': 398, 'toma': 399, 'último': 400, 'pequeño': 401, 'mismo': 402, 'falta': 403, 'pasan': 404, 'regresar': 405, 'hubiera': 406, 'vive': 407, 'imaginación': 408, 'olvido': 409, 'seguir': 410, 'frío': 411, 'pecho': 412, 'dormir': 413, 'casa': 414, 'quería': 415, 'quedo': 416, 'imposible': 417, 'aliento': 418, 'esperanza': 419, 'nubes': 420, 'altas': 421, 'juego': 422, 'diferente': 423, 'recuerda': 424, 'olor': 425, 'personas': 426, 'indiferencia': 427, 'veo': 428, 'olvida': 429, 'visto': 430, 'poema': 431, 'enséñale': 432, 'palabra': 433, 'poder': 434, 'tal': 435, 'angustia': 436, 'club': 437, 'sí': 438, 'azul': 439, 'hay': 440, 'antigua': 441, 'grandes': 442, 'tiene': 443, 'juntos': 444, 'perdí': 445, 'calma': 446, 'música': 447, 'llama': 448, 'poco': 449, 'quede': 450, 'canción': 451, 'estas': 452, 'contigo': 453, 'odio': 454, 'sabias': 455, 'fuiste': 456, 'sed': 457, 'ola': 458, 'distante': 459, 'inventar': 460, 'encuentre': 461, 'suerte': 462, 'habrá': 463, 'parecen': 464, 'viven': 465, 'hormigo': 466, 'planeta': 467, 'nuevos': 468, 'luego': 469, 'intento': 470, 'salva': 471, 'vuelve': 472, 'final': 473, 'das': 474, 'recordarte': 475, 'siente': 476, 'detiene': 477, 'muere': 478, 'acostado': 479, 'añorando': 480, 'llegada': 481, 'quiera': 482, 'iba': 483, 'tuve': 484, 'ir': 485, 'libre': 486, 'suyo': 487, 'presente': 488, 'terapia': 489, 'empece': 490, 'lleno': 491, 'sonido': 492, 'letras': 493, 'verdes': 494, 'dia': 495, 'dependencia': 496, 'calles': 497, 'piedra': 498, 'rostros': 499, 'soñando': 500, 'baile': 501, 'ángel': 502, 'hago': 503, 'alta': 504, 'entrega': 505, 'amantes': 506, 'dan': 507, 'pintar': 508, 'guerra': 509, 'alcance': 510, 'perdiendo': 511, 'e': 512, 'calienta': 513, 'muriendo': 514, 'unas': 515, 'buscando': 516, 'placer': 517, 'distancias': 518, 'di': 519, 'soñado': 520, 'única': 521, 'solas': 522, 'bailando': 523, 'cuello': 524, 'dorada': 525, 'llora': 526, 'atrasa': 527, 'anhelos': 528, 'olvidar': 529, 'arma': 530, 'pida': 531, 'caer': 532, 'hacemos': 533, 'accedemos': 534, 'olvidarla': 535, 'invento': 536, 'atención': 537, 'fallo': 538, 'idea': 539, 'partir': 540, 'puedes': 541, 'inspira': 542, 'llorar': 543, 'suaviza': 544, 'duros': 545, 'acuarelas': 546, 'agradecimiento': 547, 'profunda': 548, 'hecho': 549, 'espejos': 550, 'fuera': 551, 'nuestro': 552, 'pequeños': 553, 'hacer': 554, 'peligro': 555, 'roba': 556, 'seria': 557, 'duda': 558, 'respirar': 559, 'pase': 560, 'acepta': 561, 'bajo': 562, 'blanco': 563, 'buen': 564, 'artistas': 565, 'pequeña': 566, 'salir': 567, 'desierto': 568, 'suficiente': 569, 'blanca': 570, 'dicen': 571, 'quetzal': 572, 'pies': 573, 'piel': 574, 'extraña': 575, 'espejo': 576, 'algún': 577, 'peso': 578, 'desesperado': 579, 'pienso': 580, 'pasado': 581, 'paz': 582, 'tomo': 583, 'bailo': 584, 'uvas': 585, 'dulces': 586, 'ahorrando': 587, 'comprar': 588, 'anhelo': 589, 'viaje': 590, 'van': 591, 'escapa': 592, 'escribo': 593, 'flor': 594, 'llenos': 595, 'cierto': 596, 'escombros': 597, 'blancas': 598, 'pareces': 599, 'viejas': 600, 'fuego': 601, 'pinos': 602, 'olas': 603, 'húmeda': 604, 'árboles': 605, 'humo': 606, 'redes': 607, 'allí': 608, 'arde': 609, 'azules': 610, 'silenciosa': 611, 'sombra': 612, 'niña': 613, 'incendio': 614, 'déjame': 615, 'negra': 616, 'abandonado': 617, 'serlo': 618, 'autor': 619, 'batalla': 620, 'jamás': 621, 'imaginé': 622, 'quieres': 623, 'ironía': 624, 'vio': 625, 'malo': 626, 'transporta': 627, 'vemos': 628, 'dorados': 629, 'barriletes': 630, 'dejan': 631, 'podemos': 632, 'baila': 633, '4': 634, 'descubrir': 635, 'promesa': 636, 'arrastra': 637, 'mia': 638, 'mirarte': 639, 'manera': 640, 'daba': 641, 'dejaba': 642, 'habría': 643, 'busques': 644, 'esquina': 645, 'veía': 646, 'deje': 647, 'vamos': 648, 'juega': 649, 'trae': 650, 'grises': 651, 'estremecer': 652, 'abrazar': 653, 'atento': 654, 'negros': 655, 'sur': 656, 'llueve': 657, 'buscar': 658, 'viejos': 659, 'encontrarla': 660, 'mayor': 661, 'buscan': 662, 'resto': 663, 'lago': 664, 'milagro': 665, 'tenemos': 666, 'pide': 667, 'eternos': 668, 'ansioso': 669, 'avión': 670, 'despistado': 671, 'mariposas': 672, 'arrugas': 673, 'solitario': 674, 'abrazando': 675, 'prefiero': 676, 'astros': 677, 'elijo': 678, 'saben': 679, 'encontrarnos': 680, 'gotas': 681, 'rocio': 682, 'desvelo': 683, 'minutos': 684, 'mortal': 685, 'vibrar': 686, 'esas': 687, 'llegan': 688, 'decide': 689, 'respuesta': 690, 'llega': 691, 'alguien': 692, 'mala': 693, 'sonrisas': 694, '」': 695, 'regreso': 696, 'vividos': 697, 'nuevo': 698, 'soñarte': 699, 'abunda': 700, 'recordarle': 701, 'únicos': 702, 'hechos': 703, 'brillar': 704, 'contribuir': 705, 'ademas': 706, 'recordarnos': 707, 'seres': 708, 'individuales': 709, 'reír': 710, 'retratar': 711, 'habla': 712, 'aceptación': 713, 'desamor': 714, 'básicamente': 715, 'lugares': 716, 'valga': 717, 'pena': 718, 'abrir': 719, 'almas': 720, 'modo': 721, 'comparto': 722, 'decir': 723, 'escrito': 724, 'encontrarte': 725, 'dé': 726, 'fría': 727, 'llegar': 728, 'canto': 729, 'ciego': 730, 'va': 731, 'esto': 732, 'puerta': 733, 'huye': 734, 'barco': 735, 'pudiendo': 736, 'aire': 737, 'suelta': 738, 'sorpresa': 739, 'viejo': 740, 'inicio': 741, 'ladrón': 742, 'roban': 743, 'hombros': 744, 'artista': 745, 'les': 746, 'guatemala': 747, 'dios': 748, 'ciudad': 749, 'niños': 750, 'herida': 751, 'siguen': 752, 'cree': 753, 'saber': 754, 'ellas': 755, 'encierro': 756, 'dudas': 757, 'empecé': 758, 'sociedad': 759, 'esperando': 760, 'gritando': 761, 'enamorado': 762, 'apodera': 763, 'dejo': 764, 'crear': 765, 'soñador': 766, 'cerrar': 767, 'real': 768, 'muy': 769, 'irme': 770, 'fe': 771, 'sigue': 772, 'entendemos': 773, 'quita': 774, 'después': 775, 'vivido': 776, 'basta': 777, 'estaba': 778, 'escape': 779, 'sabor': 780, 'sentimientos': 781, 'muerto': 782, 'carne': 783, 'reflejo': 784, 'amargo': 785, 'oscuras': 786, 'sola': 787, 'fondo': 788, 'haciendo': 789, 'pensarla': 790, 'alba': 791, 'desnudas': 792, 'última': 793, 'fui': 794, 'barato': 795, 'amé': 796, 'encontrarme': 797, 'recuérdame': 798, 'quise': 799, 'distraído': 800, 'paraíso': 801, 'ponga': 802, 'estuche': 803, 'conmigo': 804, 'excusas': 805, 'soñé': 806, 'blancos': 807, 'cae': 808, 'oscuros': 809, 'vueltas': 810, 'vestido': 811, 'pálido': 812, 'muñeca': 813, 'niebla': 814, 'tempestad': 815, 'oigas': 816, 'ebrio': 817, 'llenas': 818, 'ocupas': 819, 'otoño': 820, 'gris': 821, 'profundos': 822, 'crepúsculos': 823, 'orilla': 824, 'sólo': 825, 'abeja': 826, 'ecos': 827, 'ansiedad': 828, 'montañas': 829, 'cruz': 830, 'luto': 831, 'furia': 832, 'rocío': 833, 'lejano': 834, 'alegría': 835, 'ternura': 836, 'grito': 837, 'gustas': 838, 'callas': 839, 'pensando': 840, 'frías': 841, 'muelles': 842, 'morena': 843, 'sentina': 844, 'batallas': 845, 'escudo': 846, 'espada': 847, '1': 848, 'pedirlo': 849, 'pensarlo': 850, 'aprender': 851, 'emprender': 852, 'intentar': 853, 'escondite': 854, 'llorando': 855, 'vas': 856, 'sonriendo': 857, 'estornudo': 858, 'acabado': 859, 'detenerse': 860, 'eternidad': 861, 'hagas': 862, 'nacen': 863, '2': 864, 'elige': 865, 'germine': 866, 'semilla': 867, 'desgracia': 868, 'casan': 869, 'intenten': 870, 'llevaran': 871, 'madre': 872, 'elegimos': 873, 'sigan': 874, 'origen': 875, 'perdura': 876, 'oímos': 877, 'divina': 878, '3': 879, 'explorar': 880, 'conocer': 881, 'descubrimos': 882, 'realmente': 883, 'grita': 884, 'zapatea': 885, 'abraza': 886, 'asfixia': 887, 'montaña': 888, 'rusa': 889, 'cohete': 890, 'saca': 891, 'pasea': 892, 'planetas': 893, 'meteorito': 894, 'dejándote': 895, 'mero': 896, 'gravedad': 897, 'quedaste': 898, 'varado': 899, 'inspiración': 900, 'añoraba': 901, '5': 902, 'liberándonos': 903, 'finita': 904, 'esquivan': 905, 'contados': 906, 'dedos': 907, 'oración': 908, 'preciso': 909, 'ultimo': 910, 'futura': 911, 'quitas': 912, 'amada': 913, 'dicha': 914, 'fiel': 915, 'comerte': 916, 'despertarte': 917, 'aca': 918, 'parecia': 919, 'preocuparse': 920, 'hubiese': 921, 'tocado': 922, 'venir': 923, '¡fuerza': 924, 'seguia': 925, 'volteando': 926, 'buscandola': 927, 'recordaban': 928, 'sostuve': 929, 'platicar': 930, 'latente': 931, 'presiente': 932, 'mienten': 933, 'ganó': 934, 'alcanzaba': 935, 'ahorraba': 936, 'tenia': 937, 'invertirlo': 938, 'pesado': 939, 'tanque': 940, 'mayoría': 941, 'amanecen': 942, 'ensordecedor': 943, 'aturde': 944, 'carente': 945, 'hambriento': 946, 'adentro': 947, 'fotos': 948, 'notas': 949, 'paseando': 950, 'parque': 951, 'rojos': 952, 'rotos': 953, 'tras': 954, 'golpean': 955, 'latidos': 956, 'festejando': 957, 'desfila': 958, 'norte': 959, 'sudor': 960, 'cuento': 961, 'segundos': 962, 'ciegos': 963, '『pensar': 964, 'posibilidad': 965, 'latiera': 966, 'cual': 967, 'redoblante': 968, 'plaza': 969, '15': 970, 'septiembre': 971, '』': 972, 'añora': 973, 'pieza': 974, 'apodere': 975, 'primer': 976, 'xocomil': 977, 'atrapado': 978, 'danza': 979, 'principe': 980, 'encuentran': 981, 'sacudido': 982, 'prohibido': 983, '¿cuándo': 984, 'sonríe': 985, 'agotados': 986, 'encontrarse': 987, 'aguanta': 988, 'bajemos': 989, 'regresemos': 990, 'terminaremos': 991, 'aniquilas': 992, 'humedezcan': 993, 'apague': 994, 'gaveta': 995, 'mientas': 996, 'constantes': 997, 'mañanas': 998, 'recompensados': 999, 'pacientes': 1000, 'peligrosa': 1001, 'llamar': 1002, 'esperándome': 1003, 'sentada': 1004, 'inventábamos': 1005, 'vernos': 1006, 'suelo': 1007, 'iniciar': 1008, 'revolución': 1009, 'estallido': 1010, 'atacando': 1011, 'mociones': 1012, 'humano': 1013, 'crecerá': 1014, 'permita': 1015, '»innumerables': 1016, 'inventando': 1017, 'posiblemente': 1018, '«': 1019, 'vanushca': 1020, 'durmiendo': 1021, 'ensueño': 1022, 'muerta': 1023, 'tumba': 1024, 'nieve': 1025, 'abajo': 1026, 'agotando': 1027, 'aplazando': 1028, 'coquetos': 1029, 'encontrando': 1030, 'ratos': 1031, 'calculante': 1032, 'duerme': 1033, 'nubla': 1034, 'letargo': 1035, 'reclama': 1036, 'oasis': 1037, 'vacíos': 1038, 'tocan': 1039, 'vejez': 1040, 'reconoces': 1041, 'desperte': 1042, 'quedado': 1043, 'hacerme': 1044, 'compañía': 1045, 'tormenta': 1046, 'tube': 1047, 'favorita': 1048, 'alinean': 1049, 'empiezo': 1050, 'despeja': 1051, 'aparece': 1052, 'maneras': 1053, 'preso': 1054, 'piernas': 1055, 'compas': 1056, 'sintiendo': 1057, 'infierno': 1058, 'provocan': 1059, 'derriten': 1060, 'contando': 1061, 'falle': 1062, 'inicia': 1063, 'soñada': 1064, 'celosa': 1065, 'amadada': 1066, 'quitarme': 1067, 'boquiabierto': 1068, 'despierto': 1069, 'separan': 1070, 'deshace': 1071, 'sangra': 1072, 'armonía': 1073, 'total': 1074, 'mirar': 1075, 'jugando': 1076, 'sostén': 1077, 'preciosas': 1078, 'ladronas': 1079, 'dadoras': 1080, '11': 1081, 'deseos': 1082, 'partes': 1083, 'rebozando': 1084, 'alcanzar': 1085, 'angel': 1086, 'baja': 1087, 'limpiarse': 1088, 'lagrimas': 1089, 'amanece': 1090, 'depende': 1091, 'amanezcamos': 1092, 'extrañando': 1093, 'somo': 1094, 'nostros': 1095, 'paramos': 1096, 'sorprendería': 1097, 'trato': 1098, 'espero': 1099, 'encontraré': 1100, '「para': 1101, 'pone': 1102, 'necesariamente': 1103, 'esperan': 1104, 'muchas': 1105, 'buenas': 1106, 'bellas': 1107, 'perdida': 1108, 'lluvioso': 1109, 'mojada': 1110, 'preciosos': 1111, 'enamorada': 1112, 'pausa': 1113, 'historia': 1114, 'inconclusa': 1115, 'acusa': 1116, 'vencido': 1117, 'vinos': 1118, 'termina': 1119, 'germina': 1120, 'bello': 1121, 'duermo': 1122, 'muero': 1123, 'evadir': 1124, 'roto': 1125, 'vueltos': 1126, 'polvo': 1127, 'audio': 1128, 'ordenar': 1129, 'copia': 1130, 'firmada': 1131, 'eresarte': 1132, 'info': 1133, 'inspirados': 1134, 'personalmente': 1135, 'verdaderos': 1136, 'autores': 1137, 'copie': 1138, 'desnudar': 1139, 'parecer': 1140, 'será': 1141, 'verlo': 1142, 'pasión': 1143, 'locos': 1144, 'has': 1145, 'contemplar': 1146, 'escritor': 1147, 'fruto': 1148, 'importante': 1149, 'persona': 1150, 'alguno': 1151, 'además': 1152, 'profundo': 1153, 'oscuro': 1154, 'demás': 1155, 'interior': 1156, 'empezar': 1157, 'verme': 1158, 'cambiar': 1159, 'rumbo': 1160, 'acostumbras': 1161, 'rompe': 1162, 'gota': 1163, 'cura': 1164, 'mata': 1165, 'ideas': 1166, 'ajeno': 1167, 'ciega': 1168, 'seamos': 1169, 'batir': 1170, 'tasa': 1171, 'eterna': 1172, 'humanidad': 1173, 'enfermedad': 1174, 'acabo': 1175, 'dio': 1176, 'elegir': 1177, 'todavía': 1178, 'maya': 1179, 'fuerte': 1180, 'campanadas': 1181, 'lejanas': 1182, 'cuidado': 1183, 'irse': 1184, 'cementerio': 1185, 'grandeza': 1186, 'danzando': 1187, 'abre': 1188, 'hipnotiza': 1189, 'hagámosles': 1190, 'favor': 1191, 'cualquiera': 1192, 'político': 1193, 'dejamos': 1194, 'pueda': 1195, 'largo': 1196, 'tienen': 1197, 'politicos': 1198, 'buenos': 1199, 'sean': 1200, 'cajita': 1201, 'caja': 1202, 'había': 1203, 'incierto': 1204, 'creo': 1205, 'cambio': 1206, 'verde': 1207, 'playas': 1208, 'sabes': 1209, 'ahí': 1210, 'conocí': 1211, 'recibir': 1212, 'protege': 1213, 'garras': 1214, 'desgarran': 1215, 'compasión': 1216, 'encerradas': 1217, 'poca': 1218, 'prisión': 1219, 'tipo': 1220, 'convencer': 1221, 'ancla': 1222, 'ausentes': 1223, 'garganta': 1224, 'control': 1225, 'llevar': 1226, 'levanta': 1227, 'plasmar': 1228, 'ordene': 1229, 'viva': 1230, 'creación': 1231, 'falsa': 1232, 'raro': 1233, 'muestra': 1234, 'cordura': 1235, 'esperar': 1236, 'dice': 1237, 'encanta': 1238, 'cuesta': 1239, 'peor': 1240, 'demonio': 1241, 'incluso': 1242, 'porqué': 1243, 'cumplidas': 1244, 'promesas': 1245, 'tacuche': 1246, 'padre': 1247, 'libres': 1248, 'llevan': 1249, 'debe': 1250, '7': 1251, 'depresión': 1252, 'ilusiones': 1253, 'quemaba': 1254, 'detalles': 1255, 'enamora': 1256, 'libreta': 1257, 'senté': 1258, 'tanta': 1259, 'casi': 1260, 'vientre': 1261, 'eternas': 1262, 'inconclusos': 1263, 'dar': 1264, 'esconden': 1265, 'seguridad': 1266, 'gramos': 1267, 'decencia': 1268, 'últimos': 1269, 'bosque': 1270, 'crece': 1271, 'miedos': 1272, 'hicimos': 1273, 'comer': 1274, 'bostezo': 1275, 'cobardes': 1276, 'dónde': 1277, 'hogar': 1278, 'culpa': 1279, 'descontrola': 1280, 'fiesta': 1281, 'volcán': 1282, 'uñas': 1283, 'lápiz': 1284, 'leo': 1285, 'importa': 1286, 'verla': 1287, 'darle': 1288, 'vientos': 1289, 'invierno': 1290, 'lean': 1291, 'brillaban': 1292, 'valor': 1293, 'vuelva': 1294, 'plata': 1295, 'quieras': 1296, 'faltaba': 1297, 'beber': 1298, 'atardeceres': 1299, 'entender': 1300, 'regale': 1301, 'murió': 1302, 'mataron': 1303, 'ironia': 1304, 'hola': 1305, 'hiciera': 1306, 'feliz': 1307, 'ilusión': 1308, 'sutil': 1309, 'hombro': 1310, 'enamoré': 1311, 'tuyo': 1312, 'sistema': 1313, 'esperarte': 1314, 'charlie': 1315, 'guerrera': 1316, 'desayuno': 1317, 'hice': 1318, 'misma': 1319, 'esté': 1320, 'cualquier': 1321, 'perros': 1322, 'cola': 1323, 'hizo': 1324, 'supiera': 1325, 'cuanto': 1326, 'entenderia': 1327, 'escribiendo': 1328, 'xela': 1329, 'olvidarme': 1330, 'perdi': 1331, 'memorias': 1332, 'hable': 1333, 'perecer': 1334, 'desierta': 1335, 'cuántas': 1336, 'cuánto': 1337, 'tocar': 1338, 'paginas': 1339, 'otras': 1340, 'salvaje': 1341, 'arco': 1342, 'ávida': 1343, 'lenta': 1344, 'ansia': 1345, 'fatiga': 1346, 'torno': 1347, 'racimo': 1348, 'raíces': 1349, 'negro': 1350, 'flores': 1351, 'lento': 1352, 'flechas': 1353, 'espigas': 1354, 'verano': 1355, 'sacude': 1356, 'guerras': 1357, 'cantos': 1358, 'rápido': 1359, 'robo': 1360, 'espuma': 1361, 'gaviotas': 1362, 'collar': 1363, 'suaves': 1364, 'huyendo': 1365, 'voces': 1366, 'compañera': 1367, 'sígueme': 1368, 'boina': 1369, 'caían': 1370, 'hoguera': 1371, 'estupor': 1372, 'ardía': 1373, 'torcido': 1374, 'pájaro': 1375, 'alegres': 1376, 'campo': 1377, 'cerros': 1378, 'inclinado': 1379, 'oceánicos': 1380, 'faro': 1381, 'emerge': 1382, 'costa': 1383, 'galopa': 1384, 'zumbas': 1385, 'rosa': 1386, 'cierra': 1387, 'temerosa': 1388, 'senos': 1389, 'errantes': 1390, 'árbol': 1391, 'delgada': 1392, 'marino': 1393, 'agrio': 1394, 'islas': 1395, 'aguas': 1396, 'arriba': 1397, 'sujeta': 1398, 'hemos': 1399, 'caía': 1400, 'ventana': 1401, 'estabas': 1402, 'cayó': 1403, 'espiga': 1404, 'detrás': 1405, 'aleja': 1406, 'bastan': 1407, 'corolas': 1408, 'emigran': 1409, 'cruces': 1410, 'puerto': 1411, 'delirante': 1412, 'apenas': 1413, 'cantar': 1414, 'arder': 1415, 'campanario': 1416, 'nocturna': 1417, 'juegas': 1418, 'red': 1419, 'oyes': 1420, 'claro': 1421, 'lámpara': 1422, 'infinitos': 1423, 'comienza': 1424, 'enterrando': 1425, 'lámparas': 1426, 'asalto': 1427, 'ágil': 1428, 'embriaguez': 1429, 'estrellada': 1430, 'quiso': 1431, 'ésta': 1432, 'inmensa': 1433, 'contenta': 1434, 'haberla': 1435, 'corto': 1436, 'buzo': 1437, 'descubridor': 1438, 'vaso': 1439, 'tumbo': 1440, 'agradecimientos': 1441, 'padres': 1442, 'dejarme': 1443, 'hermano': 1444, 'compañero': 1445, 'llevaré': 1446, 'absurdo': 1447, 'afortunadamente': 1448, 'tocó': 1449, 'nació': 1450, 'doquier': 1451, 'admirar': 1452, 'haga': 1453, 'estará': 1454, 'disponible': 1455, 'tres': 1456, 'versiones': 1457, 'ebook': 1458, 'kindle': 1459, 'version': 1460, 'impresa': 1461, 'podrás': 1462, 'principales': 1463, 'librerías': 1464, '31': 1465, 'julio': 1466, 'pre': 1467, 'www': 1468, 'introducción': 1469, 'mostrando': 1470, 'presento': 1471, 'pinturas': 1472, 'sencilla': 1473, 'interpretada': 1474, 'forzada': 1475, 'bonito': 1476, 'sepa': 1477, 'enfoca': 1478, 'descubren': 1479, 'cuadros': 1480, 'galería': 1481, 'edwin': 1482, 'san': 1483, 'juan': 1484, 'laguna': 1485, 'portada': 1486, 'atrevidos': 1487, 'magníficos': 1488, 'pareciera': 1489, 'imagen': 1490, 'tunnel': 1491, 'platiquen': 1492, 'lector': 1493, 'pinto': 1494, 'cuadro': 1495, 'despierte': 1496, 'ven': 1497, 'percibe': 1498, 'nutre': 1499, 'alborotando': 1500, 'hormiguero': 1501, 'valentía': 1502, 'reflejado': 1503, 'época': 1504, 'problemas': 1505, 'ayuda': 1506, 'emoción': 1507, 'toque': 1508, 'llevas': 1509, 'poemario': 1510, 'varios': 1511, 'intro': 1512, 'podcast': 1513, 'hablo': 1514, 'encontrarás': 1515, 'contiene': 1516, 'pensamientos': 1517, 'escritos': 1518, 'autoría': 1519, 'información': 1520, 'visitar': 1521, 'completo': 1522, 'física': 1523, 'lograr': 1524, 'ojalá': 1525, 'enamoramos': 1526, 'nuestros': 1527, 'esfuerzos': 1528, 'quietud': 1529, 'rodea': 1530, 'recordatorio': 1531, 'libramos': 1532, 'internas': 1533, 'diario': 1534, 'entretiene': 1535, 'pedirle': 1536, 'avance': 1537, 'demore': 1538, 'estadilla': 1539, 'mentir': 1540, 'ala': 1541, 'sorprende': 1542, 'retenerte': 1543, 'despintar': 1544, 'corazones': 1545, 'despejar': 1546, 'extrañe': 1547, 'otorga': 1548, 'calla': 1549, 'frágil': 1550, 'delicado': 1551, 'quema': 1552, 'martillo': 1553, 'baratas': 1554, 'soñar': 1555, 'usemos': 1556, 'llamada': 1557, 'amables': 1558, 'diferencia': 1559, 'dejado': 1560, 'imagina': 1561, 'transformara': 1562, 'magnifico': 1563, 'sería': 1564, 'aterrizar': 1565, 'nariz': 1566, 'latir': 1567, 'desvanecer': 1568, 'transformar': 1569, 'posar': 1570, 'vuelvas': 1571, 'atrevida': 1572, 'sentirse': 1573, 'secos': 1574, 'batería': 1575, 'estando': 1576, 'enfría': 1577, 'imagino': 1578, 'entrando': 1579, 'resplandeciente': 1580, 'acabó': 1581, 'pandemia': 1582, 'asechadas': 1583, 'cobra': 1584, 'respetar': 1585, 'fronteras': 1586, 'pagar': 1587, 'impuestos': 1588, 'atestado': 1589, 'hundirse': 1590, 'mares': 1591, 'salvavidas': 1592, 'imparable': 1593, 'impasible': 1594, 'atemoriza': 1595, 'artificial': 1596, 'contado': 1597, 'viaja': 1598, 'océanos': 1599, 'adversidad': 1600, 'pulmones': 1601, 'acepto': 1602, 'abandona': 1603, 'superioridad': 1604, 'renuncia': 1605, 'cuerda': 1606, 'lastima': 1607, 'sostiene': 1608, 'entiende': 1609, 'pasajero': 1610, 'nave': 1611, 'pilotea': 1612, 'llenando': 1613, 'cajones': 1614, 'dieron': 1615, '12': 1616, 'mensajero': 1617, 'llegó': 1618, 'reclamar': 1619, 'expresar': 1620, 'reprimir': 1621, 'desear': 1622, 'vienes': 1623, 'unes': 1624, 'celos': 1625, 'trafico': 1626, 'reuniones': 1627, 'rato': 1628, 'acompañan': 1629, 'iglesias': 1630, 'acercan': 1631, 'peligroso': 1632, 'paisajes': 1633, 'cielos': 1634, 'enero': 1635, 'guárdalas': 1636, 'crecer': 1637, 'roben': 1638, 'venga': 1639, 'robado': 1640, 'tierras': 1641, 'sobrevuelan': 1642, 'aires': 1643, 'gran': 1644, 'destreza': 1645, 'manco': 1646, 'gigantes': 1647, 'coloridos': 1648, 'rozando': 1649, 'ceda': 1650, 'china': 1651, 'bailar': 1652, 'cien': 1653, 'gigante': 1654, 'unirse': 1655, 'danzante': 1656, 'chicos': 1657, 'escuches': 1658, 'adueña': 1659, 'dudes': 1660, 'buscarme': 1661, 'celebrar': 1662, 'exigimos': 1663, 'apoyamos': 1664, 'campañas': 1665, 'pagan': 1666, 'pelo': 1667, 'empecemos': 1668, 'comparar': 1669, 'altura': 1670, 'talla': 1671, 'mundial': 1672, 'estudia': 1673, 'politico': 1674, 'exijamos': 1675, 'estudiados': 1676, 'honestos': 1677, 'existen': 1678, 'dejemos': 1679, 'guate': 1680, 'talento': 1681, 'apoyan': 1682, 'pague': 1683, 'amores': 1684, 'invitan': 1685, 'adoptar': 1686, 'ética': 1687, 'empatía': 1688, 'mentalidad': 1689, 'ponerle': 1690, 'nuevas': 1691, 'reglas': 1692, 'pueden': 1693, 'pidiendo': 1694, 'resta': 1695, 'multiplicar': 1696, 'actuemos': 1697, 'juzguemos': 1698, 'sana': 1699, 'mintiendo': 1700, 'robando': 1701, 'comiendo': 1702, 'riqueza': 1703, 'exista': 1704, 'muertos': 1705, 'celeste': 1706, 'rojo': 1707, 'negras': 1708, 'celajes': 1709, 'naranjas': 1710, 'quitan': 1711, 'nacieron': 1712, 'serenata': 1713, 'escriben': 1714, 'regalan': 1715, 'bohemios': 1716, 'inundamos': 1717, 'cafés': 1718, 'ama': 1719, '\\u2028como': 1720, 'creativo': 1721, 'cinco': 1722, 'diez': 1723, 'precio': 1724, 'voltear': 1725, 'sorprender': 1726, 'mejilla': 1727, 'llevarte': 1728, 'playa': 1729, 'escondida': 1730, 'acaricie': 1731, 'suspiro': 1732, 'arena': 1733, 'bañarme': 1734, 'docena': 1735, 'duela': 1736, 'estamos': 1737, 'incredulo': 1738, 'acaricia': 1739, 'barba': 1740, 'inexistente': 1741, 'preguntándose': 1742, 'lograré': 1743, 'clavas': 1744, 'éxitos': 1745, 'maquille': 1746, 'ancle': 1747, 'fé': 1748, 'prueba': 1749, 'logre': 1750, 'desbordaba': 1751, 'bailaba': 1752, 'falto': 1753, 'atorado': 1754, 'existir': 1755, 'retorcía': 1756, 'gastritis': 1757, 'quebrada': 1758, 'decía': 1759, 'escuchado': 1760, 'estaremos': 1761, 'disfrazada': 1762, 'pintura': 1763, 'variar': 1764, 'sedo': 1765, 'guiado': 1766, 'ii': 1767, 'sido': 1768, 'ordenes': 1769, 'recibirlas': 1770, 'obligue': 1771, 'sentarme': 1772, 'lienzo': 1773, 'saque': 1774, 'encender': 1775, 'encendido': 1776, 'desordene': 1777, 'valiente': 1778, 'compartir': 1779, 'iii': 1780, 'alientos': 1781, 'plasmarlos': 1782, 'vivirá': 1783, 'podrá': 1784, 'iv': 1785, 'perpetua': 1786, 'explota': 1787, 'poeta': 1788, 'antigüeño': 1789, 'argumentar': 1790, 'temores': 1791, 'asechan': 1792, 'gluten': 1793, 'sentarse': 1794, 'conviene': 1795, 'mascaras': 1796, 'títulos': 1797, 'rara': 1798, 'cuerdo': 1799, 'arrebatado': 1800, 'soltarlo': 1801, 'parlanchina': 1802, 'casos': 1803, 'gritar': 1804, '¡déjame': 1805, 'creciente': 1806, 'dejas': 1807, 'cambiado': 1808, 'digas': 1809, 'sabemos': 1810, 'encontraba': 1811, 'hallaba': 1812, 'conocemos': 1813, 'perdernos': 1814, 'parezca': 1815, 'listos': 1816, 'sabra': 1817, 'pan': 1818, 'metas': 1819, 'vivencias': 1820, 'acción': 1821, 'perdidas': 1822, 'cocinadas': 1823, 'preparadas': 1824, 'vapor': 1825, 'cuál': 1826, 'tubérculo': 1827, 'cruda': 1828, 'temido': 1829, 'dinero': 1830, 'responsabilidad': 1831, 'papa': 1832, 'irónico': 1833, 'tememos': 1834, 'nacemos': 1835, 'olvidamos': 1836, 'cambiando': 1837, 'encuentra': 1838, 'vayamos': 1839, 'presenciar': 1840, 'fuimos': 1841, 'prestados': 1842, 'juguetes': 1843, 'destruir': 1844, 'ajustar': 1845, 'zapatos': 1846, 'dados': 1847, 'volverme': 1848, 'sastre': 1849, 'coser': 1850, 'huecos': 1851, 'portarlo': 1852, 'requiere': 1853, 'agallas': 1854, 'pasion': 1855, 'lucir': 1856, 'justo': 1857, 'luzco': 1858, 'sorbo': 1859, 'galaxia': 1860, 'transforman': 1861, 'coneccion': 1862, 'conectarse': 1863, 'conectamos': 1864, '6': 1865, 'rebelde': 1866, 'llevarle': 1867, 'contraria': 1868, 'sentirme': 1869, 'invisible': 1870, 'monstruo': 1871, 'disfraza': 1872, 'consejos': 1873, 'crea': 1874, 'reales': 1875, 'veia': 1876, 'apostado': 1877, 'casaban': 1878, 'modos': 1879, 'quemo': 1880, 'entorpece': 1881, 'cancela': 1882, 'lógica': 1883, 'agudiza': 1884, 'vista': 1885, 'fogata': 1886, 'superficie': 1887, 'millonario': 1888, 'aqui': 1889, 'necesito': 1890, 'válvula': 1891, 'presión': 1892, 'ingenuo': 1893, 'pasar': 1894, 'suspendido': 1895, 'embriagante': 1896, 'existe': 1897, 'gobierna': 1898, 'ley': 1899, 'reina': 1900, 'caducado': 1901, 'fallarle': 1902, 'permitir': 1903, 'volviera': 1904, 'quedarse': 1905, 'terminó': 1906, 'dejándome': 1907, 'desearte': 1908, 'saborear': 1909, 'agridulce': 1910, 'empalagarme': 1911, 'tocarte': 1912, 'conciliar': 1913, 'estruendoso': 1914, 'añorar': 1915, 'llamarte': 1916, 'escucharte': 1917, 'esquivos': 1918, 'escuchar': 1919, 'coqueta': 1920, 'buscarte': 1921, 'abrazarte': 1922, 'cansados': 1923, 'inventarte': 1924, 'terminar': 1925, 'convenciéndote': 1926, 'quedarte': 1927, 'gasté': 1928, 'sabido': 1929, 'mentirte': 1930, 'darte': 1931, 'robarte': 1932, 'embriagarte': 1933, 'incendia': 1934, 'derrite': 1935, 'enciende': 1936, 'piensas': 1937, 'endulza': 1938, 'espanta': 1939, 'refugia': 1940, 'viviste': 1941, 'sientes': 1942, 'añoras': 1943, 'disipan': 1944, 'añorado': 1945, 'creerlo': 1946, 'reflejos': 1947, 'energías': 1948, 'vacías': 1949, 'levantan': 1950, 'acompañadas': 1951, 'gozo': 1952, 'melodia': 1953, 'aspira': 1954, 'devora': 1955, 'bocado': 1956, 'regalado': 1957, 'morí': 1958, 'haremos': 1959, 'volvamos': 1960, 'mira': 1961, 'produce': 1962, 'busco': 1963, 'brillantes': 1964, 'aquellas': 1965, 'astuta': 1966, 'cautela': 1967, 'logren': 1968, 'iluminar': 1969, 'señal': 1970, 'aterrices': 1971, 'huracán': 1972, 'pregunto': 1973, 'hagan': 1974, 'titiritero': 1975, 'somete': 1976, 'controla': 1977, 'bota': 1978, 'regresa': 1979, 'piedad': 1980, 'llaman': 1981, 'sorprenda': 1982, 'diluye': 1983, 'crecientes': 1984, 'matarla': 1985, 'termine': 1986, 'ilumine': 1987, 'parecido': 1988, 'rose': 1989, 'recuerdes': 1990, 'respires': 1991, 'ambulante': 1992, 'fingido': 1993, 'besas': 1994, 'míos': 1995, 'involuntario': 1996, 'desesperada': 1997, 'calentando': 1998, 'esperándote': 1999, 'inventándote': 2000, 'locuras': 2001, 'devuelvan': 2002, 'asaltan': 2003, 'preguntas': 2004, 'olvidan': 2005, 'respuestas': 2006, 'precisas': 2007, 'acechan': 2008, 'ansiosa': 2009, 'acariciar': 2010, 'afortunado': 2011, 'morimos': 2012, 'transforme': 2013, 'espalda': 2014, 'escribamos': 2015, 'transformamos': 2016, 'creamos': 2017, 'merece': 2018, 'llore': 2019, 'niño': 2020, 'cece': 2021, 'hermosa': 2022, 'amistad': 2023, 'perece': 2024, 'llegara': 2025, 'pasaran': 2026, 'conociera': 2027, 'fria': 2028, 'frios': 2029, 'encontraban': 2030, 'buscándose': 2031, 'encontrándose': 2032, 'permitía': 2033, 'casita': 2034, 'prejuicios': 2035, 'leyera': 2036, 'ojeada': 2037, 'paciente': 2038, 'leerá': 2039, '「las': 2040, 'desnudamos': 2041, 'recordó': 2042, 'vestíamos': 2043, 'disparar': 2044, 'mate': 2045, 'diluya': 2046, 'caricias': 2047, 'bala': 2048, 'promete': 2049, 'preguntarme': 2050, 'tenias': 2051, 'negar': 2052, 'pedía': 2053, 'sobraba': 2054, 'ingenuidad': 2055, 'sometía': 2056, 'par': 2057, 'puestas': 2058, 'veneno': 2059, 'pasó': 2060, 'envidiosos': 2061, 'reclamaban': 2062, 'miradas': 2063, 'robaba': 2064, 'perdía': 2065, 'segundo': 2066, 'acompañaba': 2067, 'cara': 2068, 'tomó': 2069, 'disfrutar': 2070, 'parecían': 2071, 'pintados': 2072, 'carisimo': 2073, 'enamorarme': 2074, 'salió': 2075, 'carísimo': 2076, 'cariño': 2077, 'carisma': 2078, 'eran': 2079, 'suficientes': 2080, 'matar': 2081, 'volverla': 2082, 'mató': 2083, 'llenaba': 2084, 'enseñó': 2085, 'escapes': 2086, 'media': 2087, 'viéndonos': 2088, 'afuera': 2089, 'escapémonos': 2090, 'llegaba': 2091, 'tenerla': 2092, 'pintor': 2093, 'odiar': 2094, 'cerca': 2095, 'odiarla': 2096, 'matarme': 2097, 'dificil': 2098, 'aloha': 2099, 'adios': 2100, 'musica': 2101, 'vivirás': 2102, 'tampoco': 2103, 'estaría': 2104, 'buscaste': 2105, 'preguntaste': 2106, 'mínimo': 2107, 'contaba': 2108, 'increíbles': 2109, 'tomando': 2110, 'suspiros': 2111, 'llores': 2112, 'faltará': 2113, 'ninguno': 2114, 'natural': 2115, 'encontraste': 2116, 'aferrándome': 2117, 'sostenido': 2118, 'falsas': 2119, 'entiendo': 2120, 'futuros': 2121, 'presentes': 2122, 'pasados': 2123, 'compartimos': 2124, 'alarmas': 2125, 'pocas': 2126, 'despertarme': 2127, 'maravillas': 2128, 'enloquece': 2129, 'enfrio': 2130, 'cansaria': 2131, 'olerlo': 2132, 'sentirlo': 2133, 'quitarse': 2134, 'beberse': 2135, 'chale': 2136, 'mexicano': 2137, 'combate': 2138, 'impulsos': 2139, 'caricia': 2140, 'asesina': 2141, 'reinicia': 2142, 'invita': 2143, 'quedarme': 2144, 'dormíamos': 2145, 'peleábamos': 2146, 'saciamos': 2147, 'comimos': 2148, 'interesa': 2149, 'tómelo': 2150, 'abierta': 2151, 'seda': 2152, 'merecer': 2153, 'supongo': 2154, 'lenguaje': 2155, 'repetir': 2156, 'prospero': 2157, 'adverso': 2158, 'sale': 2159, 'dosis': 2160, 'ponen': 2161, 'cuidar': 2162, 'traído': 2163, 'hacerle': 2164, 'irnos': 2165, 'convenga': 2166, 'quitarnos': 2167, 'desconocida': 2168, 'conozco': 2169, 'escribiría': 2170, 'inventaría': 2171, 'daría': 2172, 'estuve': 2173, 'boletos': 2174, 'llego': 2175, 'volvió': 2176, 'pobre': 2177, 'entendí': 2178, 'muevo': 2179, 'ahorita': 2180, 'sentido': 2181, 'invertido': 2182, 'cálida': 2183, 'pedi': 2184, 'perderla': 2185, 'alegria': 2186, 'nocion': 2187, 'humor': 2188, 'cambia': 2189, 'tome': 2190, 'marca': 2191, 'sera': 2192, 'soporto': 2193, 'sofoca': 2194, 'querría': 2195, 'plano': 2196, 'veniste': 2197, 'chela': 2198, 'alla': 2199, 'venia': 2200, 'memoria': 2201, 'cancion': 2202, 'pusieron': 2203, 'contrato': 2204, 'firmado': 2205, 'sellado': 2206, 'saliva': 2207, 'vale': 2208, 'ando': 2209, 'canse': 2210, 'cansancio': 2211, 'lleve': 2212, 'vuelta': 2213, 'preparados': 2214, 'ocurrir': 2215, 'entrar': 2216, 'mato': 2217, 'agotaba': 2218, 'seguía': 2219, 'dandole': 2220, 'inventándose': 2221, 'hacerlo': 2222, 'moría': 2223, 'calentaba': 2224, 'abandonaba': 2225, '\\u2028soñé': 2226, 'ataba': 2227, 'maldito': 2228, 'robándome': 2229, 'bendito': 2230, 'tornaban': 2231, '\\u2028y': 2232, 'broche': 2233, 'ibas': 2234, 'correcto': 2235, 'ocupa': 2236, 'boleto': 2237, 'soñamos': 2238, 'quitó': 2239, 'daríamos': 2240, 'pesadilla': 2241, 'esfera': 2242, 'cristal': 2243, 'rompen': 2244, '¡espera': 2245, 'visita': 2246, 'buena': 2247, 'caliente': 2248, 'haberlo': 2249, 'reduzca': 2250, 'rompa': 2251, 'silla': 2252, 'pido': 2253, 'recobro': 2254, 'vía': 2255, 'acaban': 2256, 'regalo': 2257, 'sufridas': 2258, 'querían': 2259, 'escritas': 2260, 'gritan': 2261, 'felicidad': 2262, 'pluma': 2263, 'acaba': 2264, 'diego': 2265, 'colinas': 2266, 'muslos': 2267, 'actitud': 2268, 'labriego': 2269, 'socava': 2270, 'saltar': 2271, 'hijo': 2272, 'túnel': 2273, 'huían': 2274, 'entraba': 2275, 'invasión': 2276, 'poderosa': 2277, 'sobrevivirme': 2278, 'forjé': 2279, 'flecha': 2280, 'honda': 2281, 'venganza': 2282, 'musgo': 2283, 'leche': 2284, 'firme': 2285, 'vasos': 2286, 'pubis': 2287, 'persistirá': 2288, 'gracia': 2289, 'límite': 2290, 'indeciso': 2291, 'cauces': 2292, 'envuelve': 2293, 'absorta': 2294, 'pálida': 2295, 'doliente': 2296, 'situada': 2297, 'hélices': 2298, 'muda': 2299, 'muertes': 2300, 'pura': 2301, 'heredera': 2302, 'destruido': 2303, 'crecen': 2304, 'súbito': 2305, 'exterior': 2306, 'regresan': 2307, 'ocultas': 2308, 'pueblo': 2309, 'recién': 2310, 'nacido': 2311, 'alimenta': 2312, 'grandiosa': 2313, 'fecunda': 2314, 'magnética': 2315, 'esclava': 2316, 'círculo': 2317, 'dorado': 2318, 'sucede': 2319, 'erguida': 2320, 'trata': 2321, 'logra': 2322, 'sucumben': 2323, 'vastedad': 2324, 'rumor': 2325, 'quebrándose': 2326, 'luces': 2327, 'campana': 2328, 'solitaria': 2329, 'cayendo': 2330, 'caracola': 2331, 'terrestre': 2332, 'ríos': 2333, 'cantan': 2334, 'desees': 2335, 'márcame': 2336, 'soltaré': 2337, 'delirio': 2338, 'bandada': 2339, 'cintura': 2340, 'acosa': 2341, 'perseguidas': 2342, 'transparente': 2343, 'anclan': 2344, 'anida': 2345, 'misteriosa': 2346, 'tiñe': 2347, 'dobla': 2348, 'resonante': 2349, 'profundas': 2350, 'campos': 2351, 'doblarse': 2352, 'pañuelos': 2353, 'adiós': 2354, 'viajan': 2355, 'viajeras': 2356, 'innumerable': 2357, 'latiendo': 2358, 'zumbando': 2359, 'orquestal': 2360, 'divino': 2361, 'lengua': 2362, 'hojarasca': 2363, 'desvía': 2364, 'latientes': 2365, 'derriba': 2366, 'sustancia': 2367, 'fuegos': 2368, 'inclinados': 2369, 'sumerge': 2370, 'volumen': 2371, 'combatido': 2372, 'adelgazan': 2373, 'huellas': 2374, 'cascabel': 2375, 'miro': 2376, 'mías': 2377, 'tuyas': 2378, 'trepando': 2379, 'yedras': 2380, 'trepan': 2381, 'paredes': 2382, 'húmedas': 2383, 'culpable': 2384, 'sangriento': 2385, 'guarida': 2386, 'poblaron': 2387, 'acostumbradas': 2388, 'digan': 2389, 'decirte': 2390, 'suele': 2391, 'arrastrar': 2392, 'huracanes': 2393, 'tumban': 2394, 'escuchas': 2395, 'dolorida': 2396, 'bocas': 2397, 'sangre': 2398, 'súplicas': 2399, 'amame': 2400, 'abandones': 2401, 'tiñendo': 2402, 'peleaban': 2403, 'llamas': 2404, 'apegada': 2405, 'enredadera': 2406, 'recogían': 2407, 'jacinto': 2408, 'viajar': 2409, 'emigraban': 2410, 'brasas': 2411, 'navío': 2412, 'estanque': 2413, 'ardían': 2414, 'secas': 2415, 'giraban': 2416, 'tiro': 2417, 'estira': 2418, 'náufrago': 2419, 'rojas': 2420, 'señales': 2421, 'olean': 2422, 'guardas': 2423, 'tinieblas': 2424, 'hembra': 2425, 'espanto': 2426, 'echo': 2427, 'nocturnos': 2428, 'picotean': 2429, 'primeras': 2430, 'centellean': 2431, 'yegua': 2432, 'sombría': 2433, 'desparramando': 2434, 'ebria': 2435, 'miel': 2436, 'tuerces': 2437, 'lentas': 2438, 'espirales': 2439, 'perdió': 2440, 'tuvo': 2441, 'ultima': 2442, 'amarra': 2443, 'cruje': 2444, 'aletea': 2445, 'desnuda': 2446, 'estatua': 2447, 'alea': 2448, 'frescos': 2449, 'regazo': 2450, 'caracoles': 2451, 'venido': 2452, 'dormirse': 2453, 'caza': 2454, 'anda': 2455, 'descalza': 2456, 'mojadas': 2457, 'quejan': 2458, 'enfermos': 2459, 'revives': 2460, 'trementina': 2461, 'largos': 2462, 'estival': 2463, 'velero': 2464, 'dirijo': 2465, 'delgado': 2466, 'cimentado': 2467, 'sólido': 2468, 'frenesí': 2469, 'amarrado': 2470, 'devorante': 2471, 'cruzo': 2472, 'clima': 2473, 'descubierto': 2474, 'sonidos': 2475, 'amargos': 2476, 'cimera': 2477, 'abandonada': 2478, 'duro': 2479, 'pasiones': 2480, 'montado': 2481, 'lunar': 2482, 'solar': 2483, 'ardiente': 2484, 'repentino': 2485, 'afortunadas': 2486, 'caderas': 2487, 'frescas': 2488, 'tiembla': 2489, 'locamente': 2490, 'cargado': 2491, 'eléctricas': 2492, 'gestiones': 2493, 'heroico': 2494, 'dividido': 2495, 'embriagadoras': 2496, 'practicándose': 2497, 'externas': 2498, 'paralelo': 2499, 'pez': 2500, 'infinitamente': 2501, 'pegado': 2502, 'subceleste': 2503, 'unidas': 2504, 'poniente': 2505, 'lejanos': 2506, 'moneda': 2507, 'encendía': 2508, 'pedazo': 2509, 'recordaba': 2510, 'apretada': 2511, 'conoces': 2512, 'gentes': 2513, 'diciendo': 2514, 'vendrá': 2515, 'golpe': 2516, 'lejana': 2517, 'herido': 2518, 'rodó': 2519, 'capa': 2520, 'alejas': 2521, 'corre': 2522, 'borrando': 2523, 'estatuas': 2524, 'mitad': 2525, 'girante': 2526, 'errante': 2527, 'cavadora': 2528, 'trizadas': 2529, 'charca': 2530, 'cejas': 2531, 'fragua': 2532, 'metales': 2533, 'calladas': 2534, 'luchas': 2535, 'volante': 2536, 'venida': 2537, 'traída': 2538, 'fulgurece': 2539, 'debajo': 2540, 'quejumbre': 2541, 'remolino': 2542, 'cruza': 2543, 'encima': 2544, 'detenerte': 2545, 'sepulcros': 2546, 'acarrea': 2547, 'destroza': 2548, 'dispersa': 2549, 'raíz': 2550, 'soñolienta': 2551, 'desarraiga': 2552, 'clara': 2553, 'formando': 2554, 'iluminadas': 2555, 'nocturnas': 2556, 'lirio': 2557, 'hecha': 2558, 'partiste': 2559, 'cuchillazos': 2560, 'sonría': 2561, 'enterró': 2562, 'campanas': 2563, 'turbio': 2564, 'revuelo': 2565, 'tormentas': 2566, 'tocarla': 2567, 'entristecerla': 2568, 'ay': 2569, 'atajando': 2570, 'abiertos': 2571, 'llegará': 2572, 'socavas': 2573, 'eternamente': 2574, 'fuga': 2575, 'dicho': 2576, 'cantabas': 2577, 'mástiles': 2578, 'taciturna': 2579, 'entristeces': 2580, 'acogedora': 2581, 'pueblan': 2582, 'nostálgicas': 2583, 'huyen': 2584, 'dormían': 2585, 'ido': 2586, 'marcando': 2587, 'atlas': 2588, 'araña': 2589, 'cruzaba': 2590, 'escondiéndose': 2591, 'sedienta': 2592, 'contarte': 2593, 'estuvieras': 2594, 'cisne': 2595, 'maduro': 2596, 'frutal': 2597, 'viví': 2598, 'amaba': 2599, 'cruzada': 2600, 'acorralado': 2601, 'callado': 2602, 'gondoleros': 2603, 'inmóviles': 2604, 'retienen': 2605, 'temblando': 2606, 'fugaces': 2607, 'sube': 2608, 'celebrarte': 2609, 'haces': 2610, 'repente': 2611, 'llegado': 2612, 'vértice': 2613, 'atrevido': 2614, 'visitadora': 2615, 'cabecita': 2616, 'aprieto': 2617, 'tenderte': 2618, 'guirnaldas': 2619, 'amarillas': 2620, 'escribe': 2621, 'existías': 2622, 'aúlla': 2623, 'golpea': 2624, 'cerrada': 2625, 'cuajada': 2626, 'peces': 2627, 'sombríos': 2628, 'vienen': 2629, 'desviste': 2630, 'lluvia': 2631, 'luchar': 2632, 'hombres': 2633, 'temporal': 2634, 'arremolina': 2635, 'barcas': 2636, 'anoche': 2637, 'amarraron': 2638, 'huyes': 2639, 'responderás': 2640, 'ovíllate': 2641, 'tuvieras': 2642, 'alguna': 2643, 'corrió': 2644, 'traes': 2645, 'madreselvas': 2646, 'perfumados': 2647, 'matando': 2648, 'muerde': 2649, 'ciruela': 2650, 'dolido': 2651, 'acostumbrarte': 2652, 'ahuyentan': 2653, 'lucero': 2654, 'besándonos': 2655, 'cabezas': 2656, 'destorcerse': 2657, 'abanicos': 2658, 'girantes': 2659, 'llovieron': 2660, 'acariciándote': 2661, 'nácar': 2662, 'soleado': 2663, 'dueña': 2664, 'traeré': 2665, 'copihues': 2666, 'avellanas': 2667, 'cestas': 2668, 'silvestres': 2669, 'primavera': 2670, 'cerezos': 2671, 'toca': 2672, 'hubieran': 2673, 'volado': 2674, 'cerrara': 2675, 'emerges': 2676, 'melancolía': 2677, 'quejándote': 2678, 'arrullo': 2679, 'alcanza': 2680, 'calle': 2681, 'simple': 2682, 'anillo': 2683, 'callada': 2684, 'constelada': 2685, 'sencillo': 2686, 'dolorosa': 2687, 'hubieras': 2688, 'nube': 2689, 'forma': 2690, 'sonrosa': 2691, 'vino': 2692, 'segadora': 2693, 'sienten': 2694, 'solitarios': 2695, 'brisa': 2696, 'viuda': 2697, 'cazadora': 2698, 'estanca': 2699, 'presa': 2700, 'anchas': 2701, 'nace': 2702, 'enredando': 2703, 'sombras': 2704, 'soltando': 2705, 'desvaneciendo': 2706, 'imágenes': 2707, 'brumas': 2708, 'ahogando': 2709, 'lamentos': 2710, 'moliendo': 2711, 'esperanzas': 2712, 'sombrías': 2713, 'molinero': 2714, 'taciturno': 2715, 'viene': 2716, 'bruces': 2717, 'ajena': 2718, 'cosa': 2719, 'largamente': 2720, 'áspera': 2721, 'piedras': 2722, 'corriendo': 2723, 'vaho': 2724, 'desbocado': 2725, 'violento': 2726, 'estirado': 2727, 'raya': 2728, 'varilla': 2729, 'abanico': 2730, 'inmenso': 2731, 'llamea': 2732, 'chispea': 2733, 'derrumba': 2734, 'crepita': 2735, 'virutas': 2736, 'poblado': 2737, 'nostalgia': 2738, 'bocina': 2739, 'cantando': 2740, 'anudada': 2741, 'sacudida': 2742, 'rodaba': 2743, 'interminable': 2744, 'desenreda': 2745, 'fosforece': 2746, 'andan': 2747, 'iguales': 2748, 'persiguiéndose': 2749, 'desciñe': 2750, 'danzantes': 2751, 'figuras': 2752, 'gaviota': 2753, 'descuelga': 2754, 'ocaso': 2755, 'vela': 2756, 'amanezco': 2757, 'suena': 2758, 'resuena': 2759, 'vano': 2760, 'oculta': 2761, 'amando': 2762, 'barcos': 2763, 'graves': 2764, 'olvidado': 2765, 'anclas': 2766, 'atraca': 2767, 'inútilmente': 2768, 'hambrienta': 2769, 'hastío': 2770, 'forcejea': 2771, 'lentos': 2772, 'cantarme': 2773, 'girar': 2774, 'rodaje': 2775, 'miran': 2776, 'quieren': 2777, 'alambre': 2778, 'frutas': 2779, 'cuaja': 2780, 'trigos': 2781, 'tuerce': 2782, 'algas': 2783, 'luminosos': 2784, 'arrolla': 2785, 'hebras': 2786, 'melena': 2787, 'estiras': 2788, 'estero': 2789, 'remansos': 2790, 'acerca': 2791, 'mediodía': 2792, 'juventud': 2793, 'sombrío': 2794, 'definitiva': 2795, 'trigal': 2796, 'amapola': 2797, 'ejemplo': 2798, 'tiritan': 2799, 'gira': 2800, 'besé': 2801, 'haber': 2802, 'amado': 2803, 'fijos': 2804, 'oír': 2805, 'pasto': 2806, 'pudiera': 2807, 'guardarla': 2808, 'acercarla': 2809, 'blanquear': 2810, 'oído': 2811, 'éste': 2812, 'causa': 2813, 'éstos': 2814, 'río': 2815, 'anuda': 2816, 'lamento': 2817, 'obstinado': 2818, 'llueven': 2819, 'feroz': 2820, 'cueva': 2821, 'náufragos': 2822, 'acumularon': 2823, 'vuelos': 2824, 'alzaron': 2825, 'tragaste': 2826, 'lejanía': 2827, 'piloto': 2828, 'turbia': 2829, 'infancia': 2830, 'alada': 2831, 'ceñiste': 2832, 'agarraste': 2833, 'tumbó': 2834, 'retroceder': 2835, 'muralla': 2836, 'anduve': 2837, 'acto': 2838, 'evoco': 2839, 'albergaste': 2840, 'infinita': 2841, 'trizó': 2842, 'acogieron': 2843, 'fruta': 2844, 'duelo': 2845, 'ruinas': 2846, 'sé': 2847, 'pudiste': 2848, 'contenerme': 2849, 'terrible': 2850, 'revuelto': 2851, 'tirante': 2852, 'ávido': 2853, 'tumbas': 2854, 'racimos': 2855, 'arden': 2856, 'picoteados': 2857, 'mordida': 2858, 'besados': 2859, 'miembros': 2860, 'hambrientos': 2861, 'dientes': 2862, 'cuerpos': 2863, 'trenzados': 2864, 'cópula': 2865, 'loca': 2866, 'esfuerzo': 2867, 'anudamos': 2868, 'desesperamos': 2869, 'leve': 2870, 'harina': 2871, 'comenzada': 2872, 'viajó': 2873, 'exprimiste': 2874, 'ahogaron': 2875, 'llameaste': 2876, 'cantaste': 2877, 'pie': 2878, 'proa': 2879, 'floreciste': 2880, 'rompiste': 2881, 'corrientes': 2882, 'pozo': 2883, 'abierto': 2884, 'desventurado': 2885, 'hondero': 2886, 'dura': 2887, 'horario': 2888, 'cinturón': 2889, 'ruidoso': 2890, 'ciñe': 2891, 'surgen': 2892, 'trémula': 2893, 'retuerce': 2894}\n"
          ]
        }
      ]
    },
    {
      "cell_type": "markdown",
      "metadata": {
        "id": "-q_hS6rfAEW8"
      },
      "source": [
        "## Modelo 01 - Modelo utilzando LSTM sencillo"
      ]
    },
    {
      "cell_type": "code",
      "metadata": {
        "colab": {
          "base_uri": "https://localhost:8080/"
        },
        "id": "XdKwNUpOGGa1",
        "outputId": "5a01a435-1235-4e0a-ba9e-1d4e3d985bf8"
      },
      "source": [
        "model2 = Sequential()\n",
        "model2.add(Embedding(total_words, 100, input_length=max_sequence_len-1))\n",
        "model2.add(LSTM(150))\n",
        "model2.add(Dense(total_words, activation='softmax'))\n",
        "adam = Adam(lr=0.01)\n",
        "model2.compile(loss='categorical_crossentropy', optimizer=adam, metrics=['accuracy'])\n",
        "print(model2.summary())"
      ],
      "execution_count": 8,
      "outputs": [
        {
          "output_type": "stream",
          "name": "stdout",
          "text": [
            "Model: \"sequential\"\n",
            "_________________________________________________________________\n",
            "Layer (type)                 Output Shape              Param #   \n",
            "=================================================================\n",
            "embedding (Embedding)        (None, 157, 100)          289500    \n",
            "_________________________________________________________________\n",
            "lstm (LSTM)                  (None, 150)               150600    \n",
            "_________________________________________________________________\n",
            "dense (Dense)                (None, 2895)              437145    \n",
            "=================================================================\n",
            "Total params: 877,245\n",
            "Trainable params: 877,245\n",
            "Non-trainable params: 0\n",
            "_________________________________________________________________\n",
            "None\n"
          ]
        },
        {
          "output_type": "stream",
          "name": "stderr",
          "text": [
            "/usr/local/lib/python3.7/dist-packages/keras/optimizer_v2/optimizer_v2.py:356: UserWarning: The `lr` argument is deprecated, use `learning_rate` instead.\n",
            "  \"The `lr` argument is deprecated, use `learning_rate` instead.\")\n"
          ]
        }
      ]
    },
    {
      "cell_type": "code",
      "metadata": {
        "colab": {
          "base_uri": "https://localhost:8080/"
        },
        "id": "TkEUSZ1KGPRo",
        "outputId": "4b0c38d0-7cb4-4fda-a3bb-da436bc9bc11"
      },
      "source": [
        "callback_a = ModelCheckpoint(filepath='best_model_lstm_single.h5', monitor='accuracy', save_best_only=True)\n",
        "earlystop = EarlyStopping(monitor='accuracy', min_delta=0, patience=5, verbose=0, mode='auto')\n",
        "history = model2.fit(xs, ys, epochs=100, verbose=1, callbacks=[callback_a, earlystop])\n",
        "print(model2)"
      ],
      "execution_count": 9,
      "outputs": [
        {
          "output_type": "stream",
          "name": "stdout",
          "text": [
            "Epoch 1/100\n",
            "416/416 [==============================] - 22s 34ms/step - loss: 6.6573 - accuracy: 0.0570\n",
            "Epoch 2/100\n",
            "416/416 [==============================] - 14s 34ms/step - loss: 5.5874 - accuracy: 0.1099\n",
            "Epoch 3/100\n",
            "416/416 [==============================] - 14s 34ms/step - loss: 4.5009 - accuracy: 0.1925\n",
            "Epoch 4/100\n",
            "416/416 [==============================] - 14s 34ms/step - loss: 3.4560 - accuracy: 0.2986\n",
            "Epoch 5/100\n",
            "416/416 [==============================] - 14s 34ms/step - loss: 2.6211 - accuracy: 0.4195\n",
            "Epoch 6/100\n",
            "416/416 [==============================] - 14s 34ms/step - loss: 2.0130 - accuracy: 0.5265\n",
            "Epoch 7/100\n",
            "416/416 [==============================] - 14s 34ms/step - loss: 1.5959 - accuracy: 0.6165\n",
            "Epoch 8/100\n",
            "416/416 [==============================] - 14s 34ms/step - loss: 1.2937 - accuracy: 0.6868\n",
            "Epoch 9/100\n",
            "416/416 [==============================] - 14s 34ms/step - loss: 1.1117 - accuracy: 0.7275\n",
            "Epoch 10/100\n",
            "416/416 [==============================] - 14s 34ms/step - loss: 0.9845 - accuracy: 0.7609\n",
            "Epoch 11/100\n",
            "416/416 [==============================] - 14s 34ms/step - loss: 0.9140 - accuracy: 0.7722\n",
            "Epoch 12/100\n",
            "416/416 [==============================] - 14s 34ms/step - loss: 0.8791 - accuracy: 0.7792\n",
            "Epoch 13/100\n",
            "416/416 [==============================] - 14s 34ms/step - loss: 0.8725 - accuracy: 0.7834\n",
            "Epoch 14/100\n",
            "416/416 [==============================] - 14s 34ms/step - loss: 0.9222 - accuracy: 0.7615\n",
            "Epoch 15/100\n",
            "416/416 [==============================] - 14s 34ms/step - loss: 0.9780 - accuracy: 0.7492\n",
            "Epoch 16/100\n",
            "416/416 [==============================] - 14s 34ms/step - loss: 0.9664 - accuracy: 0.7456\n",
            "Epoch 17/100\n",
            "416/416 [==============================] - 14s 34ms/step - loss: 0.8499 - accuracy: 0.7791\n",
            "Epoch 18/100\n",
            "416/416 [==============================] - 14s 34ms/step - loss: 0.7890 - accuracy: 0.7991\n",
            "Epoch 19/100\n",
            "416/416 [==============================] - 14s 34ms/step - loss: 0.7378 - accuracy: 0.8085\n",
            "Epoch 20/100\n",
            "416/416 [==============================] - 14s 34ms/step - loss: 0.7259 - accuracy: 0.8085\n",
            "Epoch 21/100\n",
            "416/416 [==============================] - 14s 34ms/step - loss: 0.7077 - accuracy: 0.8162\n",
            "Epoch 22/100\n",
            "416/416 [==============================] - 14s 34ms/step - loss: 0.7650 - accuracy: 0.7988\n",
            "Epoch 23/100\n",
            "416/416 [==============================] - 14s 34ms/step - loss: 1.0153 - accuracy: 0.7331\n",
            "Epoch 24/100\n",
            "416/416 [==============================] - 14s 34ms/step - loss: 1.2010 - accuracy: 0.6864\n",
            "Epoch 25/100\n",
            "416/416 [==============================] - 14s 34ms/step - loss: 0.9809 - accuracy: 0.7396\n",
            "Epoch 26/100\n",
            "416/416 [==============================] - 14s 34ms/step - loss: 0.8043 - accuracy: 0.7833\n",
            "<keras.engine.sequential.Sequential object at 0x7f6515d55950>\n"
          ]
        }
      ]
    },
    {
      "cell_type": "markdown",
      "metadata": {
        "id": "5iunX4ljAUR4"
      },
      "source": [
        "## Modelo 02 - Modelo Secuencial utilizando LSTM bidireccional"
      ]
    },
    {
      "cell_type": "code",
      "metadata": {
        "colab": {
          "base_uri": "https://localhost:8080/"
        },
        "id": "6lH2J16i9ytY",
        "outputId": "5bf91b2e-aeb9-4741-ab93-d12ccc63c510"
      },
      "source": [
        "model = Sequential()\n",
        "model.add(Embedding(total_words, 100, input_length=max_sequence_len-1))\n",
        "model.add(Bidirectional(LSTM(150)))\n",
        "model.add(Dense(total_words, activation='softmax'))\n",
        "adam = Adam(lr=0.01)\n",
        "model.compile(loss='categorical_crossentropy', optimizer=adam, metrics=['accuracy'])\n",
        "print(model.summary())"
      ],
      "execution_count": 11,
      "outputs": [
        {
          "output_type": "stream",
          "name": "stdout",
          "text": [
            "Model: \"sequential_2\"\n",
            "_________________________________________________________________\n",
            "Layer (type)                 Output Shape              Param #   \n",
            "=================================================================\n",
            "embedding_2 (Embedding)      (None, 157, 100)          289500    \n",
            "_________________________________________________________________\n",
            "bidirectional_1 (Bidirection (None, 300)               301200    \n",
            "_________________________________________________________________\n",
            "dense_2 (Dense)              (None, 2895)              871395    \n",
            "=================================================================\n",
            "Total params: 1,462,095\n",
            "Trainable params: 1,462,095\n",
            "Non-trainable params: 0\n",
            "_________________________________________________________________\n",
            "None\n"
          ]
        },
        {
          "output_type": "stream",
          "name": "stderr",
          "text": [
            "/usr/local/lib/python3.7/dist-packages/keras/optimizer_v2/optimizer_v2.py:356: UserWarning: The `lr` argument is deprecated, use `learning_rate` instead.\n",
            "  \"The `lr` argument is deprecated, use `learning_rate` instead.\")\n"
          ]
        }
      ]
    },
    {
      "cell_type": "code",
      "metadata": {
        "id": "w9vH8Y59ajYL",
        "colab": {
          "base_uri": "https://localhost:8080/"
        },
        "outputId": "4afcc3a6-027f-44b9-c9d5-5c27708dc7bd"
      },
      "source": [
        "callback_a = ModelCheckpoint(filepath='best_model_bidireccionalLSTM.h5', monitor='accuracy', save_best_only=True)\n",
        "earlystop = EarlyStopping(monitor='accuracy', min_delta=0, patience=5, verbose=0, mode='auto')\n",
        "history2 = model.fit(xs, ys, epochs=100, verbose=1, callbacks=[callback_a])\n",
        "print(model)"
      ],
      "execution_count": 18,
      "outputs": [
        {
          "output_type": "stream",
          "name": "stdout",
          "text": [
            "Epoch 1/100\n",
            "416/416 [==============================] - 28s 67ms/step - loss: 0.8716 - accuracy: 0.7722\n",
            "Epoch 2/100\n",
            "416/416 [==============================] - 28s 67ms/step - loss: 0.8412 - accuracy: 0.7784\n",
            "Epoch 3/100\n",
            "416/416 [==============================] - 28s 67ms/step - loss: 0.8105 - accuracy: 0.7843\n",
            "Epoch 4/100\n",
            "416/416 [==============================] - 28s 67ms/step - loss: 0.7937 - accuracy: 0.7894\n",
            "Epoch 5/100\n",
            "416/416 [==============================] - 28s 67ms/step - loss: 0.7944 - accuracy: 0.7914\n",
            "Epoch 6/100\n",
            "416/416 [==============================] - 28s 67ms/step - loss: 0.9798 - accuracy: 0.7474\n",
            "Epoch 7/100\n",
            "416/416 [==============================] - 28s 67ms/step - loss: 1.0536 - accuracy: 0.7208\n",
            "Epoch 8/100\n",
            "416/416 [==============================] - 28s 67ms/step - loss: 1.0144 - accuracy: 0.7293\n",
            "Epoch 9/100\n",
            "416/416 [==============================] - 28s 67ms/step - loss: 0.8257 - accuracy: 0.7806\n",
            "Epoch 10/100\n",
            "416/416 [==============================] - 28s 67ms/step - loss: 0.7249 - accuracy: 0.8067\n",
            "Epoch 11/100\n",
            "416/416 [==============================] - 28s 67ms/step - loss: 0.6854 - accuracy: 0.8197\n",
            "Epoch 12/100\n",
            "416/416 [==============================] - 28s 67ms/step - loss: 0.6700 - accuracy: 0.8208\n",
            "Epoch 13/100\n",
            "416/416 [==============================] - 28s 67ms/step - loss: 0.6940 - accuracy: 0.8136\n",
            "Epoch 14/100\n",
            "416/416 [==============================] - 28s 67ms/step - loss: 0.7738 - accuracy: 0.7919\n",
            "Epoch 15/100\n",
            "416/416 [==============================] - 28s 67ms/step - loss: 0.9999 - accuracy: 0.7332\n",
            "Epoch 16/100\n",
            "416/416 [==============================] - 28s 67ms/step - loss: 1.2952 - accuracy: 0.6659\n",
            "Epoch 17/100\n",
            "416/416 [==============================] - 28s 67ms/step - loss: 1.0380 - accuracy: 0.7179\n",
            "Epoch 18/100\n",
            "416/416 [==============================] - 28s 66ms/step - loss: 0.8201 - accuracy: 0.7773\n",
            "Epoch 19/100\n",
            "416/416 [==============================] - 28s 66ms/step - loss: 0.6995 - accuracy: 0.8086\n",
            "Epoch 20/100\n",
            "416/416 [==============================] - 28s 66ms/step - loss: 0.6487 - accuracy: 0.8259\n",
            "Epoch 21/100\n",
            "416/416 [==============================] - 28s 66ms/step - loss: 0.6407 - accuracy: 0.8290\n",
            "Epoch 22/100\n",
            "416/416 [==============================] - 28s 66ms/step - loss: 0.6409 - accuracy: 0.8283\n",
            "Epoch 23/100\n",
            "416/416 [==============================] - 28s 67ms/step - loss: 0.7498 - accuracy: 0.7967\n",
            "Epoch 24/100\n",
            "416/416 [==============================] - 28s 66ms/step - loss: 1.2477 - accuracy: 0.6805\n",
            "Epoch 25/100\n",
            "416/416 [==============================] - 28s 67ms/step - loss: 1.2828 - accuracy: 0.6773\n",
            "Epoch 26/100\n",
            "416/416 [==============================] - 28s 67ms/step - loss: 1.0159 - accuracy: 0.7278\n",
            "Epoch 27/100\n",
            "416/416 [==============================] - 28s 67ms/step - loss: 0.8267 - accuracy: 0.7732\n",
            "Epoch 28/100\n",
            "416/416 [==============================] - 28s 67ms/step - loss: 0.7485 - accuracy: 0.7979\n",
            "Epoch 29/100\n",
            "416/416 [==============================] - 28s 66ms/step - loss: 0.7234 - accuracy: 0.8039\n",
            "Epoch 30/100\n",
            "416/416 [==============================] - 28s 66ms/step - loss: 0.6815 - accuracy: 0.8113\n",
            "Epoch 31/100\n",
            "416/416 [==============================] - 28s 67ms/step - loss: 0.7005 - accuracy: 0.8088\n",
            "Epoch 32/100\n",
            "416/416 [==============================] - 28s 67ms/step - loss: 0.7345 - accuracy: 0.7989\n",
            "Epoch 33/100\n",
            "416/416 [==============================] - 28s 67ms/step - loss: 0.8252 - accuracy: 0.7758\n",
            "Epoch 34/100\n",
            "416/416 [==============================] - 28s 67ms/step - loss: 0.9586 - accuracy: 0.7434\n",
            "Epoch 35/100\n",
            "416/416 [==============================] - 28s 67ms/step - loss: 1.0522 - accuracy: 0.7212\n",
            "Epoch 36/100\n",
            "416/416 [==============================] - 28s 67ms/step - loss: 0.9876 - accuracy: 0.7374\n",
            "Epoch 37/100\n",
            "416/416 [==============================] - 28s 67ms/step - loss: 0.8463 - accuracy: 0.7695\n",
            "Epoch 38/100\n",
            "416/416 [==============================] - 28s 67ms/step - loss: 0.8080 - accuracy: 0.7855\n",
            "Epoch 39/100\n",
            "416/416 [==============================] - 28s 67ms/step - loss: 0.7265 - accuracy: 0.8024\n",
            "Epoch 40/100\n",
            "416/416 [==============================] - 28s 67ms/step - loss: 0.6876 - accuracy: 0.8136\n",
            "Epoch 41/100\n",
            "416/416 [==============================] - 28s 67ms/step - loss: 0.6727 - accuracy: 0.8171\n",
            "Epoch 42/100\n",
            "416/416 [==============================] - 28s 67ms/step - loss: 0.7101 - accuracy: 0.8055\n",
            "Epoch 43/100\n",
            "416/416 [==============================] - 28s 67ms/step - loss: 0.8479 - accuracy: 0.7689\n",
            "Epoch 44/100\n",
            "416/416 [==============================] - 28s 67ms/step - loss: 1.1172 - accuracy: 0.7103\n",
            "Epoch 45/100\n",
            "416/416 [==============================] - 28s 67ms/step - loss: 1.1722 - accuracy: 0.6998\n",
            "Epoch 46/100\n",
            "416/416 [==============================] - 28s 67ms/step - loss: 0.9951 - accuracy: 0.7322\n",
            "Epoch 47/100\n",
            "416/416 [==============================] - 28s 67ms/step - loss: 0.8125 - accuracy: 0.7765\n",
            "Epoch 48/100\n",
            "416/416 [==============================] - 28s 67ms/step - loss: 0.7540 - accuracy: 0.7900\n",
            "Epoch 49/100\n",
            "416/416 [==============================] - 28s 67ms/step - loss: 0.7549 - accuracy: 0.7961\n",
            "Epoch 50/100\n",
            "416/416 [==============================] - 28s 67ms/step - loss: 0.7304 - accuracy: 0.7994\n",
            "Epoch 51/100\n",
            "416/416 [==============================] - 28s 67ms/step - loss: 0.7110 - accuracy: 0.8052\n",
            "Epoch 52/100\n",
            "416/416 [==============================] - 28s 67ms/step - loss: 0.6926 - accuracy: 0.8109\n",
            "Epoch 53/100\n",
            "416/416 [==============================] - 28s 67ms/step - loss: 0.7504 - accuracy: 0.7966\n",
            "Epoch 54/100\n",
            "416/416 [==============================] - 28s 67ms/step - loss: 0.7966 - accuracy: 0.7768\n",
            "Epoch 55/100\n",
            "416/416 [==============================] - 28s 67ms/step - loss: 0.9223 - accuracy: 0.7489\n",
            "Epoch 56/100\n",
            "416/416 [==============================] - 28s 67ms/step - loss: 0.9487 - accuracy: 0.7453\n",
            "Epoch 57/100\n",
            "416/416 [==============================] - 28s 67ms/step - loss: 0.8778 - accuracy: 0.7592\n",
            "Epoch 58/100\n",
            "416/416 [==============================] - 28s 67ms/step - loss: 0.7936 - accuracy: 0.7814\n",
            "Epoch 59/100\n",
            "416/416 [==============================] - 28s 67ms/step - loss: 0.7497 - accuracy: 0.7941\n",
            "Epoch 60/100\n",
            "416/416 [==============================] - 28s 67ms/step - loss: 0.7161 - accuracy: 0.7974\n",
            "Epoch 61/100\n",
            "416/416 [==============================] - 28s 67ms/step - loss: 0.7161 - accuracy: 0.8046\n",
            "Epoch 62/100\n",
            "416/416 [==============================] - 28s 67ms/step - loss: 0.7347 - accuracy: 0.7987\n",
            "Epoch 63/100\n",
            "416/416 [==============================] - 28s 67ms/step - loss: 0.7534 - accuracy: 0.7887\n",
            "Epoch 64/100\n",
            "416/416 [==============================] - 28s 67ms/step - loss: 0.7602 - accuracy: 0.7923\n",
            "Epoch 65/100\n",
            "416/416 [==============================] - 28s 66ms/step - loss: 0.7850 - accuracy: 0.7827\n",
            "Epoch 66/100\n",
            "416/416 [==============================] - 28s 67ms/step - loss: 0.8578 - accuracy: 0.7666\n",
            "Epoch 67/100\n",
            "416/416 [==============================] - 28s 67ms/step - loss: 0.8680 - accuracy: 0.7625\n",
            "Epoch 68/100\n",
            "416/416 [==============================] - 28s 67ms/step - loss: 0.8492 - accuracy: 0.7712\n",
            "Epoch 69/100\n",
            "416/416 [==============================] - 28s 67ms/step - loss: 0.8037 - accuracy: 0.7828\n",
            "Epoch 70/100\n",
            "416/416 [==============================] - 28s 67ms/step - loss: 0.7854 - accuracy: 0.7861\n",
            "Epoch 71/100\n",
            "416/416 [==============================] - 28s 67ms/step - loss: 0.7823 - accuracy: 0.7851\n",
            "Epoch 72/100\n",
            "416/416 [==============================] - 28s 67ms/step - loss: 0.7916 - accuracy: 0.7831\n",
            "Epoch 73/100\n",
            "416/416 [==============================] - 28s 67ms/step - loss: 0.7626 - accuracy: 0.7892\n",
            "Epoch 74/100\n",
            "416/416 [==============================] - 28s 67ms/step - loss: 0.7705 - accuracy: 0.7865\n",
            "Epoch 75/100\n",
            "416/416 [==============================] - 28s 67ms/step - loss: 0.8191 - accuracy: 0.7800\n",
            "Epoch 76/100\n",
            "416/416 [==============================] - 28s 67ms/step - loss: 0.8465 - accuracy: 0.7706\n",
            "Epoch 77/100\n",
            "416/416 [==============================] - 28s 67ms/step - loss: 0.8326 - accuracy: 0.7737\n",
            "Epoch 78/100\n",
            "416/416 [==============================] - 28s 67ms/step - loss: 0.8100 - accuracy: 0.7795\n",
            "Epoch 79/100\n",
            "416/416 [==============================] - 28s 67ms/step - loss: 0.8134 - accuracy: 0.7808\n",
            "Epoch 80/100\n",
            "416/416 [==============================] - 28s 67ms/step - loss: 0.7837 - accuracy: 0.7881\n",
            "Epoch 81/100\n",
            "416/416 [==============================] - 28s 66ms/step - loss: 0.8188 - accuracy: 0.7780\n",
            "Epoch 82/100\n",
            "416/416 [==============================] - 28s 66ms/step - loss: 0.7764 - accuracy: 0.7864\n",
            "Epoch 83/100\n",
            "416/416 [==============================] - 28s 66ms/step - loss: 0.7564 - accuracy: 0.7940\n",
            "Epoch 84/100\n",
            "416/416 [==============================] - 28s 66ms/step - loss: 0.8560 - accuracy: 0.7756\n",
            "Epoch 85/100\n",
            "416/416 [==============================] - 27s 66ms/step - loss: 0.9017 - accuracy: 0.7598\n",
            "Epoch 86/100\n",
            "416/416 [==============================] - 27s 66ms/step - loss: 0.8636 - accuracy: 0.7700\n",
            "Epoch 87/100\n",
            "416/416 [==============================] - 27s 66ms/step - loss: 0.7874 - accuracy: 0.7881\n",
            "Epoch 88/100\n",
            "416/416 [==============================] - 28s 66ms/step - loss: 0.7437 - accuracy: 0.7979\n",
            "Epoch 89/100\n",
            "416/416 [==============================] - 28s 66ms/step - loss: 0.7168 - accuracy: 0.8055\n",
            "Epoch 90/100\n",
            "416/416 [==============================] - 28s 66ms/step - loss: 0.7185 - accuracy: 0.8014\n",
            "Epoch 91/100\n",
            "416/416 [==============================] - 28s 66ms/step - loss: 0.7961 - accuracy: 0.7866\n",
            "Epoch 92/100\n",
            "416/416 [==============================] - 28s 66ms/step - loss: 0.8889 - accuracy: 0.7681\n",
            "Epoch 93/100\n",
            "416/416 [==============================] - 28s 67ms/step - loss: 0.8799 - accuracy: 0.7641\n",
            "Epoch 94/100\n",
            "416/416 [==============================] - 28s 66ms/step - loss: 0.8688 - accuracy: 0.7669\n",
            "Epoch 95/100\n",
            "416/416 [==============================] - 28s 66ms/step - loss: 0.8113 - accuracy: 0.7799\n",
            "Epoch 96/100\n",
            "416/416 [==============================] - 27s 66ms/step - loss: 0.8713 - accuracy: 0.7713\n",
            "Epoch 97/100\n",
            "416/416 [==============================] - 28s 67ms/step - loss: 0.8427 - accuracy: 0.7756\n",
            "Epoch 98/100\n",
            "416/416 [==============================] - 28s 66ms/step - loss: 0.7989 - accuracy: 0.7854\n",
            "Epoch 99/100\n",
            "416/416 [==============================] - 28s 67ms/step - loss: 0.7505 - accuracy: 0.7959\n",
            "Epoch 100/100\n",
            "416/416 [==============================] - 28s 67ms/step - loss: 0.7461 - accuracy: 0.7928\n",
            "<keras.engine.sequential.Sequential object at 0x7f65101b6710>\n"
          ]
        }
      ]
    },
    {
      "cell_type": "code",
      "metadata": {
        "id": "3YXGelKThoTT"
      },
      "source": [
        "import matplotlib.pyplot as plt\n",
        "def plot_graphs(history, string):\n",
        "  plt.plot(history.history[string])\n",
        "  plt.xlabel(\"Epochs\")\n",
        "  plt.ylabel(string)\n",
        "  plt.show()"
      ],
      "execution_count": 13,
      "outputs": []
    },
    {
      "cell_type": "markdown",
      "metadata": {
        "id": "JSaHVZ_JApEz"
      },
      "source": [
        "### Modelo 0\n",
        "Datos De Entrada: Eres Arte \n",
        "LSTM: Sencillo"
      ]
    },
    {
      "cell_type": "code",
      "metadata": {
        "id": "poeprYK8h-c7",
        "colab": {
          "base_uri": "https://localhost:8080/",
          "height": 279
        },
        "outputId": "07267da5-dab5-4505-a629-36a5ff2caa18"
      },
      "source": [
        "plot_graphs(history, 'accuracy')\n"
      ],
      "execution_count": null,
      "outputs": [
        {
          "output_type": "display_data",
          "data": {
            "image/png": "[encoded data removed]",
            "text/plain": [
              "<Figure size 432x288 with 1 Axes>"
            ]
          },
          "metadata": {
            "needs_background": "light"
          }
        }
      ]
    },
    {
      "cell_type": "markdown",
      "metadata": {
        "id": "Wp3N4iZZA07w"
      },
      "source": [
        "### Modelo 1\n",
        "Datos De Entrada: Eres Arte + 20 Poemas de amor y una canción desesperada\n",
        "LSTM: Sencillo\n",
        "Archivo: 2. eresarte_20_poemas_de_amor.txt"
      ]
    },
    {
      "cell_type": "code",
      "metadata": {
        "colab": {
          "base_uri": "https://localhost:8080/",
          "height": 279
        },
        "id": "iZDt4vsQJJgf",
        "outputId": "d6d0bf5a-18bb-4a8d-8870-0ce38d06fb12"
      },
      "source": [
        "plot_graphs(history, 'accuracy')"
      ],
      "execution_count": 14,
      "outputs": [
        {
          "output_type": "display_data",
          "data": {
            "image/png": "[encoded data removed]",
            "text/plain": [
              "<Figure size 432x288 with 1 Axes>"
            ]
          },
          "metadata": {
            "needs_background": "light"
          }
        }
      ]
    },
    {
      "cell_type": "markdown",
      "metadata": {
        "id": "O5B1-K08BDcR"
      },
      "source": [
        "### Modelo 2\n",
        "Datos De Entrada: Eres Arte + 20 Poemas de amor y una canción desesperada<br>\n",
        "LSTM: Bidireccional<br>\n",
        "Archivo: 2. eresarte_20_poemas_de_amor.txt<br>"
      ]
    },
    {
      "cell_type": "code",
      "metadata": {
        "colab": {
          "base_uri": "https://localhost:8080/",
          "height": 283
        },
        "id": "mlelpp89hOkL",
        "outputId": "d87e6771-71da-44c5-a7d9-1bd645b80e7b"
      },
      "source": [
        "plot_graphs(history2, 'accuracy')"
      ],
      "execution_count": 17,
      "outputs": [
        {
          "output_type": "display_data",
          "data": {
            "image/png": "[encoded data removed]",
            "text/plain": [
              "<Figure size 432x288 with 1 Axes>"
            ]
          },
          "metadata": {
            "needs_background": "light"
          }
        }
      ]
    },
    {
      "cell_type": "code",
      "metadata": {
        "id": "mKXR3T3vbhlY"
      },
      "source": [
        "def generar_poema(text, num_words):\n",
        "  seed_text = text\n",
        "  next_words = num_words\n",
        "  #predicted = model.predict_classes(token_list, verbose=0) \n",
        "\n",
        "  for _ in range(next_words):\n",
        "    token_list = tokenizer.texts_to_sequences([seed_text])[0]\n",
        "    token_list = pad_sequences([token_list], maxlen=max_sequence_len-1, padding='pre')\n",
        "    predicted = model2.predict(token_list)\n",
        "    classes_x = np.argmax(predicted,axis=1)\n",
        "\n",
        "    output_word = \"\"\n",
        "    for word, index in tokenizer.word_index.items():\n",
        "      if index == classes_x:\n",
        "        output_word = word\n",
        "        break\n",
        "    seed_text += \" \" + word\n",
        "    \n",
        "  print(seed_text)"
      ],
      "execution_count": 15,
      "outputs": []
    },
    {
      "cell_type": "markdown",
      "metadata": {
        "id": "13UU4ucRkZ7l"
      },
      "source": [
        "###Quiero tu cuerpo\n",
        "\n",
        "Quiero tu cuerpo, <br>\n",
        "He soñado que muero en ese momento, <br>\n",
        "Donde el arte funde en uno, <br>\n",
        "Nuestros corazones.<br>\n",
        "<br>\n",
        "Busco en tí, <br>\n",
        "Que culminen las guerras, <br>\n",
        "Y platiquen las almas. <br>\n",
        "<br>\n",
        "Entregate a mi, <br>\n",
        "Rayo de sol, <br>\n",
        "Como un túnel, <br>\n",
        "Del que huyen pájaros del cielo. <br>\n",
        "<br>\n",
        "Dame luz de humo, <br>\n",
        "de estanque en calma, <br>\n",
        "de rosas de papel. <br>\n",
        "<br>\n",
        "Quiero tu cuerpo alegre, <br>\n",
        "Tus luminosos ojos,<br>\n",
        "Y jamás volver sólo a ese café<br>\n",
        "<br>\n",
        "AI/ALVOZA\n",
        "\n"
      ]
    },
    {
      "cell_type": "code",
      "metadata": {
        "colab": {
          "base_uri": "https://localhost:8080/"
        },
        "id": "5uCMZ4CScdsO",
        "outputId": "9d69e218-3cc2-47fe-c99f-332dc2df837d"
      },
      "source": [
        "##Generado con el modelo 0\n",
        "generar_poema(\"Quiero tu cuerpo\", 10)"
      ],
      "execution_count": null,
      "outputs": [
        {
          "output_type": "stream",
          "name": "stdout",
          "text": [
            "Quiero tu cuerpo he soñado mueren este momento del arte para un corazón\n"
          ]
        }
      ]
    },
    {
      "cell_type": "markdown",
      "metadata": {
        "id": "VKAqPCnwBP7R"
      },
      "source": [
        "Quiero tu cuerpo, <br>\n",
        "He soñado que muero en ese momento, <br>\n",
        "Donde el arte funde en uno, <br>\n",
        "Nuestros corazones.<br>"
      ]
    },
    {
      "cell_type": "code",
      "metadata": {
        "colab": {
          "base_uri": "https://localhost:8080/"
        },
        "id": "SDEQR0yMlMDm",
        "outputId": "7b79ff5e-f0f5-4926-f0d7-9b78e05416ec"
      },
      "source": [
        "##Generado con el modelo 2\n",
        "generar_poema(\"Busco en ti\", 10)"
      ],
      "execution_count": null,
      "outputs": [
        {
          "output_type": "stream",
          "name": "stdout",
          "text": [
            "Busco en ti se acumularon las guerras y que platiquen dos almas la\n"
          ]
        }
      ]
    },
    {
      "cell_type": "markdown",
      "metadata": {
        "id": "fcjyGr7CAdWO"
      },
      "source": [
        "Busco en tí, <br>\n",
        "Que culminen las guerras, <br>\n",
        "Y platiquen las almas. <br>"
      ]
    },
    {
      "cell_type": "code",
      "metadata": {
        "colab": {
          "base_uri": "https://localhost:8080/"
        },
        "id": "qVYe9vzbiPfK",
        "outputId": "7746fbf3-0d99-459c-b970-936cf064d11b"
      },
      "source": [
        "##Generado con el modelo 2\n",
        "generar_poema(\"Dame luz\", 10)"
      ],
      "execution_count": null,
      "outputs": [
        {
          "output_type": "stream",
          "name": "stdout",
          "text": [
            "Dame luz de humo de estanque en calma las rosas practicándose en\n"
          ]
        }
      ]
    },
    {
      "cell_type": "markdown",
      "metadata": {
        "id": "PrMW1OEvAhGT"
      },
      "source": [
        "Dame luz de humo, <br>\n",
        "de estanque en calma, <br>\n",
        "de rosas de papel. <br>"
      ]
    },
    {
      "cell_type": "code",
      "metadata": {
        "colab": {
          "base_uri": "https://localhost:8080/"
        },
        "id": "UmvbfX5Oi0Hu",
        "outputId": "8459db93-dd5f-450d-d5f8-9fd2fb469cf9"
      },
      "source": [
        "##Generado con el modelo 2\n",
        "generar_poema(\"Rayo de sol\", 10)"
      ],
      "execution_count": null,
      "outputs": [
        {
          "output_type": "stream",
          "name": "stdout",
          "text": [
            "Rayo de sol como un túnel de mí huían los pájaros del pecho\n"
          ]
        }
      ]
    },
    {
      "cell_type": "markdown",
      "metadata": {
        "id": "fXdtqOf0A04A"
      },
      "source": [
        "Rayo de sol, <br>\n",
        "Como un túnel, <br>\n",
        "Del que huyen pájaros del cielo. <br>"
      ]
    },
    {
      "cell_type": "code",
      "metadata": {
        "colab": {
          "base_uri": "https://localhost:8080/"
        },
        "id": "v7LDMZ89gxFk",
        "outputId": "498fe69d-fdf8-4361-a961-71dd343cec6c"
      },
      "source": [
        "##Generado con el modelo 2\n",
        "generar_poema(\"Quiero tu cuerpo\", 10)"
      ],
      "execution_count": null,
      "outputs": [
        {
          "output_type": "stream",
          "name": "stdout",
          "text": [
            "Quiero tu cuerpo alegre tus luminosos ojos y volver a ese café solo\n"
          ]
        }
      ]
    },
    {
      "cell_type": "markdown",
      "metadata": {
        "id": "m2eE99QhA6gt"
      },
      "source": [
        "Quiero tu cuerpo alegre, <br>\n",
        "Tus luminosos ojos,<br>\n",
        "Y jamás volver sólo a ese café<br>"
      ]
    },
    {
      "cell_type": "code",
      "metadata": {
        "colab": {
          "base_uri": "https://localhost:8080/"
        },
        "id": "v_0Boz9DGHe1",
        "outputId": "70ba9c7f-945e-40f3-f140-892f1672e124"
      },
      "source": [
        "##Generado con el modelo 1\n",
        "generar_poema(\"Quiero tu cuerpo\", 10)"
      ],
      "execution_count": 16,
      "outputs": [
        {
          "output_type": "stream",
          "name": "stdout",
          "text": [
            "Quiero tu cuerpo de estatua temerosa pequeña tu alma se habla de peces\n"
          ]
        }
      ]
    }
  ]
}