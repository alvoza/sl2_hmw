{
  "nbformat": 4,
  "nbformat_minor": 0,
  "metadata": {
    "colab": {
      "name": "02 - SLII - coffee.ipynb",
      "provenance": []
    },
    "kernelspec": {
      "name": "python3",
      "display_name": "Python 3"
    },
    "language_info": {
      "name": "python"
    }
  },
  "cells": [
    {
      "cell_type": "code",
      "metadata": {
        "id": "ghYPv6Ix15Rl"
      },
      "source": [
        "import numpy as np\n",
        "import pandas as pd\n",
        "import matplotlib.pyplot as plt\n",
        "plt.style.use('seaborn-whitegrid')\n",
        "from sklearn.preprocessing import LabelEncoder\n",
        "from sklearn.preprocessing import OneHotEncoder\n",
        "from tensorflow.keras.models import Sequential \n",
        "from tensorflow.keras.layers import Dense\n",
        "from sklearn.model_selection import train_test_split\n",
        "from keras.callbacks import EarlyStopping, ModelCheckpoint\n",
        "from tensorflow.keras.optimizers import Adam"
      ],
      "execution_count": 5,
      "outputs": []
    },
    {
      "cell_type": "markdown",
      "metadata": {
        "id": "YoDIebAs98JL"
      },
      "source": [
        "## 0. Análisis inicial"
      ]
    },
    {
      "cell_type": "code",
      "metadata": {
        "colab": {
          "base_uri": "https://localhost:8080/"
        },
        "id": "GBv5APdGJj7K",
        "outputId": "a34d28ad-a4aa-483e-fc3f-ef4b429759db"
      },
      "source": [
        "test = pd.read_csv('arabica_data_cleaned.csv')\n",
        "test.shape"
      ],
      "execution_count": 62,
      "outputs": [
        {
          "output_type": "execute_result",
          "data": {
            "text/plain": [
              "(1311, 44)"
            ]
          },
          "metadata": {},
          "execution_count": 62
        }
      ]
    },
    {
      "cell_type": "code",
      "metadata": {
        "colab": {
          "base_uri": "https://localhost:8080/",
          "height": 224
        },
        "id": "jULXM1g-2Cef",
        "outputId": "21cd04a9-c622-48f3-f8b7-d1417635cd98"
      },
      "source": [
        "arabica = pd.read_csv('arabica_data_cleaned.csv')\n",
        "arabica = arabica.drop(['Certification.Address', 'Certification.Contact', 'Farm.Name', 'Lot.Number', 'Mill', 'ICO.Number', 'Company', 'Region', 'Producer', 'In.Country.Partner', \n",
        "                        'Certification.Body', 'Expiration', 'Owner.1', 'Owner', 'Unnamed: 0', 'Altitude', 'Number.of.Bags', 'Bag.Weight', 'Grading.Date', 'Species', 'Harvest.Year',\n",
        "                        'Total.Cup.Points'], 1)\n",
        "arabica.head()"
      ],
      "execution_count": 29,
      "outputs": [
        {
          "output_type": "execute_result",
          "data": {
            "text/html": [
              "<div>\n",
              "<style scoped>\n",
              "    .dataframe tbody tr th:only-of-type {\n",
              "        vertical-align: middle;\n",
              "    }\n",
              "\n",
              "    .dataframe tbody tr th {\n",
              "        vertical-align: top;\n",
              "    }\n",
              "\n",
              "    .dataframe thead th {\n",
              "        text-align: right;\n",
              "    }\n",
              "</style>\n",
              "<table border=\"1\" class=\"dataframe\">\n",
              "  <thead>\n",
              "    <tr style=\"text-align: right;\">\n",
              "      <th></th>\n",
              "      <th>Country.of.Origin</th>\n",
              "      <th>Variety</th>\n",
              "      <th>Processing.Method</th>\n",
              "      <th>Aroma</th>\n",
              "      <th>Flavor</th>\n",
              "      <th>Aftertaste</th>\n",
              "      <th>Acidity</th>\n",
              "      <th>Body</th>\n",
              "      <th>Balance</th>\n",
              "      <th>Uniformity</th>\n",
              "      <th>Clean.Cup</th>\n",
              "      <th>Sweetness</th>\n",
              "      <th>Cupper.Points</th>\n",
              "      <th>Moisture</th>\n",
              "      <th>Category.One.Defects</th>\n",
              "      <th>Quakers</th>\n",
              "      <th>Color</th>\n",
              "      <th>Category.Two.Defects</th>\n",
              "      <th>unit_of_measurement</th>\n",
              "      <th>altitude_low_meters</th>\n",
              "      <th>altitude_high_meters</th>\n",
              "      <th>altitude_mean_meters</th>\n",
              "    </tr>\n",
              "  </thead>\n",
              "  <tbody>\n",
              "    <tr>\n",
              "      <th>0</th>\n",
              "      <td>Ethiopia</td>\n",
              "      <td>NaN</td>\n",
              "      <td>Washed / Wet</td>\n",
              "      <td>8.67</td>\n",
              "      <td>8.83</td>\n",
              "      <td>8.67</td>\n",
              "      <td>8.75</td>\n",
              "      <td>8.50</td>\n",
              "      <td>8.42</td>\n",
              "      <td>10.0</td>\n",
              "      <td>10.0</td>\n",
              "      <td>10.0</td>\n",
              "      <td>8.75</td>\n",
              "      <td>0.12</td>\n",
              "      <td>0</td>\n",
              "      <td>0.0</td>\n",
              "      <td>Green</td>\n",
              "      <td>0</td>\n",
              "      <td>m</td>\n",
              "      <td>1950.0</td>\n",
              "      <td>2200.0</td>\n",
              "      <td>2075.0</td>\n",
              "    </tr>\n",
              "    <tr>\n",
              "      <th>1</th>\n",
              "      <td>Ethiopia</td>\n",
              "      <td>Other</td>\n",
              "      <td>Washed / Wet</td>\n",
              "      <td>8.75</td>\n",
              "      <td>8.67</td>\n",
              "      <td>8.50</td>\n",
              "      <td>8.58</td>\n",
              "      <td>8.42</td>\n",
              "      <td>8.42</td>\n",
              "      <td>10.0</td>\n",
              "      <td>10.0</td>\n",
              "      <td>10.0</td>\n",
              "      <td>8.58</td>\n",
              "      <td>0.12</td>\n",
              "      <td>0</td>\n",
              "      <td>0.0</td>\n",
              "      <td>Green</td>\n",
              "      <td>1</td>\n",
              "      <td>m</td>\n",
              "      <td>1950.0</td>\n",
              "      <td>2200.0</td>\n",
              "      <td>2075.0</td>\n",
              "    </tr>\n",
              "    <tr>\n",
              "      <th>2</th>\n",
              "      <td>Guatemala</td>\n",
              "      <td>Bourbon</td>\n",
              "      <td>NaN</td>\n",
              "      <td>8.42</td>\n",
              "      <td>8.50</td>\n",
              "      <td>8.42</td>\n",
              "      <td>8.42</td>\n",
              "      <td>8.33</td>\n",
              "      <td>8.42</td>\n",
              "      <td>10.0</td>\n",
              "      <td>10.0</td>\n",
              "      <td>10.0</td>\n",
              "      <td>9.25</td>\n",
              "      <td>0.00</td>\n",
              "      <td>0</td>\n",
              "      <td>0.0</td>\n",
              "      <td>NaN</td>\n",
              "      <td>0</td>\n",
              "      <td>m</td>\n",
              "      <td>1600.0</td>\n",
              "      <td>1800.0</td>\n",
              "      <td>1700.0</td>\n",
              "    </tr>\n",
              "    <tr>\n",
              "      <th>3</th>\n",
              "      <td>Ethiopia</td>\n",
              "      <td>NaN</td>\n",
              "      <td>Natural / Dry</td>\n",
              "      <td>8.17</td>\n",
              "      <td>8.58</td>\n",
              "      <td>8.42</td>\n",
              "      <td>8.42</td>\n",
              "      <td>8.50</td>\n",
              "      <td>8.25</td>\n",
              "      <td>10.0</td>\n",
              "      <td>10.0</td>\n",
              "      <td>10.0</td>\n",
              "      <td>8.67</td>\n",
              "      <td>0.11</td>\n",
              "      <td>0</td>\n",
              "      <td>0.0</td>\n",
              "      <td>Green</td>\n",
              "      <td>2</td>\n",
              "      <td>m</td>\n",
              "      <td>1800.0</td>\n",
              "      <td>2200.0</td>\n",
              "      <td>2000.0</td>\n",
              "    </tr>\n",
              "    <tr>\n",
              "      <th>4</th>\n",
              "      <td>Ethiopia</td>\n",
              "      <td>Other</td>\n",
              "      <td>Washed / Wet</td>\n",
              "      <td>8.25</td>\n",
              "      <td>8.50</td>\n",
              "      <td>8.25</td>\n",
              "      <td>8.50</td>\n",
              "      <td>8.42</td>\n",
              "      <td>8.33</td>\n",
              "      <td>10.0</td>\n",
              "      <td>10.0</td>\n",
              "      <td>10.0</td>\n",
              "      <td>8.58</td>\n",
              "      <td>0.12</td>\n",
              "      <td>0</td>\n",
              "      <td>0.0</td>\n",
              "      <td>Green</td>\n",
              "      <td>2</td>\n",
              "      <td>m</td>\n",
              "      <td>1950.0</td>\n",
              "      <td>2200.0</td>\n",
              "      <td>2075.0</td>\n",
              "    </tr>\n",
              "  </tbody>\n",
              "</table>\n",
              "</div>"
            ],
            "text/plain": [
              "  Country.of.Origin  Variety  ... altitude_high_meters  altitude_mean_meters\n",
              "0          Ethiopia      NaN  ...               2200.0                2075.0\n",
              "1          Ethiopia    Other  ...               2200.0                2075.0\n",
              "2         Guatemala  Bourbon  ...               1800.0                1700.0\n",
              "3          Ethiopia      NaN  ...               2200.0                2000.0\n",
              "4          Ethiopia    Other  ...               2200.0                2075.0\n",
              "\n",
              "[5 rows x 22 columns]"
            ]
          },
          "metadata": {},
          "execution_count": 29
        }
      ]
    },
    {
      "cell_type": "code",
      "metadata": {
        "colab": {
          "base_uri": "https://localhost:8080/"
        },
        "id": "_UXS3TVm8Qrk",
        "outputId": "aeeefad3-5f91-4cc7-fa68-1f1f358b721c"
      },
      "source": [
        "arabica.shape"
      ],
      "execution_count": 7,
      "outputs": [
        {
          "output_type": "execute_result",
          "data": {
            "text/plain": [
              "(1311, 22)"
            ]
          },
          "metadata": {},
          "execution_count": 7
        }
      ]
    },
    {
      "cell_type": "code",
      "metadata": {
        "colab": {
          "base_uri": "https://localhost:8080/",
          "height": 100
        },
        "id": "cC19q3D1ICrq",
        "outputId": "e71f2c8b-3fbf-4ec9-9ea3-9efb13ef49db"
      },
      "source": [
        "arabica[arabica['Total.Cup.Points'] == 0]"
      ],
      "execution_count": null,
      "outputs": [
        {
          "output_type": "execute_result",
          "data": {
            "text/html": [
              "<div>\n",
              "<style scoped>\n",
              "    .dataframe tbody tr th:only-of-type {\n",
              "        vertical-align: middle;\n",
              "    }\n",
              "\n",
              "    .dataframe tbody tr th {\n",
              "        vertical-align: top;\n",
              "    }\n",
              "\n",
              "    .dataframe thead th {\n",
              "        text-align: right;\n",
              "    }\n",
              "</style>\n",
              "<table border=\"1\" class=\"dataframe\">\n",
              "  <thead>\n",
              "    <tr style=\"text-align: right;\">\n",
              "      <th></th>\n",
              "      <th>Species</th>\n",
              "      <th>Country.of.Origin</th>\n",
              "      <th>Harvest.Year</th>\n",
              "      <th>Variety</th>\n",
              "      <th>Processing.Method</th>\n",
              "      <th>Aroma</th>\n",
              "      <th>Flavor</th>\n",
              "      <th>Aftertaste</th>\n",
              "      <th>Acidity</th>\n",
              "      <th>Body</th>\n",
              "      <th>Balance</th>\n",
              "      <th>Uniformity</th>\n",
              "      <th>Clean.Cup</th>\n",
              "      <th>Sweetness</th>\n",
              "      <th>Cupper.Points</th>\n",
              "      <th>Total.Cup.Points</th>\n",
              "      <th>Moisture</th>\n",
              "      <th>Category.One.Defects</th>\n",
              "      <th>Quakers</th>\n",
              "      <th>Color</th>\n",
              "      <th>Category.Two.Defects</th>\n",
              "      <th>unit_of_measurement</th>\n",
              "      <th>altitude_low_meters</th>\n",
              "      <th>altitude_high_meters</th>\n",
              "      <th>altitude_mean_meters</th>\n",
              "    </tr>\n",
              "  </thead>\n",
              "  <tbody>\n",
              "    <tr>\n",
              "      <th>1310</th>\n",
              "      <td>Arabica</td>\n",
              "      <td>Honduras</td>\n",
              "      <td>2017</td>\n",
              "      <td>Caturra</td>\n",
              "      <td>NaN</td>\n",
              "      <td>0.0</td>\n",
              "      <td>0.0</td>\n",
              "      <td>0.0</td>\n",
              "      <td>0.0</td>\n",
              "      <td>0.0</td>\n",
              "      <td>0.0</td>\n",
              "      <td>0.0</td>\n",
              "      <td>0.0</td>\n",
              "      <td>0.0</td>\n",
              "      <td>0.0</td>\n",
              "      <td>0.0</td>\n",
              "      <td>0.12</td>\n",
              "      <td>0</td>\n",
              "      <td>0.0</td>\n",
              "      <td>Green</td>\n",
              "      <td>2</td>\n",
              "      <td>m</td>\n",
              "      <td>1400.0</td>\n",
              "      <td>1400.0</td>\n",
              "      <td>1400.0</td>\n",
              "    </tr>\n",
              "  </tbody>\n",
              "</table>\n",
              "</div>"
            ],
            "text/plain": [
              "      Species Country.of.Origin  ... altitude_high_meters altitude_mean_meters\n",
              "1310  Arabica          Honduras  ...               1400.0               1400.0\n",
              "\n",
              "[1 rows x 25 columns]"
            ]
          },
          "metadata": {},
          "execution_count": 70
        }
      ]
    },
    {
      "cell_type": "code",
      "metadata": {
        "colab": {
          "base_uri": "https://localhost:8080/"
        },
        "id": "38Yq9JHVvq0u",
        "outputId": "2a66036c-941e-4658-c3f5-60a24fc64c77"
      },
      "source": [
        "len(pd.unique(arabica['Country.of.Origin']))"
      ],
      "execution_count": 9,
      "outputs": [
        {
          "output_type": "execute_result",
          "data": {
            "text/plain": [
              "37"
            ]
          },
          "metadata": {},
          "execution_count": 9
        }
      ]
    },
    {
      "cell_type": "code",
      "metadata": {
        "colab": {
          "base_uri": "https://localhost:8080/"
        },
        "id": "iQfufA4TKmOx",
        "outputId": "92e4e272-23bf-4df1-ae56-3701779d4aa9"
      },
      "source": [
        "len(pd.unique(test[test['Country.of.Origin']=='Guatemala']['Farm.Name']))"
      ],
      "execution_count": 64,
      "outputs": [
        {
          "output_type": "execute_result",
          "data": {
            "text/plain": [
              "54"
            ]
          },
          "metadata": {},
          "execution_count": 64
        }
      ]
    },
    {
      "cell_type": "code",
      "metadata": {
        "colab": {
          "base_uri": "https://localhost:8080/"
        },
        "id": "TZyIdfXH-3um",
        "outputId": "40d38d7c-ffee-4bb7-d5d3-d0a05ec6857c"
      },
      "source": [
        "arabica[arabica['Country.of.Origin']=='Guatemala']['Farm.Name'].value_counts()"
      ],
      "execution_count": null,
      "outputs": [
        {
          "output_type": "execute_result",
          "data": {
            "text/plain": [
              "finca medina                                15\n",
              "conquista / morito                          11\n",
              "various                                      9\n",
              "el papaturro                                 9\n",
              "el morito                                    8\n",
              "agropecuaria quiagral                        8\n",
              "la esmeralda                                 7\n",
              "la esperanza                                 6\n",
              "el sacramento                                6\n",
              "la esperanza y anexos                        5\n",
              "piamonte                                     5\n",
              "la union monte verde                         5\n",
              "las merceditas                               5\n",
              "las delicias                                 5\n",
              "nueva granada                                4\n",
              "several                                      4\n",
              "santo tomas pachuj                           4\n",
              "finca el morito                              4\n",
              "chapultepec                                  4\n",
              "la castellana                                4\n",
              "chiquimulja / alpha cafe / senfro            3\n",
              "finca los cerros y anexos                    3\n",
              "la igualdad                                  3\n",
              "linda vista                                  3\n",
              "el injerto s.a.                              2\n",
              "finca el limon                               2\n",
              "valparaiso                                   2\n",
              "providencia                                  2\n",
              "finca quequesquez                            2\n",
              "el chile                                     2\n",
              "finca las cuevitas                           1\n",
              "aprocafi                                     1\n",
              "la esperanza, margarita nuyes                1\n",
              "san marcos barrancas \"san cristobal cuch     1\n",
              "las minas                                    1\n",
              "finca la joya                                1\n",
              "grupo medina (pequeños productores)          1\n",
              "el faro                                      1\n",
              "beneficio el torreon                         1\n",
              "several farms                                1\n",
              "coop. hoja blanca - fedecocagua              1\n",
              "el limon                                     1\n",
              "las cebollas y anexos                        1\n",
              "san diego buena vista                        1\n",
              "blue lake                                    1\n",
              "finca santa clara                            1\n",
              "finca el naranjal                            1\n",
              "finca loma linda y anexo                     1\n",
              "genuine antigua medina                       1\n",
              "el guayabo                                   1\n",
              "asoperc                                      1\n",
              "barranca de las flores                       1\n",
              "finca san vicente                            1\n",
              "Name: Farm.Name, dtype: int64"
            ]
          },
          "metadata": {},
          "execution_count": 32
        }
      ]
    },
    {
      "cell_type": "code",
      "metadata": {
        "colab": {
          "base_uri": "https://localhost:8080/"
        },
        "id": "K5gS0QkZ2PMK",
        "outputId": "77216eda-71c3-48f4-8a2c-6a6d19895f48"
      },
      "source": [
        "arabica['Harvest.Year'].value_counts()"
      ],
      "execution_count": null,
      "outputs": [
        {
          "output_type": "execute_result",
          "data": {
            "text/plain": [
              "2012                        352\n",
              "2014                        226\n",
              "2013                        170\n",
              "2015                        125\n",
              "2016                        122\n",
              "2017                         68\n",
              "2013/2014                    29\n",
              "2015/2016                    28\n",
              "2011                         26\n",
              "2017 / 2018                  19\n",
              "2014/2015                    19\n",
              "2009/2010                    12\n",
              "2010                         10\n",
              "2016 / 2017                   6\n",
              "2010-2011                     6\n",
              "4T/10                         4\n",
              "4T/2010                       3\n",
              "Mayo a Julio                  3\n",
              "March 2010                    3\n",
              "2009-2010                     3\n",
              "08/09 crop                    2\n",
              "Abril - Julio                 2\n",
              "January 2011                  2\n",
              "2011/2012                     2\n",
              "23 July 2010                  1\n",
              "May-August                    1\n",
              "December 2009-March 2010      1\n",
              "4T72010                       1\n",
              "1t/2011                       1\n",
              "TEST                          1\n",
              "47/2010                       1\n",
              "Spring 2011 in Colombia.      1\n",
              "Sept 2009 - April 2010        1\n",
              "Abril - Julio /2011           1\n",
              "mmm                           1\n",
              "1T/2011                       1\n",
              "3T/2011                       1\n",
              "2009 - 2010                   1\n",
              "January Through April         1\n",
              "August to December            1\n",
              "2009 / 2010                   1\n",
              "4t/2011                       1\n",
              "4t/2010                       1\n",
              "2016/2017                     1\n",
              "2018                          1\n",
              "Fall 2009                     1\n",
              "Name: Harvest.Year, dtype: int64"
            ]
          },
          "metadata": {},
          "execution_count": 63
        }
      ]
    },
    {
      "cell_type": "code",
      "metadata": {
        "colab": {
          "base_uri": "https://localhost:8080/"
        },
        "id": "22IKcXaDEG2Z",
        "outputId": "181bb04d-87cb-40b9-b966-b3ce62077b26"
      },
      "source": [
        "arabica['Variety'].value_counts()"
      ],
      "execution_count": null,
      "outputs": [
        {
          "output_type": "execute_result",
          "data": {
            "text/plain": [
              "Caturra                  256\n",
              "Bourbon                  226\n",
              "Typica                   211\n",
              "Other                    108\n",
              "Catuai                    74\n",
              "Hawaiian Kona             44\n",
              "Yellow Bourbon            35\n",
              "Mundo Novo                33\n",
              "Catimor                   20\n",
              "SL14                      17\n",
              "SL28                      15\n",
              "Pacas                     13\n",
              "Gesha                     12\n",
              "SL34                       8\n",
              "Pacamara                   8\n",
              "Arusha                     5\n",
              "Peaberry                   5\n",
              "Sumatra                    3\n",
              "Mandheling                 3\n",
              "Java                       2\n",
              "Ethiopian Yirgacheffe      2\n",
              "Blue Mountain              2\n",
              "Ruiru 11                   2\n",
              "Sumatra Lintong            1\n",
              "Pache Comun                1\n",
              "Ethiopian Heirlooms        1\n",
              "Moka Peaberry              1\n",
              "Marigojipe                 1\n",
              "Sulawesi                   1\n",
              "Name: Variety, dtype: int64"
            ]
          },
          "metadata": {},
          "execution_count": 62
        }
      ]
    },
    {
      "cell_type": "code",
      "metadata": {
        "colab": {
          "base_uri": "https://localhost:8080/"
        },
        "id": "nT_pmdQ0FPV7",
        "outputId": "832227be-7c23-45f7-9fba-600cc7df4fdd"
      },
      "source": [
        "arabica['Processing.Method'].value_counts()"
      ],
      "execution_count": null,
      "outputs": [
        {
          "output_type": "execute_result",
          "data": {
            "text/plain": [
              "Washed / Wet                 812\n",
              "Natural / Dry                251\n",
              "Semi-washed / Semi-pulped     56\n",
              "Other                         26\n",
              "Pulped natural / honey        14\n",
              "Name: Processing.Method, dtype: int64"
            ]
          },
          "metadata": {},
          "execution_count": 65
        }
      ]
    },
    {
      "cell_type": "markdown",
      "metadata": {
        "id": "z9mIcuYZ-IMO"
      },
      "source": [
        "## 1. Feature Engineering"
      ]
    },
    {
      "cell_type": "markdown",
      "metadata": {
        "id": "QvhZqHJH8nre"
      },
      "source": [
        "### Unit standarization FT  to M\n",
        "Utilizado para estandarizar la medida en la que se encuentra la altitud a la que el café analizado fue cocechado. "
      ]
    },
    {
      "cell_type": "code",
      "metadata": {
        "colab": {
          "base_uri": "https://localhost:8080/"
        },
        "id": "pvfiIsqF2ale",
        "outputId": "84b60d79-6c5c-4d95-e7a1-f42fe453ea1b"
      },
      "source": [
        "arabica['unit_of_measurement'].value_counts()"
      ],
      "execution_count": 30,
      "outputs": [
        {
          "output_type": "execute_result",
          "data": {
            "text/plain": [
              "m     1129\n",
              "ft     182\n",
              "Name: unit_of_measurement, dtype: int64"
            ]
          },
          "metadata": {},
          "execution_count": 30
        }
      ]
    },
    {
      "cell_type": "code",
      "metadata": {
        "id": "IoMnrB0r49oK"
      },
      "source": [
        "def convert_to_meters(ft):\n",
        "  return round(ft*0.3048,2)"
      ],
      "execution_count": 11,
      "outputs": []
    },
    {
      "cell_type": "code",
      "metadata": {
        "id": "9V8i9IDy88iM"
      },
      "source": [
        "#convert_to_meters(\n",
        "arabica.loc[arabica['unit_of_measurement'] == 'ft', ['altitude_mean_meters']] = convert_to_meters(arabica[arabica['unit_of_measurement'] == 'ft']['altitude_mean_meters'])"
      ],
      "execution_count": 31,
      "outputs": []
    },
    {
      "cell_type": "code",
      "metadata": {
        "id": "cga3WiznBNUv",
        "colab": {
          "base_uri": "https://localhost:8080/"
        },
        "outputId": "f89b6f02-2151-43da-9d27-fe42dff4c899"
      },
      "source": [
        "arabica = arabica.drop(['unit_of_measurement'], 1)\n",
        "arabica.shape"
      ],
      "execution_count": 32,
      "outputs": [
        {
          "output_type": "execute_result",
          "data": {
            "text/plain": [
              "(1311, 21)"
            ]
          },
          "metadata": {},
          "execution_count": 32
        }
      ]
    },
    {
      "cell_type": "markdown",
      "metadata": {
        "id": "6PxeBfsp-yYx"
      },
      "source": [
        "### NAN Treatment"
      ]
    },
    {
      "cell_type": "code",
      "metadata": {
        "colab": {
          "base_uri": "https://localhost:8080/"
        },
        "id": "FfCt9OwB-yH1",
        "outputId": "44f7d6d1-7461-4f97-c842-0c90e31820b9"
      },
      "source": [
        "## NAN Before treatment\n",
        "arabica.isnull().sum()"
      ],
      "execution_count": 33,
      "outputs": [
        {
          "output_type": "execute_result",
          "data": {
            "text/plain": [
              "Country.of.Origin         1\n",
              "Variety                 201\n",
              "Processing.Method       152\n",
              "Aroma                     0\n",
              "Flavor                    0\n",
              "Aftertaste                0\n",
              "Acidity                   0\n",
              "Body                      0\n",
              "Balance                   0\n",
              "Uniformity                0\n",
              "Clean.Cup                 0\n",
              "Sweetness                 0\n",
              "Cupper.Points             0\n",
              "Moisture                  0\n",
              "Category.One.Defects      0\n",
              "Quakers                   1\n",
              "Color                   216\n",
              "Category.Two.Defects      0\n",
              "altitude_low_meters     227\n",
              "altitude_high_meters    227\n",
              "altitude_mean_meters    227\n",
              "dtype: int64"
            ]
          },
          "metadata": {},
          "execution_count": 33
        }
      ]
    },
    {
      "cell_type": "code",
      "metadata": {
        "colab": {
          "base_uri": "https://localhost:8080/"
        },
        "id": "2K7UbdG2ACl-",
        "outputId": "08a74e6f-1a70-4f38-c08c-ed593481089d"
      },
      "source": [
        "print(arabica[arabica[\"Country.of.Origin\"].isnull()])\n",
        "arabica.dropna(subset = [\"Country.of.Origin\"], inplace=True)"
      ],
      "execution_count": 34,
      "outputs": [
        {
          "output_type": "stream",
          "name": "stdout",
          "text": [
            "     Country.of.Origin Variety  ... altitude_high_meters  altitude_mean_meters\n",
            "1197               NaN     NaN  ...                  NaN                   NaN\n",
            "\n",
            "[1 rows x 21 columns]\n"
          ]
        }
      ]
    },
    {
      "cell_type": "code",
      "metadata": {
        "id": "vIkKr3TXBaFL"
      },
      "source": [
        "arabica['Variety'] = arabica['Variety'].fillna('Other')"
      ],
      "execution_count": 35,
      "outputs": []
    },
    {
      "cell_type": "code",
      "metadata": {
        "id": "5mgXjmLUDmUo"
      },
      "source": [
        "arabica['Processing.Method'] = arabica['Processing.Method'].fillna('Other')"
      ],
      "execution_count": 36,
      "outputs": []
    },
    {
      "cell_type": "code",
      "metadata": {
        "id": "MBsjKi1PFfTx"
      },
      "source": [
        "arabica['Color'] = arabica['Color'].fillna('None')"
      ],
      "execution_count": 37,
      "outputs": []
    },
    {
      "cell_type": "code",
      "metadata": {
        "colab": {
          "base_uri": "https://localhost:8080/"
        },
        "id": "rgftq0wgCu7i",
        "outputId": "54dd1609-fbc9-4159-b54c-d85dc9897986"
      },
      "source": [
        "arabica['Color'].value_counts()"
      ],
      "execution_count": 38,
      "outputs": [
        {
          "output_type": "execute_result",
          "data": {
            "text/plain": [
              "Green           850\n",
              "None            266\n",
              "Bluish-Green    112\n",
              "Blue-Green       82\n",
              "Name: Color, dtype: int64"
            ]
          },
          "metadata": {},
          "execution_count": 38
        }
      ]
    },
    {
      "cell_type": "code",
      "metadata": {
        "id": "JyvAVxssEDjL"
      },
      "source": [
        "arabica[\"Quakers\"] = arabica['Quakers'].fillna(0)"
      ],
      "execution_count": 39,
      "outputs": []
    },
    {
      "cell_type": "code",
      "metadata": {
        "id": "qMD_tVnGIPe9"
      },
      "source": [
        "##Outlier treatment\n",
        "arabica.loc[arabica['altitude_high_meters'] > 10000,['altitude_high_meters']]  = np.mean(arabica[\"altitude_high_meters\"])"
      ],
      "execution_count": 41,
      "outputs": []
    },
    {
      "cell_type": "code",
      "metadata": {
        "colab": {
          "base_uri": "https://localhost:8080/",
          "height": 262
        },
        "id": "6Fh9nQChGErS",
        "outputId": "da4a1fdf-38c9-4a4d-aa9a-5bd1e6e797a6"
      },
      "source": [
        "x = arabica[\"Sweetness\"]\n",
        "y = arabica[\"altitude_high_meters\"]\n",
        "\n",
        "plt.plot(x, y, 'o', color='black');"
      ],
      "execution_count": 42,
      "outputs": [
        {
          "output_type": "display_data",
          "data": {
            "image/png": "[encoded data removed]",
            "text/plain": [
              "<Figure size 432x288 with 1 Axes>"
            ]
          },
          "metadata": {}
        }
      ]
    },
    {
      "cell_type": "code",
      "metadata": {
        "id": "kab52omhLR9j"
      },
      "source": [
        "arabica[\"altitude_mean_meters\"] = arabica[\"altitude_mean_meters\"].fillna(np.mean(arabica[\"altitude_mean_meters\"]))\n",
        "arabica[\"altitude_high_meters\"] = arabica[\"altitude_high_meters\"].fillna(np.mean(arabica[\"altitude_high_meters\"]))\n",
        "arabica[\"altitude_low_meters\"] = arabica[\"altitude_low_meters\"].fillna(np.mean(arabica[\"altitude_low_meters\"]))"
      ],
      "execution_count": 43,
      "outputs": []
    },
    {
      "cell_type": "code",
      "metadata": {
        "colab": {
          "base_uri": "https://localhost:8080/"
        },
        "id": "scZSec5fBNP8",
        "outputId": "dce7c7e7-8fe9-4790-f367-6a57af00f72b"
      },
      "source": [
        "# NAN After treatment\n",
        "arabica.isnull().sum()"
      ],
      "execution_count": 44,
      "outputs": [
        {
          "output_type": "execute_result",
          "data": {
            "text/plain": [
              "Country.of.Origin       0\n",
              "Variety                 0\n",
              "Processing.Method       0\n",
              "Aroma                   0\n",
              "Flavor                  0\n",
              "Aftertaste              0\n",
              "Acidity                 0\n",
              "Body                    0\n",
              "Balance                 0\n",
              "Uniformity              0\n",
              "Clean.Cup               0\n",
              "Sweetness               0\n",
              "Cupper.Points           0\n",
              "Moisture                0\n",
              "Category.One.Defects    0\n",
              "Quakers                 0\n",
              "Color                   0\n",
              "Category.Two.Defects    0\n",
              "altitude_low_meters     0\n",
              "altitude_high_meters    0\n",
              "altitude_mean_meters    0\n",
              "dtype: int64"
            ]
          },
          "metadata": {},
          "execution_count": 44
        }
      ]
    },
    {
      "cell_type": "markdown",
      "metadata": {
        "id": "E2nszMhSMVrh"
      },
      "source": [
        "### Feature encoding"
      ]
    },
    {
      "cell_type": "code",
      "metadata": {
        "colab": {
          "base_uri": "https://localhost:8080/",
          "height": 224
        },
        "id": "L2hWN_qmMoIy",
        "outputId": "f1d36c24-9c9d-4f81-e3c8-721b1d60ddcc"
      },
      "source": [
        "arabica.head()"
      ],
      "execution_count": 25,
      "outputs": [
        {
          "output_type": "execute_result",
          "data": {
            "text/html": [
              "<div>\n",
              "<style scoped>\n",
              "    .dataframe tbody tr th:only-of-type {\n",
              "        vertical-align: middle;\n",
              "    }\n",
              "\n",
              "    .dataframe tbody tr th {\n",
              "        vertical-align: top;\n",
              "    }\n",
              "\n",
              "    .dataframe thead th {\n",
              "        text-align: right;\n",
              "    }\n",
              "</style>\n",
              "<table border=\"1\" class=\"dataframe\">\n",
              "  <thead>\n",
              "    <tr style=\"text-align: right;\">\n",
              "      <th></th>\n",
              "      <th>Country.of.Origin</th>\n",
              "      <th>Variety</th>\n",
              "      <th>Processing.Method</th>\n",
              "      <th>Aroma</th>\n",
              "      <th>Flavor</th>\n",
              "      <th>Aftertaste</th>\n",
              "      <th>Acidity</th>\n",
              "      <th>Body</th>\n",
              "      <th>Balance</th>\n",
              "      <th>Uniformity</th>\n",
              "      <th>Clean.Cup</th>\n",
              "      <th>Sweetness</th>\n",
              "      <th>Cupper.Points</th>\n",
              "      <th>Moisture</th>\n",
              "      <th>Category.One.Defects</th>\n",
              "      <th>Quakers</th>\n",
              "      <th>Color</th>\n",
              "      <th>Category.Two.Defects</th>\n",
              "      <th>altitude_low_meters</th>\n",
              "      <th>altitude_high_meters</th>\n",
              "      <th>altitude_mean_meters</th>\n",
              "    </tr>\n",
              "  </thead>\n",
              "  <tbody>\n",
              "    <tr>\n",
              "      <th>0</th>\n",
              "      <td>Ethiopia</td>\n",
              "      <td>Other</td>\n",
              "      <td>Washed / Wet</td>\n",
              "      <td>8.67</td>\n",
              "      <td>8.83</td>\n",
              "      <td>8.67</td>\n",
              "      <td>8.75</td>\n",
              "      <td>8.50</td>\n",
              "      <td>8.42</td>\n",
              "      <td>10.0</td>\n",
              "      <td>10.0</td>\n",
              "      <td>10.0</td>\n",
              "      <td>8.75</td>\n",
              "      <td>0.12</td>\n",
              "      <td>0</td>\n",
              "      <td>0.0</td>\n",
              "      <td>Green</td>\n",
              "      <td>0</td>\n",
              "      <td>1950.0</td>\n",
              "      <td>2200.0</td>\n",
              "      <td>2075.0</td>\n",
              "    </tr>\n",
              "    <tr>\n",
              "      <th>1</th>\n",
              "      <td>Ethiopia</td>\n",
              "      <td>Other</td>\n",
              "      <td>Washed / Wet</td>\n",
              "      <td>8.75</td>\n",
              "      <td>8.67</td>\n",
              "      <td>8.50</td>\n",
              "      <td>8.58</td>\n",
              "      <td>8.42</td>\n",
              "      <td>8.42</td>\n",
              "      <td>10.0</td>\n",
              "      <td>10.0</td>\n",
              "      <td>10.0</td>\n",
              "      <td>8.58</td>\n",
              "      <td>0.12</td>\n",
              "      <td>0</td>\n",
              "      <td>0.0</td>\n",
              "      <td>Green</td>\n",
              "      <td>1</td>\n",
              "      <td>1950.0</td>\n",
              "      <td>2200.0</td>\n",
              "      <td>2075.0</td>\n",
              "    </tr>\n",
              "    <tr>\n",
              "      <th>2</th>\n",
              "      <td>Guatemala</td>\n",
              "      <td>Bourbon</td>\n",
              "      <td>Other</td>\n",
              "      <td>8.42</td>\n",
              "      <td>8.50</td>\n",
              "      <td>8.42</td>\n",
              "      <td>8.42</td>\n",
              "      <td>8.33</td>\n",
              "      <td>8.42</td>\n",
              "      <td>10.0</td>\n",
              "      <td>10.0</td>\n",
              "      <td>10.0</td>\n",
              "      <td>9.25</td>\n",
              "      <td>0.00</td>\n",
              "      <td>0</td>\n",
              "      <td>0.0</td>\n",
              "      <td>None</td>\n",
              "      <td>0</td>\n",
              "      <td>1600.0</td>\n",
              "      <td>1800.0</td>\n",
              "      <td>1700.0</td>\n",
              "    </tr>\n",
              "    <tr>\n",
              "      <th>3</th>\n",
              "      <td>Ethiopia</td>\n",
              "      <td>Other</td>\n",
              "      <td>Natural / Dry</td>\n",
              "      <td>8.17</td>\n",
              "      <td>8.58</td>\n",
              "      <td>8.42</td>\n",
              "      <td>8.42</td>\n",
              "      <td>8.50</td>\n",
              "      <td>8.25</td>\n",
              "      <td>10.0</td>\n",
              "      <td>10.0</td>\n",
              "      <td>10.0</td>\n",
              "      <td>8.67</td>\n",
              "      <td>0.11</td>\n",
              "      <td>0</td>\n",
              "      <td>0.0</td>\n",
              "      <td>Green</td>\n",
              "      <td>2</td>\n",
              "      <td>1800.0</td>\n",
              "      <td>2200.0</td>\n",
              "      <td>2000.0</td>\n",
              "    </tr>\n",
              "    <tr>\n",
              "      <th>4</th>\n",
              "      <td>Ethiopia</td>\n",
              "      <td>Other</td>\n",
              "      <td>Washed / Wet</td>\n",
              "      <td>8.25</td>\n",
              "      <td>8.50</td>\n",
              "      <td>8.25</td>\n",
              "      <td>8.50</td>\n",
              "      <td>8.42</td>\n",
              "      <td>8.33</td>\n",
              "      <td>10.0</td>\n",
              "      <td>10.0</td>\n",
              "      <td>10.0</td>\n",
              "      <td>8.58</td>\n",
              "      <td>0.12</td>\n",
              "      <td>0</td>\n",
              "      <td>0.0</td>\n",
              "      <td>Green</td>\n",
              "      <td>2</td>\n",
              "      <td>1950.0</td>\n",
              "      <td>2200.0</td>\n",
              "      <td>2075.0</td>\n",
              "    </tr>\n",
              "  </tbody>\n",
              "</table>\n",
              "</div>"
            ],
            "text/plain": [
              "  Country.of.Origin  Variety  ... altitude_high_meters  altitude_mean_meters\n",
              "0          Ethiopia    Other  ...               2200.0                2075.0\n",
              "1          Ethiopia    Other  ...               2200.0                2075.0\n",
              "2         Guatemala  Bourbon  ...               1800.0                1700.0\n",
              "3          Ethiopia    Other  ...               2200.0                2000.0\n",
              "4          Ethiopia    Other  ...               2200.0                2075.0\n",
              "\n",
              "[5 rows x 21 columns]"
            ]
          },
          "metadata": {},
          "execution_count": 25
        }
      ]
    },
    {
      "cell_type": "code",
      "metadata": {
        "colab": {
          "base_uri": "https://localhost:8080/"
        },
        "id": "qwIVKN0UMUko",
        "outputId": "b943eff7-02fa-4123-9bbc-8032c1563db8"
      },
      "source": [
        "label_encoder = LabelEncoder()\n",
        "country_list = arabica[\"Country.of.Origin\"]\n",
        "arabica[\"Country.of.Origin\"] = label_encoder.fit_transform(arabica[\"Country.of.Origin\"])\n",
        "print(arabica[\"Country.of.Origin\"])"
      ],
      "execution_count": 45,
      "outputs": [
        {
          "output_type": "stream",
          "name": "stdout",
          "text": [
            "0        8\n",
            "1        8\n",
            "2        9\n",
            "3        8\n",
            "4        8\n",
            "        ..\n",
            "1306    19\n",
            "1307    10\n",
            "1308    21\n",
            "1309     9\n",
            "1310    11\n",
            "Name: Country.of.Origin, Length: 1310, dtype: int64\n"
          ]
        }
      ]
    },
    {
      "cell_type": "code",
      "metadata": {
        "id": "na-fJ5GiMxdB"
      },
      "source": [
        "variety_list = arabica[\"Variety\"]\n",
        "arabica['Variety'] = label_encoder.fit_transform(arabica[\"Variety\"])\n",
        "Processing_Method_list = arabica['Processing.Method']\n",
        "arabica['Processing.Method'] = label_encoder.fit_transform(arabica['Processing.Method'])\n",
        "Color_list = arabica['Color']\n",
        "arabica['Color'] = label_encoder.fit_transform(arabica['Color'])"
      ],
      "execution_count": 46,
      "outputs": []
    },
    {
      "cell_type": "code",
      "metadata": {
        "colab": {
          "base_uri": "https://localhost:8080/",
          "height": 224
        },
        "id": "gceghMbvNfkK",
        "outputId": "4f100da9-8f85-48d3-9ef0-26212dfcfb32"
      },
      "source": [
        "arabica.head()"
      ],
      "execution_count": 28,
      "outputs": [
        {
          "output_type": "execute_result",
          "data": {
            "text/html": [
              "<div>\n",
              "<style scoped>\n",
              "    .dataframe tbody tr th:only-of-type {\n",
              "        vertical-align: middle;\n",
              "    }\n",
              "\n",
              "    .dataframe tbody tr th {\n",
              "        vertical-align: top;\n",
              "    }\n",
              "\n",
              "    .dataframe thead th {\n",
              "        text-align: right;\n",
              "    }\n",
              "</style>\n",
              "<table border=\"1\" class=\"dataframe\">\n",
              "  <thead>\n",
              "    <tr style=\"text-align: right;\">\n",
              "      <th></th>\n",
              "      <th>Country.of.Origin</th>\n",
              "      <th>Variety</th>\n",
              "      <th>Processing.Method</th>\n",
              "      <th>Aroma</th>\n",
              "      <th>Flavor</th>\n",
              "      <th>Aftertaste</th>\n",
              "      <th>Acidity</th>\n",
              "      <th>Body</th>\n",
              "      <th>Balance</th>\n",
              "      <th>Uniformity</th>\n",
              "      <th>Clean.Cup</th>\n",
              "      <th>Sweetness</th>\n",
              "      <th>Cupper.Points</th>\n",
              "      <th>Moisture</th>\n",
              "      <th>Category.One.Defects</th>\n",
              "      <th>Quakers</th>\n",
              "      <th>Color</th>\n",
              "      <th>Category.Two.Defects</th>\n",
              "      <th>altitude_low_meters</th>\n",
              "      <th>altitude_high_meters</th>\n",
              "      <th>altitude_mean_meters</th>\n",
              "    </tr>\n",
              "  </thead>\n",
              "  <tbody>\n",
              "    <tr>\n",
              "      <th>0</th>\n",
              "      <td>8</td>\n",
              "      <td>15</td>\n",
              "      <td>4</td>\n",
              "      <td>8.67</td>\n",
              "      <td>8.83</td>\n",
              "      <td>8.67</td>\n",
              "      <td>8.75</td>\n",
              "      <td>8.50</td>\n",
              "      <td>8.42</td>\n",
              "      <td>10.0</td>\n",
              "      <td>10.0</td>\n",
              "      <td>10.0</td>\n",
              "      <td>8.75</td>\n",
              "      <td>0.12</td>\n",
              "      <td>0</td>\n",
              "      <td>0.0</td>\n",
              "      <td>2</td>\n",
              "      <td>0</td>\n",
              "      <td>1950.0</td>\n",
              "      <td>2200.0</td>\n",
              "      <td>2075.0</td>\n",
              "    </tr>\n",
              "    <tr>\n",
              "      <th>1</th>\n",
              "      <td>8</td>\n",
              "      <td>15</td>\n",
              "      <td>4</td>\n",
              "      <td>8.75</td>\n",
              "      <td>8.67</td>\n",
              "      <td>8.50</td>\n",
              "      <td>8.58</td>\n",
              "      <td>8.42</td>\n",
              "      <td>8.42</td>\n",
              "      <td>10.0</td>\n",
              "      <td>10.0</td>\n",
              "      <td>10.0</td>\n",
              "      <td>8.58</td>\n",
              "      <td>0.12</td>\n",
              "      <td>0</td>\n",
              "      <td>0.0</td>\n",
              "      <td>2</td>\n",
              "      <td>1</td>\n",
              "      <td>1950.0</td>\n",
              "      <td>2200.0</td>\n",
              "      <td>2075.0</td>\n",
              "    </tr>\n",
              "    <tr>\n",
              "      <th>2</th>\n",
              "      <td>9</td>\n",
              "      <td>2</td>\n",
              "      <td>1</td>\n",
              "      <td>8.42</td>\n",
              "      <td>8.50</td>\n",
              "      <td>8.42</td>\n",
              "      <td>8.42</td>\n",
              "      <td>8.33</td>\n",
              "      <td>8.42</td>\n",
              "      <td>10.0</td>\n",
              "      <td>10.0</td>\n",
              "      <td>10.0</td>\n",
              "      <td>9.25</td>\n",
              "      <td>0.00</td>\n",
              "      <td>0</td>\n",
              "      <td>0.0</td>\n",
              "      <td>3</td>\n",
              "      <td>0</td>\n",
              "      <td>1600.0</td>\n",
              "      <td>1800.0</td>\n",
              "      <td>1700.0</td>\n",
              "    </tr>\n",
              "    <tr>\n",
              "      <th>3</th>\n",
              "      <td>8</td>\n",
              "      <td>15</td>\n",
              "      <td>0</td>\n",
              "      <td>8.17</td>\n",
              "      <td>8.58</td>\n",
              "      <td>8.42</td>\n",
              "      <td>8.42</td>\n",
              "      <td>8.50</td>\n",
              "      <td>8.25</td>\n",
              "      <td>10.0</td>\n",
              "      <td>10.0</td>\n",
              "      <td>10.0</td>\n",
              "      <td>8.67</td>\n",
              "      <td>0.11</td>\n",
              "      <td>0</td>\n",
              "      <td>0.0</td>\n",
              "      <td>2</td>\n",
              "      <td>2</td>\n",
              "      <td>1800.0</td>\n",
              "      <td>2200.0</td>\n",
              "      <td>2000.0</td>\n",
              "    </tr>\n",
              "    <tr>\n",
              "      <th>4</th>\n",
              "      <td>8</td>\n",
              "      <td>15</td>\n",
              "      <td>4</td>\n",
              "      <td>8.25</td>\n",
              "      <td>8.50</td>\n",
              "      <td>8.25</td>\n",
              "      <td>8.50</td>\n",
              "      <td>8.42</td>\n",
              "      <td>8.33</td>\n",
              "      <td>10.0</td>\n",
              "      <td>10.0</td>\n",
              "      <td>10.0</td>\n",
              "      <td>8.58</td>\n",
              "      <td>0.12</td>\n",
              "      <td>0</td>\n",
              "      <td>0.0</td>\n",
              "      <td>2</td>\n",
              "      <td>2</td>\n",
              "      <td>1950.0</td>\n",
              "      <td>2200.0</td>\n",
              "      <td>2075.0</td>\n",
              "    </tr>\n",
              "  </tbody>\n",
              "</table>\n",
              "</div>"
            ],
            "text/plain": [
              "   Country.of.Origin  Variety  ...  altitude_high_meters  altitude_mean_meters\n",
              "0                  8       15  ...                2200.0                2075.0\n",
              "1                  8       15  ...                2200.0                2075.0\n",
              "2                  9        2  ...                1800.0                1700.0\n",
              "3                  8       15  ...                2200.0                2000.0\n",
              "4                  8       15  ...                2200.0                2075.0\n",
              "\n",
              "[5 rows x 21 columns]"
            ]
          },
          "metadata": {},
          "execution_count": 28
        }
      ]
    },
    {
      "cell_type": "code",
      "metadata": {
        "id": "7_3vsl3xNmly"
      },
      "source": [
        "arabica_train_data = arabica.copy()"
      ],
      "execution_count": 48,
      "outputs": []
    },
    {
      "cell_type": "markdown",
      "metadata": {
        "id": "ZU4Nhp-tOkjt"
      },
      "source": [
        "## 2. Test Train Split"
      ]
    },
    {
      "cell_type": "code",
      "metadata": {
        "id": "yqxmlj2aO_Mp"
      },
      "source": [
        "x = arabica_train_data[['Country.of.Origin', 'Variety', 'Processing.Method', 'Moisture', 'Category.One.Defects', 'Quakers', 'Color', 'Category.Two.Defects', \n",
        "                       'altitude_low_meters', 'altitude_high_meters', 'altitude_mean_meters']]\n",
        "\n",
        "y = arabica_train_data[arabica_train_data.columns.difference(['Country.of.Origin', 'Variety', 'Processing.Method', 'Moisture', 'Category.One.Defects', 'Quakers', 'Color', 'Category.Two.Defects', \n",
        "                       'altitude_low_meters', 'altitude_high_meters', 'altitude_mean_meters'])]"
      ],
      "execution_count": 49,
      "outputs": []
    },
    {
      "cell_type": "code",
      "metadata": {
        "colab": {
          "base_uri": "https://localhost:8080/",
          "height": 204
        },
        "id": "_2v368ByQVlG",
        "outputId": "e8ceffcd-1d26-40c2-b9e9-96e63d0f4908"
      },
      "source": [
        "y.head()"
      ],
      "execution_count": null,
      "outputs": [
        {
          "output_type": "execute_result",
          "data": {
            "text/html": [
              "<div>\n",
              "<style scoped>\n",
              "    .dataframe tbody tr th:only-of-type {\n",
              "        vertical-align: middle;\n",
              "    }\n",
              "\n",
              "    .dataframe tbody tr th {\n",
              "        vertical-align: top;\n",
              "    }\n",
              "\n",
              "    .dataframe thead th {\n",
              "        text-align: right;\n",
              "    }\n",
              "</style>\n",
              "<table border=\"1\" class=\"dataframe\">\n",
              "  <thead>\n",
              "    <tr style=\"text-align: right;\">\n",
              "      <th></th>\n",
              "      <th>Acidity</th>\n",
              "      <th>Aftertaste</th>\n",
              "      <th>Aroma</th>\n",
              "      <th>Balance</th>\n",
              "      <th>Body</th>\n",
              "      <th>Clean.Cup</th>\n",
              "      <th>Cupper.Points</th>\n",
              "      <th>Flavor</th>\n",
              "      <th>Sweetness</th>\n",
              "      <th>Uniformity</th>\n",
              "    </tr>\n",
              "  </thead>\n",
              "  <tbody>\n",
              "    <tr>\n",
              "      <th>0</th>\n",
              "      <td>8.75</td>\n",
              "      <td>8.67</td>\n",
              "      <td>8.67</td>\n",
              "      <td>8.42</td>\n",
              "      <td>8.50</td>\n",
              "      <td>10.0</td>\n",
              "      <td>8.75</td>\n",
              "      <td>8.83</td>\n",
              "      <td>10.0</td>\n",
              "      <td>10.0</td>\n",
              "    </tr>\n",
              "    <tr>\n",
              "      <th>1</th>\n",
              "      <td>8.58</td>\n",
              "      <td>8.50</td>\n",
              "      <td>8.75</td>\n",
              "      <td>8.42</td>\n",
              "      <td>8.42</td>\n",
              "      <td>10.0</td>\n",
              "      <td>8.58</td>\n",
              "      <td>8.67</td>\n",
              "      <td>10.0</td>\n",
              "      <td>10.0</td>\n",
              "    </tr>\n",
              "    <tr>\n",
              "      <th>2</th>\n",
              "      <td>8.42</td>\n",
              "      <td>8.42</td>\n",
              "      <td>8.42</td>\n",
              "      <td>8.42</td>\n",
              "      <td>8.33</td>\n",
              "      <td>10.0</td>\n",
              "      <td>9.25</td>\n",
              "      <td>8.50</td>\n",
              "      <td>10.0</td>\n",
              "      <td>10.0</td>\n",
              "    </tr>\n",
              "    <tr>\n",
              "      <th>3</th>\n",
              "      <td>8.42</td>\n",
              "      <td>8.42</td>\n",
              "      <td>8.17</td>\n",
              "      <td>8.25</td>\n",
              "      <td>8.50</td>\n",
              "      <td>10.0</td>\n",
              "      <td>8.67</td>\n",
              "      <td>8.58</td>\n",
              "      <td>10.0</td>\n",
              "      <td>10.0</td>\n",
              "    </tr>\n",
              "    <tr>\n",
              "      <th>4</th>\n",
              "      <td>8.50</td>\n",
              "      <td>8.25</td>\n",
              "      <td>8.25</td>\n",
              "      <td>8.33</td>\n",
              "      <td>8.42</td>\n",
              "      <td>10.0</td>\n",
              "      <td>8.58</td>\n",
              "      <td>8.50</td>\n",
              "      <td>10.0</td>\n",
              "      <td>10.0</td>\n",
              "    </tr>\n",
              "  </tbody>\n",
              "</table>\n",
              "</div>"
            ],
            "text/plain": [
              "   Acidity  Aftertaste  Aroma  ...  Flavor  Sweetness  Uniformity\n",
              "0     8.75        8.67   8.67  ...    8.83       10.0        10.0\n",
              "1     8.58        8.50   8.75  ...    8.67       10.0        10.0\n",
              "2     8.42        8.42   8.42  ...    8.50       10.0        10.0\n",
              "3     8.42        8.42   8.17  ...    8.58       10.0        10.0\n",
              "4     8.50        8.25   8.25  ...    8.50       10.0        10.0\n",
              "\n",
              "[5 rows x 10 columns]"
            ]
          },
          "metadata": {},
          "execution_count": 31
        }
      ]
    },
    {
      "cell_type": "code",
      "metadata": {
        "id": "IfFdYQh9Oolk"
      },
      "source": [
        "X_train, X_test, y_train, y_test = train_test_split(x, y, test_size=0.30, random_state=42)"
      ],
      "execution_count": 55,
      "outputs": []
    },
    {
      "cell_type": "code",
      "metadata": {
        "id": "5MbUd3V5XuKC"
      },
      "source": [
        "X_train, X_val, y_train, y_val = train_test_split(x, y, test_size=0.10, random_state=32)"
      ],
      "execution_count": 53,
      "outputs": []
    },
    {
      "cell_type": "code",
      "metadata": {
        "colab": {
          "base_uri": "https://localhost:8080/"
        },
        "id": "1TZuw8JAQpbE",
        "outputId": "50701c52-f704-4773-8005-87baaa8b374e"
      },
      "source": [
        "print(X_train.shape)\n",
        "print(X_test.shape)\n",
        "print(y_train.shape)\n",
        "print(y_test.shape)\n",
        "X_train.shape[1]"
      ],
      "execution_count": 56,
      "outputs": [
        {
          "output_type": "stream",
          "name": "stdout",
          "text": [
            "(917, 11)\n",
            "(393, 11)\n",
            "(917, 10)\n",
            "(393, 10)\n"
          ]
        },
        {
          "output_type": "execute_result",
          "data": {
            "text/plain": [
              "11"
            ]
          },
          "metadata": {},
          "execution_count": 56
        }
      ]
    },
    {
      "cell_type": "markdown",
      "metadata": {
        "id": "giBX8iFqRJ5B"
      },
      "source": [
        "## 3. Neural Network \n",
        "\n",
        "11 neurons in layer 1 \n",
        "\n",
        "8 neurons in layer 2 \n",
        "\n",
        "and 10 neurons in layer 3"
      ]
    },
    {
      "cell_type": "code",
      "metadata": {
        "colab": {
          "base_uri": "https://localhost:8080/"
        },
        "id": "_TUIEuA9Qqso",
        "outputId": "65fbcaff-854f-42d6-9d52-619766af8ac8"
      },
      "source": [
        "model = Sequential()\n",
        "\n",
        "model.add(Dense(11, input_dim = X_train.shape[1], activation = 'relu'))\n",
        "model.add(Dense(6, activation='relu'))\n",
        "model.add(Dense(6, activation='relu'))\n",
        "model.add(Dense(10))\n",
        "print(model.summary())"
      ],
      "execution_count": 57,
      "outputs": [
        {
          "output_type": "stream",
          "name": "stdout",
          "text": [
            "Model: \"sequential\"\n",
            "_________________________________________________________________\n",
            "Layer (type)                 Output Shape              Param #   \n",
            "=================================================================\n",
            "dense (Dense)                (None, 11)                132       \n",
            "_________________________________________________________________\n",
            "dense_1 (Dense)              (None, 6)                 72        \n",
            "_________________________________________________________________\n",
            "dense_2 (Dense)              (None, 6)                 42        \n",
            "_________________________________________________________________\n",
            "dense_3 (Dense)              (None, 10)                70        \n",
            "=================================================================\n",
            "Total params: 316\n",
            "Trainable params: 316\n",
            "Non-trainable params: 0\n",
            "_________________________________________________________________\n",
            "None\n"
          ]
        }
      ]
    },
    {
      "cell_type": "code",
      "metadata": {
        "id": "Kbu3YSEZR3hc",
        "colab": {
          "base_uri": "https://localhost:8080/"
        },
        "outputId": "a105fca8-6653-4eb9-951e-d4a86b8fb4bd"
      },
      "source": [
        "model.compile(loss='MeanSquaredError', optimizer= Adam(lr=0.01), metrics=['MSE'])"
      ],
      "execution_count": 58,
      "outputs": [
        {
          "output_type": "stream",
          "name": "stderr",
          "text": [
            "/usr/local/lib/python3.7/dist-packages/keras/optimizer_v2/optimizer_v2.py:356: UserWarning: The `lr` argument is deprecated, use `learning_rate` instead.\n",
            "  \"The `lr` argument is deprecated, use `learning_rate` instead.\")\n"
          ]
        }
      ]
    },
    {
      "cell_type": "code",
      "metadata": {
        "id": "QeVVXqtaTVY0"
      },
      "source": [
        "callback_a = ModelCheckpoint(filepath='my_best_model.hdf5', monitor='val_loss', save_best_only=True, save_weights_only=True)\n",
        "callback_b = EarlyStopping(monitor='val_loss', mode='min', patience=20, verbose=10)"
      ],
      "execution_count": 59,
      "outputs": []
    },
    {
      "cell_type": "code",
      "metadata": {
        "colab": {
          "base_uri": "https://localhost:8080/"
        },
        "id": "7cPCU1sR2DDO",
        "outputId": "effcf77a-e097-4dae-bb74-4c057e33940d"
      },
      "source": [
        "history2 = model.fit(X_train, y_train, validation_data=(X_test, y_test), epochs=50, batch_size=10, callbacks=[callback_a, callback_b])"
      ],
      "execution_count": 60,
      "outputs": [
        {
          "output_type": "stream",
          "name": "stdout",
          "text": [
            "Epoch 1/50\n",
            "92/92 [==============================] - 1s 4ms/step - loss: 73197.3125 - MSE: 73197.3125 - val_loss: 801.1817 - val_MSE: 801.1817\n",
            "Epoch 2/50\n",
            "92/92 [==============================] - 0s 2ms/step - loss: 4008.8184 - MSE: 4008.8184 - val_loss: 160.7743 - val_MSE: 160.7743\n",
            "Epoch 3/50\n",
            "92/92 [==============================] - 0s 2ms/step - loss: 2044.9722 - MSE: 2044.9722 - val_loss: 68.3673 - val_MSE: 68.3673\n",
            "Epoch 4/50\n",
            "92/92 [==============================] - 0s 2ms/step - loss: 119.6491 - MSE: 119.6491 - val_loss: 64.9806 - val_MSE: 64.9806\n",
            "Epoch 5/50\n",
            "92/92 [==============================] - 0s 2ms/step - loss: 70.8454 - MSE: 70.8454 - val_loss: 60.9972 - val_MSE: 60.9972\n",
            "Epoch 6/50\n",
            "92/92 [==============================] - 0s 2ms/step - loss: 60.4727 - MSE: 60.4727 - val_loss: 56.9603 - val_MSE: 56.9603\n",
            "Epoch 7/50\n",
            "92/92 [==============================] - 0s 2ms/step - loss: 55.6730 - MSE: 55.6730 - val_loss: 52.9510 - val_MSE: 52.9510\n",
            "Epoch 8/50\n",
            "92/92 [==============================] - 0s 2ms/step - loss: 51.4930 - MSE: 51.4930 - val_loss: 48.8959 - val_MSE: 48.8959\n",
            "Epoch 9/50\n",
            "92/92 [==============================] - 0s 2ms/step - loss: 47.3888 - MSE: 47.3888 - val_loss: 44.9504 - val_MSE: 44.9504\n",
            "Epoch 10/50\n",
            "92/92 [==============================] - 0s 3ms/step - loss: 43.3915 - MSE: 43.3915 - val_loss: 41.1110 - val_MSE: 41.1110\n",
            "Epoch 11/50\n",
            "92/92 [==============================] - 0s 2ms/step - loss: 39.5078 - MSE: 39.5078 - val_loss: 36.4741 - val_MSE: 36.4741\n",
            "Epoch 12/50\n",
            "92/92 [==============================] - 0s 2ms/step - loss: 33.7008 - MSE: 33.7008 - val_loss: 30.5031 - val_MSE: 30.5031\n",
            "Epoch 13/50\n",
            "92/92 [==============================] - 0s 2ms/step - loss: 28.7691 - MSE: 28.7691 - val_loss: 25.9437 - val_MSE: 25.9437\n",
            "Epoch 14/50\n",
            "92/92 [==============================] - 0s 2ms/step - loss: 24.3830 - MSE: 24.3830 - val_loss: 21.8384 - val_MSE: 21.8384\n",
            "Epoch 15/50\n",
            "92/92 [==============================] - 0s 2ms/step - loss: 20.4813 - MSE: 20.4813 - val_loss: 18.3630 - val_MSE: 18.3630\n",
            "Epoch 16/50\n",
            "92/92 [==============================] - 0s 2ms/step - loss: 17.0781 - MSE: 17.0781 - val_loss: 15.1595 - val_MSE: 15.1595\n",
            "Epoch 17/50\n",
            "92/92 [==============================] - 0s 2ms/step - loss: 14.2402 - MSE: 14.2402 - val_loss: 12.6052 - val_MSE: 12.6052\n",
            "Epoch 18/50\n",
            "92/92 [==============================] - 0s 2ms/step - loss: 12.0290 - MSE: 12.0290 - val_loss: 10.8243 - val_MSE: 10.8243\n",
            "Epoch 19/50\n",
            "92/92 [==============================] - 0s 3ms/step - loss: 10.4003 - MSE: 10.4003 - val_loss: 9.3175 - val_MSE: 9.3175\n",
            "Epoch 20/50\n",
            "92/92 [==============================] - 0s 2ms/step - loss: 9.2268 - MSE: 9.2268 - val_loss: 8.4715 - val_MSE: 8.4715\n",
            "Epoch 21/50\n",
            "92/92 [==============================] - 0s 2ms/step - loss: 8.3312 - MSE: 8.3312 - val_loss: 7.6805 - val_MSE: 7.6805\n",
            "Epoch 22/50\n",
            "92/92 [==============================] - 0s 2ms/step - loss: 7.7001 - MSE: 7.7001 - val_loss: 7.4011 - val_MSE: 7.4011\n",
            "Epoch 23/50\n",
            "92/92 [==============================] - 0s 2ms/step - loss: 7.2744 - MSE: 7.2744 - val_loss: 6.8442 - val_MSE: 6.8442\n",
            "Epoch 24/50\n",
            "92/92 [==============================] - 0s 3ms/step - loss: 6.9368 - MSE: 6.9368 - val_loss: 6.5179 - val_MSE: 6.5179\n",
            "Epoch 25/50\n",
            "92/92 [==============================] - 0s 3ms/step - loss: 6.7018 - MSE: 6.7018 - val_loss: 6.3373 - val_MSE: 6.3373\n",
            "Epoch 26/50\n",
            "92/92 [==============================] - 0s 3ms/step - loss: 6.4420 - MSE: 6.4420 - val_loss: 6.0837 - val_MSE: 6.0837\n",
            "Epoch 27/50\n",
            "92/92 [==============================] - 0s 2ms/step - loss: 6.2580 - MSE: 6.2580 - val_loss: 6.0087 - val_MSE: 6.0087\n",
            "Epoch 28/50\n",
            "92/92 [==============================] - 0s 3ms/step - loss: 6.0358 - MSE: 6.0358 - val_loss: 5.7919 - val_MSE: 5.7919\n",
            "Epoch 29/50\n",
            "92/92 [==============================] - 0s 2ms/step - loss: 5.9272 - MSE: 5.9272 - val_loss: 5.8807 - val_MSE: 5.8807\n",
            "Epoch 30/50\n",
            "92/92 [==============================] - 0s 3ms/step - loss: 5.7525 - MSE: 5.7525 - val_loss: 5.5266 - val_MSE: 5.5266\n",
            "Epoch 31/50\n",
            "92/92 [==============================] - 0s 2ms/step - loss: 5.5624 - MSE: 5.5624 - val_loss: 5.2838 - val_MSE: 5.2838\n",
            "Epoch 32/50\n",
            "92/92 [==============================] - 0s 3ms/step - loss: 5.3883 - MSE: 5.3883 - val_loss: 5.0936 - val_MSE: 5.0936\n",
            "Epoch 33/50\n",
            "92/92 [==============================] - 0s 2ms/step - loss: 5.1404 - MSE: 5.1404 - val_loss: 5.0565 - val_MSE: 5.0565\n",
            "Epoch 34/50\n",
            "92/92 [==============================] - 0s 2ms/step - loss: 4.9708 - MSE: 4.9708 - val_loss: 4.7037 - val_MSE: 4.7037\n",
            "Epoch 35/50\n",
            "92/92 [==============================] - 0s 2ms/step - loss: 4.8022 - MSE: 4.8022 - val_loss: 4.4360 - val_MSE: 4.4360\n",
            "Epoch 36/50\n",
            "92/92 [==============================] - 0s 2ms/step - loss: 4.4397 - MSE: 4.4397 - val_loss: 4.0959 - val_MSE: 4.0959\n",
            "Epoch 37/50\n",
            "92/92 [==============================] - 0s 2ms/step - loss: 4.1541 - MSE: 4.1541 - val_loss: 3.9378 - val_MSE: 3.9378\n",
            "Epoch 38/50\n",
            "92/92 [==============================] - 0s 2ms/step - loss: 3.9628 - MSE: 3.9628 - val_loss: 3.5864 - val_MSE: 3.5864\n",
            "Epoch 39/50\n",
            "92/92 [==============================] - 0s 2ms/step - loss: 3.6590 - MSE: 3.6590 - val_loss: 3.6167 - val_MSE: 3.6167\n",
            "Epoch 40/50\n",
            "92/92 [==============================] - 0s 2ms/step - loss: 3.5816 - MSE: 3.5816 - val_loss: 3.3129 - val_MSE: 3.3129\n",
            "Epoch 41/50\n",
            "92/92 [==============================] - 0s 2ms/step - loss: 3.3554 - MSE: 3.3554 - val_loss: 3.1734 - val_MSE: 3.1734\n",
            "Epoch 42/50\n",
            "92/92 [==============================] - 0s 2ms/step - loss: 3.0129 - MSE: 3.0129 - val_loss: 2.8358 - val_MSE: 2.8358\n",
            "Epoch 43/50\n",
            "92/92 [==============================] - 0s 2ms/step - loss: 2.7692 - MSE: 2.7692 - val_loss: 2.6282 - val_MSE: 2.6282\n",
            "Epoch 44/50\n",
            "92/92 [==============================] - 0s 3ms/step - loss: 2.5836 - MSE: 2.5836 - val_loss: 2.6391 - val_MSE: 2.6391\n",
            "Epoch 45/50\n",
            "92/92 [==============================] - 0s 2ms/step - loss: 2.4915 - MSE: 2.4915 - val_loss: 2.3594 - val_MSE: 2.3594\n",
            "Epoch 46/50\n",
            "92/92 [==============================] - 0s 2ms/step - loss: 2.4391 - MSE: 2.4391 - val_loss: 2.4609 - val_MSE: 2.4609\n",
            "Epoch 47/50\n",
            "92/92 [==============================] - 0s 2ms/step - loss: 2.3634 - MSE: 2.3634 - val_loss: 2.0808 - val_MSE: 2.0808\n",
            "Epoch 48/50\n",
            "92/92 [==============================] - 0s 3ms/step - loss: 2.1255 - MSE: 2.1255 - val_loss: 2.0798 - val_MSE: 2.0798\n",
            "Epoch 49/50\n",
            "92/92 [==============================] - 0s 2ms/step - loss: 2.1249 - MSE: 2.1249 - val_loss: 2.5010 - val_MSE: 2.5010\n",
            "Epoch 50/50\n",
            "92/92 [==============================] - 0s 2ms/step - loss: 2.0291 - MSE: 2.0291 - val_loss: 1.7816 - val_MSE: 1.7816\n"
          ]
        }
      ]
    },
    {
      "cell_type": "code",
      "metadata": {
        "colab": {
          "base_uri": "https://localhost:8080/"
        },
        "id": "_mEu61IgUWBq",
        "outputId": "e9d1d4f4-cce8-49d6-8fb7-3dc34fbf2ed7"
      },
      "source": [
        "history = model.fit(X_train, y_train, validation_data=(X_test, y_test), epochs=256, batch_size=10, callbacks=[callback_a, callback_b])"
      ],
      "execution_count": null,
      "outputs": [
        {
          "output_type": "stream",
          "name": "stdout",
          "text": [
            "Epoch 1/256\n",
            "92/92 [==============================] - 1s 4ms/step - loss: 1910.4908 - MSE: 1910.4908 - val_loss: 567.8591 - val_MSE: 567.8591\n",
            "Epoch 2/256\n",
            "92/92 [==============================] - 0s 3ms/step - loss: 352.0306 - MSE: 352.0306 - val_loss: 175.5186 - val_MSE: 175.5186\n",
            "Epoch 3/256\n",
            "92/92 [==============================] - 0s 2ms/step - loss: 138.7601 - MSE: 138.7601 - val_loss: 95.7975 - val_MSE: 95.7975\n",
            "Epoch 4/256\n",
            "92/92 [==============================] - 0s 2ms/step - loss: 86.7148 - MSE: 86.7148 - val_loss: 72.6235 - val_MSE: 72.6235\n",
            "Epoch 5/256\n",
            "92/92 [==============================] - 0s 2ms/step - loss: 69.5594 - MSE: 69.5594 - val_loss: 63.0470 - val_MSE: 63.0470\n",
            "Epoch 6/256\n",
            "92/92 [==============================] - 0s 3ms/step - loss: 62.0386 - MSE: 62.0386 - val_loss: 58.4014 - val_MSE: 58.4014\n",
            "Epoch 7/256\n",
            "92/92 [==============================] - 0s 2ms/step - loss: 57.9904 - MSE: 57.9904 - val_loss: 55.6014 - val_MSE: 55.6014\n",
            "Epoch 8/256\n",
            "92/92 [==============================] - 0s 2ms/step - loss: 55.0717 - MSE: 55.0717 - val_loss: 52.4957 - val_MSE: 52.4957\n",
            "Epoch 9/256\n",
            "92/92 [==============================] - 0s 2ms/step - loss: 46.2788 - MSE: 46.2788 - val_loss: 43.5369 - val_MSE: 43.5369\n",
            "Epoch 10/256\n",
            "92/92 [==============================] - 0s 2ms/step - loss: 43.6245 - MSE: 43.6245 - val_loss: 42.2357 - val_MSE: 42.2357\n",
            "Epoch 11/256\n",
            "92/92 [==============================] - 0s 2ms/step - loss: 42.3147 - MSE: 42.3147 - val_loss: 40.9331 - val_MSE: 40.9331\n",
            "Epoch 12/256\n",
            "92/92 [==============================] - 0s 2ms/step - loss: 40.8538 - MSE: 40.8538 - val_loss: 39.3740 - val_MSE: 39.3740\n",
            "Epoch 13/256\n",
            "92/92 [==============================] - 0s 2ms/step - loss: 39.6210 - MSE: 39.6210 - val_loss: 38.7606 - val_MSE: 38.7606\n",
            "Epoch 14/256\n",
            "92/92 [==============================] - 0s 2ms/step - loss: 38.9667 - MSE: 38.9667 - val_loss: 36.4754 - val_MSE: 36.4754\n",
            "Epoch 15/256\n",
            "92/92 [==============================] - 0s 2ms/step - loss: 34.0711 - MSE: 34.0711 - val_loss: 33.0257 - val_MSE: 33.0257\n",
            "Epoch 16/256\n",
            "92/92 [==============================] - 0s 2ms/step - loss: 33.4226 - MSE: 33.4226 - val_loss: 32.6951 - val_MSE: 32.6951\n",
            "Epoch 17/256\n",
            "92/92 [==============================] - 0s 2ms/step - loss: 33.1605 - MSE: 33.1605 - val_loss: 32.4740 - val_MSE: 32.4740\n",
            "Epoch 18/256\n",
            "92/92 [==============================] - 0s 2ms/step - loss: 32.9681 - MSE: 32.9681 - val_loss: 32.3231 - val_MSE: 32.3231\n",
            "Epoch 19/256\n",
            "92/92 [==============================] - 0s 2ms/step - loss: 32.7981 - MSE: 32.7981 - val_loss: 32.2189 - val_MSE: 32.2189\n",
            "Epoch 20/256\n",
            "92/92 [==============================] - 0s 2ms/step - loss: 32.6886 - MSE: 32.6886 - val_loss: 32.0666 - val_MSE: 32.0666\n",
            "Epoch 21/256\n",
            "92/92 [==============================] - 0s 2ms/step - loss: 32.5924 - MSE: 32.5924 - val_loss: 32.0590 - val_MSE: 32.0590\n",
            "Epoch 22/256\n",
            "92/92 [==============================] - 0s 2ms/step - loss: 32.5051 - MSE: 32.5051 - val_loss: 31.9173 - val_MSE: 31.9173\n",
            "Epoch 23/256\n",
            "92/92 [==============================] - 0s 2ms/step - loss: 32.4122 - MSE: 32.4122 - val_loss: 31.8085 - val_MSE: 31.8085\n",
            "Epoch 24/256\n",
            "92/92 [==============================] - 0s 2ms/step - loss: 32.3716 - MSE: 32.3716 - val_loss: 31.7565 - val_MSE: 31.7565\n",
            "Epoch 25/256\n",
            "92/92 [==============================] - 0s 2ms/step - loss: 32.2829 - MSE: 32.2829 - val_loss: 31.7397 - val_MSE: 31.7397\n",
            "Epoch 26/256\n",
            "92/92 [==============================] - 0s 2ms/step - loss: 32.2671 - MSE: 32.2671 - val_loss: 31.6461 - val_MSE: 31.6461\n",
            "Epoch 27/256\n",
            "92/92 [==============================] - 0s 2ms/step - loss: 32.1712 - MSE: 32.1712 - val_loss: 31.5833 - val_MSE: 31.5833\n",
            "Epoch 28/256\n",
            "92/92 [==============================] - 0s 2ms/step - loss: 32.1040 - MSE: 32.1040 - val_loss: 31.6043 - val_MSE: 31.6043\n",
            "Epoch 29/256\n",
            "92/92 [==============================] - 0s 2ms/step - loss: 31.9695 - MSE: 31.9695 - val_loss: 31.4914 - val_MSE: 31.4914\n",
            "Epoch 30/256\n",
            "92/92 [==============================] - 0s 2ms/step - loss: 31.8843 - MSE: 31.8843 - val_loss: 31.1392 - val_MSE: 31.1392\n",
            "Epoch 31/256\n",
            "92/92 [==============================] - 0s 2ms/step - loss: 30.0054 - MSE: 30.0054 - val_loss: 26.7458 - val_MSE: 26.7458\n",
            "Epoch 32/256\n",
            "92/92 [==============================] - 0s 2ms/step - loss: 27.1537 - MSE: 27.1537 - val_loss: 26.6178 - val_MSE: 26.6178\n",
            "Epoch 33/256\n",
            "92/92 [==============================] - 0s 2ms/step - loss: 27.0321 - MSE: 27.0321 - val_loss: 26.4397 - val_MSE: 26.4397\n",
            "Epoch 34/256\n",
            "92/92 [==============================] - 0s 2ms/step - loss: 26.2197 - MSE: 26.2197 - val_loss: 23.7223 - val_MSE: 23.7223\n",
            "Epoch 35/256\n",
            "92/92 [==============================] - 0s 2ms/step - loss: 21.1790 - MSE: 21.1790 - val_loss: 19.1502 - val_MSE: 19.1502\n",
            "Epoch 36/256\n",
            "92/92 [==============================] - 0s 2ms/step - loss: 17.6341 - MSE: 17.6341 - val_loss: 15.5435 - val_MSE: 15.5435\n",
            "Epoch 37/256\n",
            "92/92 [==============================] - 0s 2ms/step - loss: 14.8060 - MSE: 14.8060 - val_loss: 13.4687 - val_MSE: 13.4687\n",
            "Epoch 38/256\n",
            "92/92 [==============================] - 0s 2ms/step - loss: 11.6439 - MSE: 11.6439 - val_loss: 9.7011 - val_MSE: 9.7011\n",
            "Epoch 39/256\n",
            "92/92 [==============================] - 0s 2ms/step - loss: 9.7285 - MSE: 9.7285 - val_loss: 8.8932 - val_MSE: 8.8932\n",
            "Epoch 40/256\n",
            "92/92 [==============================] - 0s 2ms/step - loss: 8.8849 - MSE: 8.8849 - val_loss: 8.3777 - val_MSE: 8.3777\n",
            "Epoch 41/256\n",
            "92/92 [==============================] - 0s 2ms/step - loss: 8.3403 - MSE: 8.3403 - val_loss: 8.8878 - val_MSE: 8.8878\n",
            "Epoch 42/256\n",
            "92/92 [==============================] - 0s 2ms/step - loss: 8.0074 - MSE: 8.0074 - val_loss: 7.3959 - val_MSE: 7.3959\n",
            "Epoch 43/256\n",
            "92/92 [==============================] - 0s 2ms/step - loss: 7.4434 - MSE: 7.4434 - val_loss: 6.6906 - val_MSE: 6.6906\n",
            "Epoch 44/256\n",
            "92/92 [==============================] - 0s 2ms/step - loss: 6.5550 - MSE: 6.5550 - val_loss: 8.0678 - val_MSE: 8.0678\n",
            "Epoch 45/256\n",
            "92/92 [==============================] - 0s 3ms/step - loss: 6.4431 - MSE: 6.4431 - val_loss: 5.9237 - val_MSE: 5.9237\n",
            "Epoch 46/256\n",
            "92/92 [==============================] - 0s 2ms/step - loss: 5.6168 - MSE: 5.6168 - val_loss: 5.2077 - val_MSE: 5.2077\n",
            "Epoch 47/256\n",
            "92/92 [==============================] - 0s 2ms/step - loss: 5.2348 - MSE: 5.2348 - val_loss: 4.8139 - val_MSE: 4.8139\n",
            "Epoch 48/256\n",
            "92/92 [==============================] - 0s 2ms/step - loss: 4.9169 - MSE: 4.9169 - val_loss: 4.5704 - val_MSE: 4.5704\n",
            "Epoch 49/256\n",
            "92/92 [==============================] - 0s 2ms/step - loss: 4.8180 - MSE: 4.8180 - val_loss: 4.4286 - val_MSE: 4.4286\n",
            "Epoch 50/256\n",
            "92/92 [==============================] - 0s 2ms/step - loss: 4.6775 - MSE: 4.6775 - val_loss: 4.4376 - val_MSE: 4.4376\n",
            "Epoch 51/256\n",
            "92/92 [==============================] - 0s 2ms/step - loss: 4.4376 - MSE: 4.4376 - val_loss: 4.2263 - val_MSE: 4.2263\n",
            "Epoch 52/256\n",
            "92/92 [==============================] - 0s 2ms/step - loss: 4.4685 - MSE: 4.4685 - val_loss: 4.1448 - val_MSE: 4.1448\n",
            "Epoch 53/256\n",
            "92/92 [==============================] - 0s 2ms/step - loss: 4.2784 - MSE: 4.2784 - val_loss: 4.2297 - val_MSE: 4.2297\n",
            "Epoch 54/256\n",
            "92/92 [==============================] - 0s 2ms/step - loss: 4.2418 - MSE: 4.2418 - val_loss: 4.0113 - val_MSE: 4.0113\n",
            "Epoch 55/256\n",
            "92/92 [==============================] - 0s 2ms/step - loss: 4.1373 - MSE: 4.1373 - val_loss: 3.9639 - val_MSE: 3.9639\n",
            "Epoch 56/256\n",
            "92/92 [==============================] - 0s 2ms/step - loss: 4.1214 - MSE: 4.1214 - val_loss: 3.9517 - val_MSE: 3.9517\n",
            "Epoch 57/256\n",
            "92/92 [==============================] - 0s 2ms/step - loss: 4.0948 - MSE: 4.0948 - val_loss: 3.8711 - val_MSE: 3.8711\n",
            "Epoch 58/256\n",
            "92/92 [==============================] - 0s 2ms/step - loss: 4.0043 - MSE: 4.0043 - val_loss: 3.8383 - val_MSE: 3.8383\n",
            "Epoch 59/256\n",
            "92/92 [==============================] - 0s 2ms/step - loss: 4.0156 - MSE: 4.0156 - val_loss: 4.0798 - val_MSE: 4.0798\n",
            "Epoch 60/256\n",
            "92/92 [==============================] - 0s 2ms/step - loss: 3.9008 - MSE: 3.9008 - val_loss: 3.7959 - val_MSE: 3.7959\n",
            "Epoch 61/256\n",
            "92/92 [==============================] - 0s 2ms/step - loss: 3.9405 - MSE: 3.9405 - val_loss: 3.6859 - val_MSE: 3.6859\n",
            "Epoch 62/256\n",
            "92/92 [==============================] - 0s 2ms/step - loss: 3.8539 - MSE: 3.8539 - val_loss: 3.6699 - val_MSE: 3.6699\n",
            "Epoch 63/256\n",
            "92/92 [==============================] - 0s 2ms/step - loss: 3.8942 - MSE: 3.8942 - val_loss: 3.6334 - val_MSE: 3.6334\n",
            "Epoch 64/256\n",
            "92/92 [==============================] - 0s 2ms/step - loss: 3.7806 - MSE: 3.7806 - val_loss: 4.0523 - val_MSE: 4.0523\n",
            "Epoch 65/256\n",
            "92/92 [==============================] - 0s 2ms/step - loss: 3.7319 - MSE: 3.7319 - val_loss: 3.5878 - val_MSE: 3.5878\n",
            "Epoch 66/256\n",
            "92/92 [==============================] - 0s 2ms/step - loss: 3.6568 - MSE: 3.6568 - val_loss: 3.6633 - val_MSE: 3.6633\n",
            "Epoch 67/256\n",
            "92/92 [==============================] - 0s 2ms/step - loss: 3.7170 - MSE: 3.7170 - val_loss: 3.4957 - val_MSE: 3.4957\n",
            "Epoch 68/256\n",
            "92/92 [==============================] - 0s 2ms/step - loss: 3.5837 - MSE: 3.5837 - val_loss: 3.4522 - val_MSE: 3.4522\n",
            "Epoch 69/256\n",
            "92/92 [==============================] - 0s 2ms/step - loss: 3.5817 - MSE: 3.5817 - val_loss: 3.4341 - val_MSE: 3.4341\n",
            "Epoch 70/256\n",
            "92/92 [==============================] - 0s 2ms/step - loss: 3.5410 - MSE: 3.5410 - val_loss: 3.4009 - val_MSE: 3.4009\n",
            "Epoch 71/256\n",
            "92/92 [==============================] - 0s 2ms/step - loss: 3.4671 - MSE: 3.4671 - val_loss: 3.4642 - val_MSE: 3.4642\n",
            "Epoch 72/256\n",
            "92/92 [==============================] - 0s 2ms/step - loss: 3.4610 - MSE: 3.4610 - val_loss: 3.4608 - val_MSE: 3.4608\n",
            "Epoch 73/256\n",
            "92/92 [==============================] - 0s 2ms/step - loss: 3.4630 - MSE: 3.4630 - val_loss: 3.3236 - val_MSE: 3.3236\n",
            "Epoch 74/256\n",
            "92/92 [==============================] - 0s 2ms/step - loss: 3.3723 - MSE: 3.3723 - val_loss: 3.3418 - val_MSE: 3.3418\n",
            "Epoch 75/256\n",
            "92/92 [==============================] - 0s 2ms/step - loss: 3.3319 - MSE: 3.3319 - val_loss: 3.2477 - val_MSE: 3.2477\n",
            "Epoch 76/256\n",
            "92/92 [==============================] - 0s 2ms/step - loss: 3.4156 - MSE: 3.4156 - val_loss: 3.2926 - val_MSE: 3.2926\n",
            "Epoch 77/256\n",
            "92/92 [==============================] - 0s 2ms/step - loss: 3.3645 - MSE: 3.3645 - val_loss: 3.2956 - val_MSE: 3.2956\n",
            "Epoch 78/256\n",
            "92/92 [==============================] - 0s 2ms/step - loss: 3.2604 - MSE: 3.2604 - val_loss: 3.2513 - val_MSE: 3.2513\n",
            "Epoch 79/256\n",
            "92/92 [==============================] - 0s 2ms/step - loss: 3.2197 - MSE: 3.2197 - val_loss: 3.3934 - val_MSE: 3.3934\n",
            "Epoch 80/256\n",
            "92/92 [==============================] - 0s 2ms/step - loss: 3.2732 - MSE: 3.2732 - val_loss: 3.1513 - val_MSE: 3.1513\n",
            "Epoch 81/256\n",
            "92/92 [==============================] - 0s 2ms/step - loss: 2.8882 - MSE: 2.8882 - val_loss: 2.1523 - val_MSE: 2.1523\n",
            "Epoch 82/256\n",
            "92/92 [==============================] - 0s 3ms/step - loss: 1.9437 - MSE: 1.9437 - val_loss: 1.8397 - val_MSE: 1.8397\n",
            "Epoch 83/256\n",
            "92/92 [==============================] - 0s 2ms/step - loss: 1.9190 - MSE: 1.9190 - val_loss: 1.6452 - val_MSE: 1.6452\n",
            "Epoch 84/256\n",
            "92/92 [==============================] - 0s 2ms/step - loss: 1.7828 - MSE: 1.7828 - val_loss: 1.6034 - val_MSE: 1.6034\n",
            "Epoch 85/256\n",
            "92/92 [==============================] - 0s 2ms/step - loss: 1.7157 - MSE: 1.7157 - val_loss: 1.5801 - val_MSE: 1.5801\n",
            "Epoch 86/256\n",
            "92/92 [==============================] - 0s 2ms/step - loss: 1.6846 - MSE: 1.6846 - val_loss: 1.5141 - val_MSE: 1.5141\n",
            "Epoch 87/256\n",
            "92/92 [==============================] - 0s 3ms/step - loss: 1.6539 - MSE: 1.6539 - val_loss: 1.5098 - val_MSE: 1.5098\n",
            "Epoch 88/256\n",
            "92/92 [==============================] - 0s 2ms/step - loss: 1.5790 - MSE: 1.5790 - val_loss: 1.4790 - val_MSE: 1.4790\n",
            "Epoch 89/256\n",
            "92/92 [==============================] - 0s 2ms/step - loss: 1.5437 - MSE: 1.5437 - val_loss: 1.4451 - val_MSE: 1.4451\n",
            "Epoch 90/256\n",
            "92/92 [==============================] - 0s 2ms/step - loss: 1.5499 - MSE: 1.5499 - val_loss: 1.4081 - val_MSE: 1.4081\n",
            "Epoch 91/256\n",
            "92/92 [==============================] - 0s 2ms/step - loss: 1.4985 - MSE: 1.4985 - val_loss: 1.3795 - val_MSE: 1.3795\n",
            "Epoch 92/256\n",
            "92/92 [==============================] - 0s 2ms/step - loss: 1.5470 - MSE: 1.5470 - val_loss: 1.3242 - val_MSE: 1.3242\n",
            "Epoch 93/256\n",
            "92/92 [==============================] - 0s 3ms/step - loss: 1.5040 - MSE: 1.5040 - val_loss: 1.3379 - val_MSE: 1.3379\n",
            "Epoch 94/256\n",
            "92/92 [==============================] - 0s 2ms/step - loss: 1.4068 - MSE: 1.4068 - val_loss: 1.3199 - val_MSE: 1.3199\n",
            "Epoch 95/256\n",
            "92/92 [==============================] - 0s 2ms/step - loss: 1.4280 - MSE: 1.4280 - val_loss: 1.4761 - val_MSE: 1.4761\n",
            "Epoch 96/256\n",
            "92/92 [==============================] - 0s 2ms/step - loss: 1.4069 - MSE: 1.4069 - val_loss: 1.2445 - val_MSE: 1.2445\n",
            "Epoch 97/256\n",
            "92/92 [==============================] - 0s 2ms/step - loss: 1.4523 - MSE: 1.4523 - val_loss: 1.2294 - val_MSE: 1.2294\n",
            "Epoch 98/256\n",
            "92/92 [==============================] - 0s 2ms/step - loss: 1.4375 - MSE: 1.4375 - val_loss: 1.2304 - val_MSE: 1.2304\n",
            "Epoch 99/256\n",
            "92/92 [==============================] - 0s 2ms/step - loss: 1.5705 - MSE: 1.5705 - val_loss: 1.1841 - val_MSE: 1.1841\n",
            "Epoch 100/256\n",
            "92/92 [==============================] - 0s 2ms/step - loss: 1.3207 - MSE: 1.3207 - val_loss: 1.1470 - val_MSE: 1.1470\n",
            "Epoch 101/256\n",
            "92/92 [==============================] - 0s 3ms/step - loss: 1.2683 - MSE: 1.2683 - val_loss: 1.1106 - val_MSE: 1.1106\n",
            "Epoch 102/256\n",
            "92/92 [==============================] - 0s 2ms/step - loss: 1.2155 - MSE: 1.2155 - val_loss: 1.0649 - val_MSE: 1.0649\n",
            "Epoch 103/256\n",
            "92/92 [==============================] - 0s 2ms/step - loss: 1.1575 - MSE: 1.1575 - val_loss: 1.2842 - val_MSE: 1.2842\n",
            "Epoch 104/256\n",
            "92/92 [==============================] - 0s 2ms/step - loss: 1.1626 - MSE: 1.1626 - val_loss: 1.1951 - val_MSE: 1.1951\n",
            "Epoch 105/256\n",
            "92/92 [==============================] - 0s 2ms/step - loss: 1.1339 - MSE: 1.1339 - val_loss: 0.9563 - val_MSE: 0.9563\n",
            "Epoch 106/256\n",
            "92/92 [==============================] - 0s 2ms/step - loss: 1.1288 - MSE: 1.1288 - val_loss: 0.9749 - val_MSE: 0.9749\n",
            "Epoch 107/256\n",
            "92/92 [==============================] - 0s 2ms/step - loss: 1.0830 - MSE: 1.0830 - val_loss: 0.9067 - val_MSE: 0.9067\n",
            "Epoch 108/256\n",
            "92/92 [==============================] - 0s 2ms/step - loss: 1.1059 - MSE: 1.1059 - val_loss: 1.1238 - val_MSE: 1.1238\n",
            "Epoch 109/256\n",
            "92/92 [==============================] - 0s 2ms/step - loss: 1.0649 - MSE: 1.0649 - val_loss: 0.9935 - val_MSE: 0.9935\n",
            "Epoch 110/256\n",
            "92/92 [==============================] - 0s 2ms/step - loss: 1.0125 - MSE: 1.0125 - val_loss: 0.8208 - val_MSE: 0.8208\n",
            "Epoch 111/256\n",
            "92/92 [==============================] - 0s 2ms/step - loss: 1.0045 - MSE: 1.0045 - val_loss: 0.9460 - val_MSE: 0.9460\n",
            "Epoch 112/256\n",
            "92/92 [==============================] - 0s 2ms/step - loss: 0.9828 - MSE: 0.9828 - val_loss: 0.7974 - val_MSE: 0.7974\n",
            "Epoch 113/256\n",
            "92/92 [==============================] - 0s 2ms/step - loss: 0.9504 - MSE: 0.9504 - val_loss: 1.1124 - val_MSE: 1.1124\n",
            "Epoch 114/256\n",
            "92/92 [==============================] - 0s 2ms/step - loss: 0.9286 - MSE: 0.9286 - val_loss: 0.7529 - val_MSE: 0.7529\n",
            "Epoch 115/256\n",
            "92/92 [==============================] - 0s 2ms/step - loss: 0.9172 - MSE: 0.9172 - val_loss: 0.7953 - val_MSE: 0.7953\n",
            "Epoch 116/256\n",
            "92/92 [==============================] - 0s 2ms/step - loss: 0.9131 - MSE: 0.9131 - val_loss: 1.0804 - val_MSE: 1.0804\n",
            "Epoch 117/256\n",
            "92/92 [==============================] - 0s 2ms/step - loss: 0.9091 - MSE: 0.9091 - val_loss: 0.7288 - val_MSE: 0.7288\n",
            "Epoch 118/256\n",
            "92/92 [==============================] - 0s 2ms/step - loss: 0.8501 - MSE: 0.8501 - val_loss: 0.7076 - val_MSE: 0.7076\n",
            "Epoch 119/256\n",
            "92/92 [==============================] - 0s 2ms/step - loss: 0.8598 - MSE: 0.8598 - val_loss: 0.6831 - val_MSE: 0.6831\n",
            "Epoch 120/256\n",
            "92/92 [==============================] - 0s 2ms/step - loss: 0.8416 - MSE: 0.8416 - val_loss: 0.6681 - val_MSE: 0.6681\n",
            "Epoch 121/256\n",
            "92/92 [==============================] - 0s 2ms/step - loss: 0.8466 - MSE: 0.8466 - val_loss: 0.8859 - val_MSE: 0.8859\n",
            "Epoch 122/256\n",
            "92/92 [==============================] - 0s 2ms/step - loss: 1.0185 - MSE: 1.0185 - val_loss: 0.7501 - val_MSE: 0.7501\n",
            "Epoch 123/256\n",
            "92/92 [==============================] - 0s 2ms/step - loss: 0.8421 - MSE: 0.8421 - val_loss: 0.7375 - val_MSE: 0.7375\n",
            "Epoch 124/256\n",
            "92/92 [==============================] - 0s 3ms/step - loss: 0.7516 - MSE: 0.7516 - val_loss: 0.6186 - val_MSE: 0.6186\n",
            "Epoch 125/256\n",
            "92/92 [==============================] - 0s 2ms/step - loss: 0.8022 - MSE: 0.8022 - val_loss: 0.5974 - val_MSE: 0.5974\n",
            "Epoch 126/256\n",
            "92/92 [==============================] - 0s 2ms/step - loss: 0.7229 - MSE: 0.7229 - val_loss: 0.5987 - val_MSE: 0.5987\n",
            "Epoch 127/256\n",
            "92/92 [==============================] - 0s 2ms/step - loss: 0.7087 - MSE: 0.7087 - val_loss: 0.7394 - val_MSE: 0.7394\n",
            "Epoch 128/256\n",
            "92/92 [==============================] - 0s 2ms/step - loss: 0.7464 - MSE: 0.7464 - val_loss: 0.5529 - val_MSE: 0.5529\n",
            "Epoch 129/256\n",
            "92/92 [==============================] - 0s 2ms/step - loss: 0.7151 - MSE: 0.7151 - val_loss: 0.5516 - val_MSE: 0.5516\n",
            "Epoch 130/256\n",
            "92/92 [==============================] - 0s 2ms/step - loss: 0.7034 - MSE: 0.7034 - val_loss: 0.5984 - val_MSE: 0.5984\n",
            "Epoch 131/256\n",
            "92/92 [==============================] - 0s 2ms/step - loss: 0.6681 - MSE: 0.6681 - val_loss: 0.6173 - val_MSE: 0.6173\n",
            "Epoch 132/256\n",
            "92/92 [==============================] - 0s 2ms/step - loss: 0.6780 - MSE: 0.6780 - val_loss: 0.5162 - val_MSE: 0.5162\n",
            "Epoch 133/256\n",
            "92/92 [==============================] - 0s 2ms/step - loss: 0.7104 - MSE: 0.7104 - val_loss: 0.6019 - val_MSE: 0.6019\n",
            "Epoch 134/256\n",
            "92/92 [==============================] - 0s 2ms/step - loss: 0.6583 - MSE: 0.6583 - val_loss: 0.5122 - val_MSE: 0.5122\n",
            "Epoch 135/256\n",
            "92/92 [==============================] - 0s 2ms/step - loss: 0.6772 - MSE: 0.6772 - val_loss: 0.5147 - val_MSE: 0.5147\n",
            "Epoch 136/256\n",
            "92/92 [==============================] - 0s 2ms/step - loss: 0.6702 - MSE: 0.6702 - val_loss: 0.5329 - val_MSE: 0.5329\n",
            "Epoch 137/256\n",
            "92/92 [==============================] - 0s 2ms/step - loss: 0.6570 - MSE: 0.6570 - val_loss: 0.4785 - val_MSE: 0.4785\n",
            "Epoch 138/256\n",
            "92/92 [==============================] - 0s 2ms/step - loss: 0.5999 - MSE: 0.5999 - val_loss: 0.4792 - val_MSE: 0.4792\n",
            "Epoch 139/256\n",
            "92/92 [==============================] - 0s 2ms/step - loss: 0.6119 - MSE: 0.6119 - val_loss: 0.5165 - val_MSE: 0.5165\n",
            "Epoch 140/256\n",
            "92/92 [==============================] - 0s 3ms/step - loss: 0.5856 - MSE: 0.5856 - val_loss: 0.4389 - val_MSE: 0.4389\n",
            "Epoch 141/256\n",
            "92/92 [==============================] - 0s 2ms/step - loss: 0.5702 - MSE: 0.5702 - val_loss: 0.4984 - val_MSE: 0.4984\n",
            "Epoch 142/256\n",
            "92/92 [==============================] - 0s 2ms/step - loss: 0.5704 - MSE: 0.5704 - val_loss: 0.4733 - val_MSE: 0.4733\n",
            "Epoch 143/256\n",
            "92/92 [==============================] - 0s 2ms/step - loss: 0.6445 - MSE: 0.6445 - val_loss: 0.4439 - val_MSE: 0.4439\n",
            "Epoch 144/256\n",
            "92/92 [==============================] - 0s 2ms/step - loss: 0.5479 - MSE: 0.5479 - val_loss: 0.4566 - val_MSE: 0.4566\n",
            "Epoch 145/256\n",
            "92/92 [==============================] - 0s 2ms/step - loss: 0.5434 - MSE: 0.5434 - val_loss: 0.4170 - val_MSE: 0.4170\n",
            "Epoch 146/256\n",
            "92/92 [==============================] - 0s 2ms/step - loss: 0.5343 - MSE: 0.5343 - val_loss: 0.4788 - val_MSE: 0.4788\n",
            "Epoch 147/256\n",
            "92/92 [==============================] - 0s 2ms/step - loss: 0.5447 - MSE: 0.5447 - val_loss: 0.4193 - val_MSE: 0.4193\n",
            "Epoch 148/256\n",
            "92/92 [==============================] - 0s 2ms/step - loss: 0.5560 - MSE: 0.5560 - val_loss: 0.5194 - val_MSE: 0.5194\n",
            "Epoch 149/256\n",
            "92/92 [==============================] - 0s 2ms/step - loss: 0.5551 - MSE: 0.5551 - val_loss: 0.4049 - val_MSE: 0.4049\n",
            "Epoch 150/256\n",
            "92/92 [==============================] - 0s 2ms/step - loss: 0.5382 - MSE: 0.5382 - val_loss: 0.4184 - val_MSE: 0.4184\n",
            "Epoch 151/256\n",
            "92/92 [==============================] - 0s 2ms/step - loss: 0.5927 - MSE: 0.5927 - val_loss: 0.6373 - val_MSE: 0.6373\n",
            "Epoch 152/256\n",
            "92/92 [==============================] - 0s 2ms/step - loss: 0.6872 - MSE: 0.6872 - val_loss: 0.4561 - val_MSE: 0.4561\n",
            "Epoch 153/256\n",
            "92/92 [==============================] - 0s 2ms/step - loss: 0.5156 - MSE: 0.5156 - val_loss: 0.3929 - val_MSE: 0.3929\n",
            "Epoch 154/256\n",
            "92/92 [==============================] - 0s 2ms/step - loss: 0.5233 - MSE: 0.5233 - val_loss: 0.3789 - val_MSE: 0.3789\n",
            "Epoch 155/256\n",
            "92/92 [==============================] - 0s 2ms/step - loss: 0.4910 - MSE: 0.4910 - val_loss: 0.3734 - val_MSE: 0.3734\n",
            "Epoch 156/256\n",
            "92/92 [==============================] - 0s 2ms/step - loss: 0.4782 - MSE: 0.4782 - val_loss: 0.3795 - val_MSE: 0.3795\n",
            "Epoch 157/256\n",
            "92/92 [==============================] - 0s 3ms/step - loss: 0.4953 - MSE: 0.4953 - val_loss: 0.3906 - val_MSE: 0.3906\n",
            "Epoch 158/256\n",
            "92/92 [==============================] - 0s 2ms/step - loss: 0.4984 - MSE: 0.4984 - val_loss: 0.4113 - val_MSE: 0.4113\n",
            "Epoch 159/256\n",
            "92/92 [==============================] - 0s 2ms/step - loss: 0.4803 - MSE: 0.4803 - val_loss: 0.3703 - val_MSE: 0.3703\n",
            "Epoch 160/256\n",
            "92/92 [==============================] - 0s 2ms/step - loss: 0.4507 - MSE: 0.4507 - val_loss: 0.4234 - val_MSE: 0.4234\n",
            "Epoch 161/256\n",
            "92/92 [==============================] - 0s 2ms/step - loss: 0.4887 - MSE: 0.4887 - val_loss: 0.3776 - val_MSE: 0.3776\n",
            "Epoch 162/256\n",
            "92/92 [==============================] - 0s 2ms/step - loss: 0.4597 - MSE: 0.4597 - val_loss: 0.3610 - val_MSE: 0.3610\n",
            "Epoch 163/256\n",
            "92/92 [==============================] - 0s 2ms/step - loss: 0.4600 - MSE: 0.4600 - val_loss: 0.3998 - val_MSE: 0.3998\n",
            "Epoch 164/256\n",
            "92/92 [==============================] - 0s 2ms/step - loss: 0.4823 - MSE: 0.4823 - val_loss: 0.3426 - val_MSE: 0.3426\n",
            "Epoch 165/256\n",
            "92/92 [==============================] - 0s 2ms/step - loss: 0.4470 - MSE: 0.4470 - val_loss: 0.3631 - val_MSE: 0.3631\n",
            "Epoch 166/256\n",
            "92/92 [==============================] - 0s 3ms/step - loss: 0.4402 - MSE: 0.4402 - val_loss: 0.3824 - val_MSE: 0.3824\n",
            "Epoch 167/256\n",
            "92/92 [==============================] - 0s 2ms/step - loss: 0.5076 - MSE: 0.5076 - val_loss: 0.4073 - val_MSE: 0.4073\n",
            "Epoch 168/256\n",
            "92/92 [==============================] - 0s 2ms/step - loss: 0.4176 - MSE: 0.4176 - val_loss: 0.3330 - val_MSE: 0.3330\n",
            "Epoch 169/256\n",
            "92/92 [==============================] - 0s 2ms/step - loss: 0.3986 - MSE: 0.3986 - val_loss: 0.3450 - val_MSE: 0.3450\n",
            "Epoch 170/256\n",
            "92/92 [==============================] - 0s 2ms/step - loss: 0.3783 - MSE: 0.3783 - val_loss: 0.3466 - val_MSE: 0.3466\n",
            "Epoch 171/256\n",
            "92/92 [==============================] - 0s 3ms/step - loss: 0.3742 - MSE: 0.3742 - val_loss: 0.3443 - val_MSE: 0.3443\n",
            "Epoch 172/256\n",
            "92/92 [==============================] - 0s 2ms/step - loss: 0.3587 - MSE: 0.3587 - val_loss: 0.3297 - val_MSE: 0.3297\n",
            "Epoch 173/256\n",
            "92/92 [==============================] - 0s 2ms/step - loss: 0.3542 - MSE: 0.3542 - val_loss: 0.3326 - val_MSE: 0.3326\n",
            "Epoch 174/256\n",
            "92/92 [==============================] - 0s 2ms/step - loss: 0.3555 - MSE: 0.3555 - val_loss: 0.3250 - val_MSE: 0.3250\n",
            "Epoch 175/256\n",
            "92/92 [==============================] - 0s 2ms/step - loss: 0.3698 - MSE: 0.3698 - val_loss: 0.3181 - val_MSE: 0.3181\n",
            "Epoch 176/256\n",
            "92/92 [==============================] - 0s 2ms/step - loss: 0.3540 - MSE: 0.3540 - val_loss: 0.3082 - val_MSE: 0.3082\n",
            "Epoch 177/256\n",
            "92/92 [==============================] - 0s 2ms/step - loss: 0.3397 - MSE: 0.3397 - val_loss: 0.3143 - val_MSE: 0.3143\n",
            "Epoch 178/256\n",
            "92/92 [==============================] - 0s 2ms/step - loss: 0.3462 - MSE: 0.3462 - val_loss: 0.3017 - val_MSE: 0.3017\n",
            "Epoch 179/256\n",
            "92/92 [==============================] - 0s 2ms/step - loss: 0.3467 - MSE: 0.3467 - val_loss: 0.3154 - val_MSE: 0.3154\n",
            "Epoch 180/256\n",
            "92/92 [==============================] - 0s 2ms/step - loss: 0.3580 - MSE: 0.3580 - val_loss: 0.2790 - val_MSE: 0.2790\n",
            "Epoch 181/256\n",
            "92/92 [==============================] - 0s 2ms/step - loss: 0.3640 - MSE: 0.3640 - val_loss: 0.3035 - val_MSE: 0.3035\n",
            "Epoch 182/256\n",
            "92/92 [==============================] - 0s 2ms/step - loss: 0.3265 - MSE: 0.3265 - val_loss: 0.2972 - val_MSE: 0.2972\n",
            "Epoch 183/256\n",
            "92/92 [==============================] - 0s 2ms/step - loss: 0.3178 - MSE: 0.3178 - val_loss: 0.2737 - val_MSE: 0.2737\n",
            "Epoch 184/256\n",
            "92/92 [==============================] - 0s 2ms/step - loss: 0.3233 - MSE: 0.3233 - val_loss: 0.3021 - val_MSE: 0.3021\n",
            "Epoch 185/256\n",
            "92/92 [==============================] - 0s 2ms/step - loss: 0.3208 - MSE: 0.3208 - val_loss: 0.2695 - val_MSE: 0.2695\n",
            "Epoch 186/256\n",
            "92/92 [==============================] - 0s 2ms/step - loss: 0.3117 - MSE: 0.3117 - val_loss: 0.2648 - val_MSE: 0.2648\n",
            "Epoch 187/256\n",
            "92/92 [==============================] - 0s 3ms/step - loss: 0.3025 - MSE: 0.3025 - val_loss: 0.2508 - val_MSE: 0.2508\n",
            "Epoch 188/256\n",
            "92/92 [==============================] - 0s 2ms/step - loss: 0.3081 - MSE: 0.3081 - val_loss: 0.2556 - val_MSE: 0.2556\n",
            "Epoch 189/256\n",
            "92/92 [==============================] - 0s 2ms/step - loss: 0.3056 - MSE: 0.3056 - val_loss: 0.2605 - val_MSE: 0.2605\n",
            "Epoch 190/256\n",
            "92/92 [==============================] - 0s 2ms/step - loss: 0.3121 - MSE: 0.3121 - val_loss: 0.2541 - val_MSE: 0.2541\n",
            "Epoch 191/256\n",
            "92/92 [==============================] - 0s 2ms/step - loss: 0.3063 - MSE: 0.3063 - val_loss: 0.2519 - val_MSE: 0.2519\n",
            "Epoch 192/256\n",
            "92/92 [==============================] - 0s 2ms/step - loss: 0.3342 - MSE: 0.3342 - val_loss: 0.2530 - val_MSE: 0.2530\n",
            "Epoch 193/256\n",
            "92/92 [==============================] - 0s 2ms/step - loss: 0.3504 - MSE: 0.3504 - val_loss: 0.2660 - val_MSE: 0.2660\n",
            "Epoch 194/256\n",
            "92/92 [==============================] - 0s 2ms/step - loss: 0.5644 - MSE: 0.5644 - val_loss: 0.2943 - val_MSE: 0.2943\n",
            "Epoch 195/256\n",
            "92/92 [==============================] - 0s 2ms/step - loss: 0.4108 - MSE: 0.4108 - val_loss: 0.3033 - val_MSE: 0.3033\n",
            "Epoch 196/256\n",
            "92/92 [==============================] - 0s 2ms/step - loss: 0.4060 - MSE: 0.4060 - val_loss: 0.2501 - val_MSE: 0.2501\n",
            "Epoch 197/256\n",
            "92/92 [==============================] - 0s 2ms/step - loss: 0.3396 - MSE: 0.3396 - val_loss: 0.2524 - val_MSE: 0.2524\n",
            "Epoch 198/256\n",
            "92/92 [==============================] - 0s 2ms/step - loss: 0.3351 - MSE: 0.3351 - val_loss: 0.2457 - val_MSE: 0.2457\n",
            "Epoch 199/256\n",
            "92/92 [==============================] - 0s 2ms/step - loss: 0.3388 - MSE: 0.3388 - val_loss: 0.2902 - val_MSE: 0.2902\n",
            "Epoch 200/256\n",
            "92/92 [==============================] - 0s 2ms/step - loss: 0.3382 - MSE: 0.3382 - val_loss: 0.2325 - val_MSE: 0.2325\n",
            "Epoch 201/256\n",
            "92/92 [==============================] - 0s 2ms/step - loss: 0.3418 - MSE: 0.3418 - val_loss: 0.2629 - val_MSE: 0.2629\n",
            "Epoch 202/256\n",
            "92/92 [==============================] - 0s 2ms/step - loss: 0.3210 - MSE: 0.3210 - val_loss: 0.2531 - val_MSE: 0.2531\n",
            "Epoch 203/256\n",
            "92/92 [==============================] - 0s 2ms/step - loss: 0.3263 - MSE: 0.3263 - val_loss: 0.2258 - val_MSE: 0.2258\n",
            "Epoch 204/256\n",
            "92/92 [==============================] - 0s 2ms/step - loss: 0.3175 - MSE: 0.3175 - val_loss: 0.2655 - val_MSE: 0.2655\n",
            "Epoch 205/256\n",
            "92/92 [==============================] - 0s 2ms/step - loss: 0.3531 - MSE: 0.3531 - val_loss: 0.2292 - val_MSE: 0.2292\n",
            "Epoch 206/256\n",
            "92/92 [==============================] - 0s 2ms/step - loss: 0.3193 - MSE: 0.3193 - val_loss: 0.2960 - val_MSE: 0.2960\n",
            "Epoch 207/256\n",
            "92/92 [==============================] - 0s 2ms/step - loss: 0.3192 - MSE: 0.3192 - val_loss: 0.2273 - val_MSE: 0.2273\n",
            "Epoch 208/256\n",
            "92/92 [==============================] - 0s 2ms/step - loss: 0.3035 - MSE: 0.3035 - val_loss: 0.2273 - val_MSE: 0.2273\n",
            "Epoch 209/256\n",
            "92/92 [==============================] - 0s 2ms/step - loss: 0.3086 - MSE: 0.3086 - val_loss: 0.2273 - val_MSE: 0.2273\n",
            "Epoch 210/256\n",
            "92/92 [==============================] - 0s 2ms/step - loss: 0.2933 - MSE: 0.2933 - val_loss: 0.2489 - val_MSE: 0.2489\n",
            "Epoch 211/256\n",
            "92/92 [==============================] - 0s 2ms/step - loss: 0.2878 - MSE: 0.2878 - val_loss: 0.2155 - val_MSE: 0.2155\n",
            "Epoch 212/256\n",
            "92/92 [==============================] - 0s 2ms/step - loss: 0.2800 - MSE: 0.2800 - val_loss: 0.2183 - val_MSE: 0.2183\n",
            "Epoch 213/256\n",
            "92/92 [==============================] - 0s 2ms/step - loss: 0.2769 - MSE: 0.2769 - val_loss: 0.2196 - val_MSE: 0.2196\n",
            "Epoch 214/256\n",
            "92/92 [==============================] - 0s 2ms/step - loss: 0.2739 - MSE: 0.2739 - val_loss: 0.2126 - val_MSE: 0.2126\n",
            "Epoch 215/256\n",
            "92/92 [==============================] - 0s 2ms/step - loss: 0.2766 - MSE: 0.2766 - val_loss: 0.2192 - val_MSE: 0.2192\n",
            "Epoch 216/256\n",
            "92/92 [==============================] - 0s 2ms/step - loss: 0.2801 - MSE: 0.2801 - val_loss: 0.2262 - val_MSE: 0.2262\n",
            "Epoch 217/256\n",
            "92/92 [==============================] - 0s 2ms/step - loss: 0.2785 - MSE: 0.2785 - val_loss: 0.2170 - val_MSE: 0.2170\n",
            "Epoch 218/256\n",
            "92/92 [==============================] - 0s 2ms/step - loss: 0.2802 - MSE: 0.2802 - val_loss: 0.2169 - val_MSE: 0.2169\n",
            "Epoch 219/256\n",
            "92/92 [==============================] - 0s 2ms/step - loss: 0.2796 - MSE: 0.2796 - val_loss: 0.2501 - val_MSE: 0.2501\n",
            "Epoch 220/256\n",
            "92/92 [==============================] - 0s 2ms/step - loss: 0.2827 - MSE: 0.2827 - val_loss: 0.2176 - val_MSE: 0.2176\n",
            "Epoch 221/256\n",
            "92/92 [==============================] - 0s 2ms/step - loss: 0.2723 - MSE: 0.2723 - val_loss: 0.2279 - val_MSE: 0.2279\n",
            "Epoch 222/256\n",
            "92/92 [==============================] - 0s 2ms/step - loss: 0.2694 - MSE: 0.2694 - val_loss: 0.2206 - val_MSE: 0.2206\n",
            "Epoch 223/256\n",
            "92/92 [==============================] - 0s 2ms/step - loss: 0.2836 - MSE: 0.2836 - val_loss: 0.2227 - val_MSE: 0.2227\n",
            "Epoch 224/256\n",
            "92/92 [==============================] - 0s 2ms/step - loss: 0.2786 - MSE: 0.2786 - val_loss: 0.2443 - val_MSE: 0.2443\n",
            "Epoch 225/256\n",
            "92/92 [==============================] - 0s 2ms/step - loss: 0.2781 - MSE: 0.2781 - val_loss: 0.2307 - val_MSE: 0.2307\n",
            "Epoch 226/256\n",
            "92/92 [==============================] - 0s 2ms/step - loss: 0.2809 - MSE: 0.2809 - val_loss: 0.2265 - val_MSE: 0.2265\n",
            "Epoch 227/256\n",
            "92/92 [==============================] - 0s 2ms/step - loss: 0.3033 - MSE: 0.3033 - val_loss: 0.2589 - val_MSE: 0.2589\n",
            "Epoch 228/256\n",
            "92/92 [==============================] - 0s 2ms/step - loss: 0.2665 - MSE: 0.2665 - val_loss: 0.2449 - val_MSE: 0.2449\n",
            "Epoch 229/256\n",
            "92/92 [==============================] - 0s 2ms/step - loss: 0.2785 - MSE: 0.2785 - val_loss: 0.2531 - val_MSE: 0.2531\n",
            "Epoch 230/256\n",
            "92/92 [==============================] - 0s 2ms/step - loss: 0.2879 - MSE: 0.2879 - val_loss: 0.2490 - val_MSE: 0.2490\n",
            "Epoch 231/256\n",
            "92/92 [==============================] - 0s 2ms/step - loss: 0.2806 - MSE: 0.2806 - val_loss: 0.2516 - val_MSE: 0.2516\n",
            "Epoch 232/256\n",
            "92/92 [==============================] - 0s 2ms/step - loss: 0.2667 - MSE: 0.2667 - val_loss: 0.2359 - val_MSE: 0.2359\n",
            "Epoch 233/256\n",
            "92/92 [==============================] - 0s 2ms/step - loss: 0.2640 - MSE: 0.2640 - val_loss: 0.2409 - val_MSE: 0.2409\n",
            "Epoch 234/256\n",
            "92/92 [==============================] - 0s 3ms/step - loss: 0.2711 - MSE: 0.2711 - val_loss: 0.2426 - val_MSE: 0.2426\n",
            "Epoch 00234: early stopping\n"
          ]
        }
      ]
    },
    {
      "cell_type": "markdown",
      "metadata": {
        "id": "LqJbl8fHV0zI"
      },
      "source": [
        "### Validación de datos"
      ]
    },
    {
      "cell_type": "code",
      "metadata": {
        "colab": {
          "base_uri": "https://localhost:8080/"
        },
        "id": "NObPUZRkUriD",
        "outputId": "e8cc462c-acb9-44ee-b171-b5cd67676d48"
      },
      "source": [
        "print(history.params)"
      ],
      "execution_count": null,
      "outputs": [
        {
          "output_type": "stream",
          "name": "stdout",
          "text": [
            "{'verbose': 1, 'epochs': 256, 'steps': 92}\n"
          ]
        }
      ]
    },
    {
      "cell_type": "code",
      "metadata": {
        "colab": {
          "base_uri": "https://localhost:8080/",
          "height": 276
        },
        "id": "Iwc_nJt7V80F",
        "outputId": "50ce9b21-8c9e-49dc-bd0b-024f421a8fa0"
      },
      "source": [
        "plt.plot(history2.history['MSE'])\n",
        "plt.plot(history2.history['val_MSE'])\n",
        "plt.ylabel('MSE')\n",
        "plt.xlabel('epoch')\n",
        "plt.show()"
      ],
      "execution_count": 66,
      "outputs": [
        {
          "output_type": "display_data",
          "data": {
            "image/png": "[encoded data removed]",
            "text/plain": [
              "<Figure size 432x288 with 1 Axes>"
            ]
          },
          "metadata": {}
        }
      ]
    },
    {
      "cell_type": "markdown",
      "metadata": {
        "id": "k6cpbxsaX5g3"
      },
      "source": [
        "### Validation"
      ]
    },
    {
      "cell_type": "code",
      "metadata": {
        "colab": {
          "base_uri": "https://localhost:8080/"
        },
        "id": "Gm-YXBsVWT9m",
        "outputId": "276609b8-bf11-446a-b557-6adf537f5a91"
      },
      "source": [
        "print(y_val[0:10].round())"
      ],
      "execution_count": null,
      "outputs": [
        {
          "output_type": "stream",
          "name": "stdout",
          "text": [
            "      Acidity  Aftertaste  Aroma  ...  Flavor  Sweetness  Uniformity\n",
            "872       8.0         7.0    7.0  ...     7.0       10.0        10.0\n",
            "270       8.0         8.0    8.0  ...     8.0       10.0        10.0\n",
            "1258      7.0         7.0    7.0  ...     7.0       10.0         9.0\n",
            "1216      8.0         7.0    7.0  ...     7.0       10.0         9.0\n",
            "113       8.0         8.0    8.0  ...     8.0       10.0        10.0\n",
            "218       8.0         8.0    8.0  ...     8.0       10.0        10.0\n",
            "749       8.0         7.0    8.0  ...     7.0       10.0        10.0\n",
            "620       8.0         8.0    8.0  ...     8.0       10.0        10.0\n",
            "607       8.0         7.0    8.0  ...     8.0       10.0        10.0\n",
            "283       8.0         8.0    8.0  ...     7.0       10.0        10.0\n",
            "\n",
            "[10 rows x 10 columns]\n"
          ]
        }
      ]
    },
    {
      "cell_type": "code",
      "metadata": {
        "id": "ADWwXPyWYGEe"
      },
      "source": [
        "prediction = model.predict(X_val)"
      ],
      "execution_count": null,
      "outputs": []
    },
    {
      "cell_type": "code",
      "metadata": {
        "colab": {
          "base_uri": "https://localhost:8080/"
        },
        "id": "vOK94-iUYQ5x",
        "outputId": "491732b1-8377-4271-f482-f438b26cdafd"
      },
      "source": [
        "print(prediction[0:10].round())"
      ],
      "execution_count": null,
      "outputs": [
        {
          "output_type": "stream",
          "name": "stdout",
          "text": [
            "[[ 8.  7.  8.  8.  8. 10.  8.  8. 10. 10.]\n",
            " [ 8.  7.  8.  8.  8. 10.  8.  8. 10. 10.]\n",
            " [ 8.  7.  8.  8.  8. 10.  8.  8. 10. 10.]\n",
            " [ 8.  7.  8.  8.  8. 10.  8.  8. 10. 10.]\n",
            " [ 8.  7.  8.  8.  8. 10.  8.  8. 10. 10.]\n",
            " [ 8.  7.  8.  8.  8. 10.  8.  8. 10. 10.]\n",
            " [ 8.  7.  8.  8.  8. 10.  8.  8. 10. 10.]\n",
            " [ 8.  7.  8.  8.  8. 10.  8.  8. 10. 10.]\n",
            " [ 8.  7.  8.  8.  8. 10.  8.  8. 10. 10.]\n",
            " [ 8.  7.  8.  8.  8. 10.  8.  8. 10. 10.]]\n"
          ]
        }
      ]
    },
    {
      "cell_type": "code",
      "metadata": {
        "colab": {
          "base_uri": "https://localhost:8080/",
          "height": 294
        },
        "id": "pmf_Uj0FYUTA",
        "outputId": "28958220-53d6-4e2a-b431-fbbc6df60da2"
      },
      "source": [
        "plt.plot(y_val, prediction, '.', alpha = 0.3)\n",
        "plt.xlabel('Correct labels')\n",
        "plt.ylabel('Predicted confidence scores')\n",
        "plt.show"
      ],
      "execution_count": null,
      "outputs": [
        {
          "output_type": "execute_result",
          "data": {
            "text/plain": [
              "<function matplotlib.pyplot.show>"
            ]
          },
          "metadata": {},
          "execution_count": 65
        },
        {
          "output_type": "display_data",
          "data": {
            "image/png": "[encoded data removed]",
            "text/plain": [
              "<Figure size 432x288 with 1 Axes>"
            ]
          },
          "metadata": {}
        }
      ]
    },
    {
      "cell_type": "code",
      "metadata": {
        "id": "2MHVqcOmG7mL"
      },
      "source": [
        "from sklearn.metrics import mean_squared_error"
      ],
      "execution_count": null,
      "outputs": []
    },
    {
      "cell_type": "code",
      "metadata": {
        "id": "Q2CKrhWUY5nU",
        "colab": {
          "base_uri": "https://localhost:8080/"
        },
        "outputId": "c15ab640-3aad-46b2-f6fd-0eaa24cf505b"
      },
      "source": [
        "mean_squared_error(y_val, test)"
      ],
      "execution_count": null,
      "outputs": [
        {
          "output_type": "execute_result",
          "data": {
            "text/plain": [
              "0.11790477098373875"
            ]
          },
          "metadata": {},
          "execution_count": 100
        }
      ]
    },
    {
      "cell_type": "code",
      "metadata": {
        "colab": {
          "base_uri": "https://localhost:8080/"
        },
        "id": "QNfV76J58EZG",
        "outputId": "c27c4c61-2be5-4c8c-8b1a-ddbd030bee77"
      },
      "source": [
        "test = pd.DataFrame(prediction, dtype='float64')\n",
        "test.shape"
      ],
      "execution_count": null,
      "outputs": [
        {
          "output_type": "execute_result",
          "data": {
            "text/plain": [
              "(131, 10)"
            ]
          },
          "metadata": {},
          "execution_count": 88
        }
      ]
    }
  ]
}