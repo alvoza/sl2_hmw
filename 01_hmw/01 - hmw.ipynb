{
 "cells": [
  {
   "cell_type": "code",
   "execution_count": 13,
   "id": "6aa041fc-84ff-48ed-ab87-554f32ede85b",
   "metadata": {},
   "outputs": [],
   "source": [
    "import pandas as pd\n",
    "import math \n",
    "import random\n",
    "import numpy as np\n",
    "import matplotlib.pyplot as plt\n",
    "from sklearn.cluster import KMeans\n",
    "from deepdiff import DeepDiff"
   ]
  },
  {
   "cell_type": "code",
   "execution_count": 6,
   "id": "3e7cc053-d4dd-42f0-b4c2-bcf4f32481f6",
   "metadata": {},
   "outputs": [
    {
     "name": "stdout",
     "output_type": "stream",
     "text": [
      "(46, 2)\n"
     ]
    }
   ],
   "source": [
    "df = pd.read_csv (r'./normales.csv')\n",
    "print(df.shape)\n",
    "df = df.to_numpy()"
   ]
  },
  {
   "cell_type": "code",
   "execution_count": 12,
   "id": "2bd7a6fd-655e-4694-99e3-335acf7b9cf7",
   "metadata": {},
   "outputs": [
    {
     "data": {
      "text/plain": [
       "[<matplotlib.lines.Line2D at 0x7fc1fa7240a0>]"
      ]
     },
     "execution_count": 12,
     "metadata": {},
     "output_type": "execute_result"
    },
    {
     "data": {
      "image/png": "[encoded data removed]",
      "text/plain": [
       "<Figure size 432x288 with 1 Axes>"
      ]
     },
     "metadata": {
      "needs_background": "light"
     },
     "output_type": "display_data"
    }
   ],
   "source": [
    "plt.plot(df[:,0], df[:,1], 'o', color='black')"
   ]
  },
  {
   "cell_type": "code",
   "execution_count": 11,
   "id": "83a4e9c0-1868-4a0a-9460-35cf690aa2d8",
   "metadata": {},
   "outputs": [
    {
     "data": {
      "image/png": "[encoded data removed]",
      "text/plain": [
       "<Figure size 432x288 with 1 Axes>"
      ]
     },
     "metadata": {
      "needs_background": "light"
     },
     "output_type": "display_data"
    }
   ],
   "source": [
    "fc = np.array(test[0])\n",
    "sc = np.array(test[1])\n",
    "tc = np.array(test[2])\n",
    "\n",
    "plt.plot(fc[:,0], fc[:,1], 'o', color='green')\n",
    "plt.plot(sc[:,0], sc[:,1], 'o', color='yellow')\n",
    "plt.plot(tc[:,0], tc[:,1], 'o', color='red')\n",
    "plt.show()"
   ]
  },
  {
   "cell_type": "code",
   "execution_count": 10,
   "id": "cd237aca-f41d-4e17-8491-d45767069671",
   "metadata": {},
   "outputs": [],
   "source": [
    "test = kmeans(3, df)"
   ]
  },
  {
   "cell_type": "code",
   "execution_count": 9,
   "id": "417d7ad8-94df-4933-940e-807373e1d084",
   "metadata": {},
   "outputs": [],
   "source": [
    "def kmeans(K, x):\n",
    "    \n",
    "    k = K\n",
    "    samples = len(x)\n",
    "    clusters = {}\n",
    "    centroids = {}\n",
    "\n",
    "    ##initiating centroids\n",
    "    centroids_index = random.sample(range(0, samples), k)\n",
    "    for i in range(k):\n",
    "        centroids[i] = x[centroids_index[i]]\n",
    "        clusters[i] = []\n",
    "\n",
    "    #print(\"Initial Centroids: \")\n",
    "    #print(centroids)  \n",
    "    \n",
    "    for l in range(1000):          \n",
    "\n",
    "        for data in x:\n",
    "            euc_dist = []\n",
    "            for j in range(k):\n",
    "                euc_dist.append(np.linalg.norm(data - centroids[j]))\n",
    "            clusters[euc_dist.index(min(euc_dist))].append(data)\n",
    "        \n",
    "        centroids_aux = recalculate_centroids(centroids, clusters, k)\n",
    "        ##print(centroids_aux)\n",
    "        \n",
    "        ##CHEQUEAR SI SON DIFERENTES LOS CENTROIDES RECALCULADOS\n",
    "        diff = DeepDiff(centroids, centroids_aux)\n",
    "        \n",
    "        if(diff):\n",
    "            centroids = centroids_aux\n",
    "        else: \n",
    "            print(\"reached convergence..\" + str(l))\n",
    "            break \n",
    "            \n",
    "    return clusters \n"
   ]
  },
  {
   "cell_type": "code",
   "execution_count": 261,
   "id": "258df269-6b6d-4cef-95cf-7985292f375c",
   "metadata": {},
   "outputs": [],
   "source": [
    "def calculateDistance(x1,x2):\n",
    "    dist = math.sqrt((x2[0]- x1[0])**2 + (x2[1] - x1[1])**2)\n",
    "    return dist"
   ]
  },
  {
   "cell_type": "code",
   "execution_count": 8,
   "id": "1825d803-4887-48f6-8e01-80ec2335dde4",
   "metadata": {},
   "outputs": [],
   "source": [
    "def recalculate_centroids(c, clusters, k):\n",
    "    \"\"\" Recalculates the centroid position based on the plot \"\"\"\n",
    "    caux = c.copy()\n",
    "    \n",
    "    for i in range(k):\n",
    "        caux[i] = np.average(clusters[i], axis=0)\n",
    "    return caux"
   ]
  },
  {
   "cell_type": "markdown",
   "id": "fc60db09-8b67-44a5-a090-5d07b36334be",
   "metadata": {},
   "source": [
    "### Comparación con el algoritmo de SKLEARN"
   ]
  },
  {
   "cell_type": "code",
   "execution_count": 20,
   "id": "11f69eae-1756-4673-bb82-5ffc6477f7bf",
   "metadata": {},
   "outputs": [
    {
     "data": {
      "image/png": "[encoded data removed]",
      "text/plain": [
       "<Figure size 432x288 with 1 Axes>"
      ]
     },
     "metadata": {
      "needs_background": "light"
     },
     "output_type": "display_data"
    }
   ],
   "source": [
    "kmeans = KMeans(n_clusters=3)\n",
    "kmeans.fit(df)\n",
    "y_kmeans = kmeans.predict(df)\n",
    "\n",
    "plt.scatter(df[:, 0], df[:, 1], c=y_kmeans, s=50, cmap='viridis')\n",
    "\n",
    "centers = kmeans.cluster_centers_\n",
    "plt.scatter(centers[:, 0], centers[:, 1], c='black', s=200, alpha=0.5);"
   ]
  },
  {
   "cell_type": "code",
   "execution_count": null,
   "id": "1b97cec0-dd50-45b6-a10a-aba51c39d44d",
   "metadata": {},
   "outputs": [],
   "source": []
  }
 ],
 "metadata": {
  "kernelspec": {
   "display_name": "Python 3",
   "language": "python",
   "name": "python3"
  },
  "language_info": {
   "codemirror_mode": {
    "name": "ipython",
    "version": 3
   },
   "file_extension": ".py",
   "mimetype": "text/x-python",
   "name": "python",
   "nbconvert_exporter": "python",
   "pygments_lexer": "ipython3",
   "version": "3.8.5"
  }
 },
 "nbformat": 4,
 "nbformat_minor": 5
}
