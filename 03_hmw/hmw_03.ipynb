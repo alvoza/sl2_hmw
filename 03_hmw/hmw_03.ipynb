{
 "cells": [
  {
   "cell_type": "markdown",
   "id": "0a60b395-060b-409c-ad2d-59c9bf6d2d9c",
   "metadata": {},
   "source": [
    "### Laboratorio 03"
   ]
  },
  {
   "cell_type": "code",
   "execution_count": 4,
   "id": "b036aa3d-5343-43a7-93ed-e5fa91c469e8",
   "metadata": {},
   "outputs": [],
   "source": [
    "import numpy as np\n",
    "import pandas as pd\n",
    "import matplotlib.pyplot as plt\n",
    "from sklearn.preprocessing import PolynomialFeatures"
   ]
  },
  {
   "cell_type": "markdown",
   "id": "09f2fafb-428f-4758-b73b-25e33cea9494",
   "metadata": {},
   "source": [
    "### Carga inicial"
   ]
  },
  {
   "cell_type": "code",
   "execution_count": 13,
   "id": "d0511465-dd43-478a-a1fa-436a7093e250",
   "metadata": {},
   "outputs": [
    {
     "name": "stdout",
     "output_type": "stream",
     "text": [
      "Size:  8760\n",
      "Ndim:  2\n",
      "Len:  1460\n",
      "Shape:  (1460, 6)\n"
     ]
    },
    {
     "data": {
      "text/plain": [
       "(1460, 1)"
      ]
     },
     "execution_count": 13,
     "metadata": {},
     "output_type": "execute_result"
    }
   ],
   "source": [
    "data = np.load('proyecto_training_data.npy')\n",
    "##Structure analisis of data loaded\n",
    "print(\"Size: \", data.size)\n",
    "print(\"Ndim: \", data.ndim)\n",
    "print(\"Len: \", len(data))\n",
    "print(\"Shape: \", data.shape)\n",
    "\n",
    "X1 = np.array([data[:,0]]).reshape((1460, 1))\n",
    "X2 = np.array([data[:,0], data[:,1]]).reshape((1460, 2))\n",
    "X3 = np.array([data[:,0], data[:,1], data[:,2]]).reshape((1460, 3))\n",
    "X1.shape"
   ]
  },
  {
   "cell_type": "markdown",
   "id": "ecdc20ce-9b3e-499d-a564-2059c000b155",
   "metadata": {},
   "source": [
    "### 1 variable"
   ]
  },
  {
   "cell_type": "code",
   "execution_count": 18,
   "id": "ac8f90a5-1524-48ea-a680-248043b4f115",
   "metadata": {},
   "outputs": [
    {
     "name": "stdout",
     "output_type": "stream",
     "text": [
      "1 variable grado 2:\n",
      "(1460, 3)\n",
      "1 variable grado 3:\n",
      "(1460, 4)\n"
     ]
    }
   ],
   "source": [
    "poly = PolynomialFeatures(2)\n",
    "poly_x1 = poly.fit_transform(X1)\n",
    "print(\"1 variable grado 2:\")\n",
    "print(poly_x1.shape)\n",
    "\n",
    "poly = PolynomialFeatures(3)\n",
    "poly_x1 = poly.fit_transform(X1)\n",
    "print(\"1 variable grado 3:\")\n",
    "print(poly_x1.shape)"
   ]
  },
  {
   "cell_type": "markdown",
   "id": "e5df106a-4b2a-47f9-9235-d2c20c92224c",
   "metadata": {},
   "source": [
    "### 2 Variables"
   ]
  },
  {
   "cell_type": "code",
   "execution_count": 19,
   "id": "83759cd9-7e20-407c-bcbb-3718232704db",
   "metadata": {},
   "outputs": [
    {
     "name": "stdout",
     "output_type": "stream",
     "text": [
      "2 variables grado 2:\n",
      "(1460, 6)\n",
      "2 variables grado 3:\n",
      "(1460, 10)\n"
     ]
    }
   ],
   "source": [
    "poly = PolynomialFeatures(2)\n",
    "poly_x2 = poly.fit_transform(X2)\n",
    "print(\"2 variables grado 2:\")\n",
    "print(poly_x2.shape)\n",
    "\n",
    "poly = PolynomialFeatures(3)\n",
    "poly_x2 = poly.fit_transform(X2)\n",
    "print(\"2 variables grado 3:\")\n",
    "print(poly_x2.shape)"
   ]
  },
  {
   "cell_type": "markdown",
   "id": "59535339-5a77-4ca5-9cee-5bb49369728f",
   "metadata": {},
   "source": [
    "### 3 Variables"
   ]
  },
  {
   "cell_type": "code",
   "execution_count": 20,
   "id": "7f0e1de2-2f9d-46e7-b389-b226ad77ddc7",
   "metadata": {},
   "outputs": [
    {
     "name": "stdout",
     "output_type": "stream",
     "text": [
      "3 variables grado 2:\n",
      "(1460, 10)\n",
      "3 variables grado 3:\n",
      "(1460, 20)\n"
     ]
    }
   ],
   "source": [
    "poly = PolynomialFeatures(2)\n",
    "poly_x3 = poly.fit_transform(X3)\n",
    "print(\"3 variables grado 2:\")\n",
    "print(poly_x3.shape)\n",
    "\n",
    "poly = PolynomialFeatures(3)\n",
    "poly_x3 = poly.fit_transform(X3)\n",
    "print(\"3 variables grado 3:\")\n",
    "print(poly_x3.shape)"
   ]
  },
  {
   "cell_type": "markdown",
   "id": "988fdcde-c903-40d3-86a3-c64cd69e4f5e",
   "metadata": {},
   "source": [
    "### Conclusión \n",
    "\n",
    "Al incrementar de grado de polinomio y al agregar más variables al análisis la matriz resultante incrementa su número de columnas. Podemos ver como pasa de 3 columnas en el caso más sencillo (1 variable grado 2) a 20 columnas en el caso más complejo (3 variables grado 3). En conclusión al incrementar la cantidad de variables y/o el grado del polinomio, la matriz resultante de variables a analizar se incrementa, esto a su vez incrementa la complejidad del análisis a realizar. "
   ]
  },
  {
   "cell_type": "code",
   "execution_count": 22,
   "id": "5c6d6d4f-5dca-4031-858a-12c7238da484",
   "metadata": {},
   "outputs": [
    {
     "data": {
      "text/plain": [
       "array([[1.00000000e+00, 2.08500000e+05, 4.34722500e+10, 9.06396412e+15],\n",
       "       [1.00000000e+00, 1.81500000e+05, 3.29422500e+10, 5.97901838e+15],\n",
       "       [1.00000000e+00, 2.23500000e+05, 4.99522500e+10, 1.11643279e+16],\n",
       "       ...,\n",
       "       [1.00000000e+00, 2.66500000e+05, 7.10222500e+10, 1.89274296e+16],\n",
       "       [1.00000000e+00, 1.42125000e+05, 2.01995156e+10, 2.87085616e+15],\n",
       "       [1.00000000e+00, 1.47500000e+05, 2.17562500e+10, 3.20904688e+15]])"
      ]
     },
     "execution_count": 22,
     "metadata": {},
     "output_type": "execute_result"
    }
   ],
   "source": [
    "poly_x1"
   ]
  },
  {
   "cell_type": "code",
   "execution_count": 21,
   "id": "d48c4b97-3fd8-49a6-b8b1-443d8a2a61cb",
   "metadata": {},
   "outputs": [
    {
     "data": {
      "text/plain": [
       "array([[1.00000000e+00, 2.08500000e+05, 1.81500000e+05, ...,\n",
       "        7.36259288e+15, 9.06633338e+15, 1.11643279e+16],\n",
       "       [1.00000000e+00, 1.40000000e+05, 2.50000000e+05, ...,\n",
       "        8.93750000e+15, 5.11225000e+15, 2.92420700e+15],\n",
       "       [1.00000000e+00, 3.07000000e+05, 2.00000000e+05, ...,\n",
       "        5.19600000e+15, 3.37480200e+15, 2.19193390e+15],\n",
       "       ...,\n",
       "       [1.00000000e+00, 1.57800000e+03, 1.07200000e+03, ...,\n",
       "        1.31006976e+09, 1.39317120e+09, 1.48154400e+09],\n",
       "       [1.00000000e+00, 1.22100000e+03, 9.53000000e+02, ...,\n",
       "        1.88271726e+09, 4.09535454e+09, 8.90836302e+09],\n",
       "       [1.00000000e+00, 1.18800000e+03, 1.07800000e+03, ...,\n",
       "        1.45957750e+09, 1.70058381e+09, 1.98138522e+09]])"
      ]
     },
     "execution_count": 21,
     "metadata": {},
     "output_type": "execute_result"
    }
   ],
   "source": [
    "poly_x3"
   ]
  }
 ],
 "metadata": {
  "kernelspec": {
   "display_name": "Python 3",
   "language": "python",
   "name": "python3"
  },
  "language_info": {
   "codemirror_mode": {
    "name": "ipython",
    "version": 3
   },
   "file_extension": ".py",
   "mimetype": "text/x-python",
   "name": "python",
   "nbconvert_exporter": "python",
   "pygments_lexer": "ipython3",
   "version": "3.8.5"
  }
 },
 "nbformat": 4,
 "nbformat_minor": 5
}
