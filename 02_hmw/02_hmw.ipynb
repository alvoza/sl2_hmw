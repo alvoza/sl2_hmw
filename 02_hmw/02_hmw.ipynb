{
 "cells": [
  {
   "cell_type": "code",
   "execution_count": 15,
   "id": "9d46f13d-7802-414e-939e-0af4415f6ec1",
   "metadata": {},
   "outputs": [],
   "source": [
    "import pandas as pd\n",
    "import math \n",
    "import random\n",
    "import numpy as np\n",
    "import matplotlib.pyplot as plt\n",
    "from scipy.stats import norm"
   ]
  },
  {
   "cell_type": "code",
   "execution_count": 4,
   "id": "f350e4f9-3965-4ccf-b8d2-81b62026c6f8",
   "metadata": {},
   "outputs": [
    {
     "name": "stdout",
     "output_type": "stream",
     "text": [
      "(46, 2)\n"
     ]
    }
   ],
   "source": [
    "normales = pd.read_csv (r'./normales.csv')\n",
    "print(normales.shape)\n",
    "normales = normales.to_numpy()"
   ]
  },
  {
   "cell_type": "code",
   "execution_count": 11,
   "id": "795e3891-168b-437f-8c22-54f13456f0b4",
   "metadata": {},
   "outputs": [
    {
     "name": "stdout",
     "output_type": "stream",
     "text": [
      "(8, 2)\n",
      "(4, 2)\n"
     ]
    }
   ],
   "source": [
    "valtest_normales = pd.read_csv (r'./valtest(normales).csv')\n",
    "print(valtest_normales.shape)\n",
    "valtest_normales = valtest_normales.to_numpy()\n",
    "\n",
    "valtest_anomalias = pd.read_csv (r'./valtest(anomalias).csv')\n",
    "print(valtest_anomalias.shape)\n",
    "valtest_anomalias = valtest_anomalias.to_numpy()"
   ]
  },
  {
   "cell_type": "code",
   "execution_count": 27,
   "id": "77cea02c-078b-479b-b669-97558a489aed",
   "metadata": {},
   "outputs": [
    {
     "data": {
      "text/plain": [
       "0.25"
      ]
     },
     "execution_count": 27,
     "metadata": {},
     "output_type": "execute_result"
    }
   ],
   "source": [
    "valtest_anomalias[0,0]"
   ]
  },
  {
   "cell_type": "code",
   "execution_count": 25,
   "id": "9509470e-9fea-435b-8f46-24179161ce96",
   "metadata": {},
   "outputs": [],
   "source": [
    "def get_mean_std(X):\n",
    "    mean_age = np.mean(X[:,1])\n",
    "    std_age = np.std(X[:,1])\n",
    "    mean_hight = np.mean(X[:,0])  \n",
    "    std_hight = np.std(X[:,0]) \n",
    "    return mean_hight, std_hight"
   ]
  },
  {
   "cell_type": "code",
   "execution_count": 48,
   "id": "73f7276a-f0f8-40c0-8cfb-f0a27fa1e2ef",
   "metadata": {},
   "outputs": [
    {
     "name": "stdout",
     "output_type": "stream",
     "text": [
      "Outliers:  []\n",
      "Outliers:  [0.25, 175.1, 0.15, 150.0]\n"
     ]
    },
    {
     "data": {
      "text/plain": [
       "[0.25, 175.1, 0.15, 150.0]"
      ]
     },
     "execution_count": 48,
     "metadata": {},
     "output_type": "execute_result"
    }
   ],
   "source": [
    "nmean, nstd = get_mean_std(normales)\n",
    "detect_outliers(valtest_normales[:,0], nmean, nstd, 2)\n",
    "detect_outliers(valtest_anomalias[:,0], nmean, nstd, 2)"
   ]
  },
  {
   "cell_type": "code",
   "execution_count": 47,
   "id": "281216a8-7502-41e5-aedc-36a134d88f75",
   "metadata": {},
   "outputs": [],
   "source": [
    "def detect_outliers(data, mean, sd, threshold):\n",
    "    outliers = []\n",
    "    \n",
    "    for i in data: \n",
    "        z = (i-mean)/sd \n",
    "        if abs(z) > threshold:  \n",
    "            outliers.append(i) \n",
    "            \n",
    "    \n",
    "    print(\"Outliers: \", outliers)\n",
    "    \n",
    "    return outliers"
   ]
  }
 ],
 "metadata": {
  "kernelspec": {
   "display_name": "Python 3",
   "language": "python",
   "name": "python3"
  },
  "language_info": {
   "codemirror_mode": {
    "name": "ipython",
    "version": 3
   },
   "file_extension": ".py",
   "mimetype": "text/x-python",
   "name": "python",
   "nbconvert_exporter": "python",
   "pygments_lexer": "ipython3",
   "version": "3.8.5"
  },
  "toc-autonumbering": true,
  "toc-showcode": false
 },
 "nbformat": 4,
 "nbformat_minor": 5
}
